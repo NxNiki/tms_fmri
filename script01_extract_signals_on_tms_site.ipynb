{
 "cells": [
  {
   "cell_type": "code",
   "execution_count": 1,
   "metadata": {},
   "outputs": [],
   "source": [
    "\n",
    "import os, shutil\n",
    "from glob import glob\n",
    "import numpy as np\n",
    "import pandas as pd\n",
    "from nilearn import image, maskers\n",
    "# from nilearn.maskers import NiftiMasker\n",
    "from natsort import natsorted\n",
    "import seaborn as sns\n",
    "from tqdm import tqdm, trange\n",
    "import matplotlib.pyplot as plt\n",
    "from collections import defaultdict\n"
   ]
  },
  {
   "cell_type": "code",
   "execution_count": 2,
   "metadata": {},
   "outputs": [],
   "source": [
    "# change the base dir if working on other platform:\n",
    "base_dir = \"/Users/jingjiang/Library/CloudStorage/GoogleDrive-michaelniki1988@gmail.com/Shared drives/Jing_Drive/\"\n",
    "\n",
    "img_dir = base_dir + \"3_Data_Working/CausalConnectome/post_processing/tmsfmri/group_analysis_HRF_all/\"\n",
    "out_dir = \"out01_tms_induced_respose/\"\n",
    "out_file_name = \"HRF_tms_induced_response.csv\"\n",
    "\n",
    "if not os.path.exists(out_dir):\n",
    "    os.mkdir(out_dir)\n",
    "    "
   ]
  },
  {
   "cell_type": "code",
   "execution_count": 3,
   "metadata": {},
   "outputs": [
    {
     "data": {
      "text/html": [
       "<div>\n",
       "<style scoped>\n",
       "    .dataframe tbody tr th:only-of-type {\n",
       "        vertical-align: middle;\n",
       "    }\n",
       "\n",
       "    .dataframe tbody tr th {\n",
       "        vertical-align: top;\n",
       "    }\n",
       "\n",
       "    .dataframe thead th {\n",
       "        text-align: right;\n",
       "    }\n",
       "</style>\n",
       "<table border=\"1\" class=\"dataframe\">\n",
       "  <thead>\n",
       "    <tr style=\"text-align: right;\">\n",
       "      <th></th>\n",
       "      <th>inputfile</th>\n",
       "      <th>subject</th>\n",
       "      <th>site</th>\n",
       "      <th>group</th>\n",
       "    </tr>\n",
       "  </thead>\n",
       "  <tbody>\n",
       "    <tr>\n",
       "      <th>0</th>\n",
       "      <td>/Users/jingjiang/Library/CloudStorage/GoogleDr...</td>\n",
       "      <td>1001</td>\n",
       "      <td>L_Fp</td>\n",
       "      <td>NTHC</td>\n",
       "    </tr>\n",
       "    <tr>\n",
       "      <th>1</th>\n",
       "      <td>/Users/jingjiang/Library/CloudStorage/GoogleDr...</td>\n",
       "      <td>1003</td>\n",
       "      <td>L_Fp</td>\n",
       "      <td>NTHC</td>\n",
       "    </tr>\n",
       "    <tr>\n",
       "      <th>2</th>\n",
       "      <td>/Users/jingjiang/Library/CloudStorage/GoogleDr...</td>\n",
       "      <td>1036</td>\n",
       "      <td>L_Fp</td>\n",
       "      <td>NTHC</td>\n",
       "    </tr>\n",
       "    <tr>\n",
       "      <th>3</th>\n",
       "      <td>/Users/jingjiang/Library/CloudStorage/GoogleDr...</td>\n",
       "      <td>1037</td>\n",
       "      <td>L_Fp</td>\n",
       "      <td>NTHC</td>\n",
       "    </tr>\n",
       "    <tr>\n",
       "      <th>4</th>\n",
       "      <td>/Users/jingjiang/Library/CloudStorage/GoogleDr...</td>\n",
       "      <td>1038</td>\n",
       "      <td>L_Fp</td>\n",
       "      <td>NTHC</td>\n",
       "    </tr>\n",
       "    <tr>\n",
       "      <th>...</th>\n",
       "      <td>...</td>\n",
       "      <td>...</td>\n",
       "      <td>...</td>\n",
       "      <td>...</td>\n",
       "    </tr>\n",
       "    <tr>\n",
       "      <th>793</th>\n",
       "      <td>/Users/jingjiang/Library/CloudStorage/GoogleDr...</td>\n",
       "      <td>2090</td>\n",
       "      <td>R_preSMA</td>\n",
       "      <td>TEHC</td>\n",
       "    </tr>\n",
       "    <tr>\n",
       "      <th>794</th>\n",
       "      <td>/Users/jingjiang/Library/CloudStorage/GoogleDr...</td>\n",
       "      <td>2093</td>\n",
       "      <td>R_preSMA</td>\n",
       "      <td>TEHC</td>\n",
       "    </tr>\n",
       "    <tr>\n",
       "      <th>795</th>\n",
       "      <td>/Users/jingjiang/Library/CloudStorage/GoogleDr...</td>\n",
       "      <td>2102</td>\n",
       "      <td>R_preSMA</td>\n",
       "      <td>TEHC</td>\n",
       "    </tr>\n",
       "    <tr>\n",
       "      <th>796</th>\n",
       "      <td>/Users/jingjiang/Library/CloudStorage/GoogleDr...</td>\n",
       "      <td>2105</td>\n",
       "      <td>R_preSMA</td>\n",
       "      <td>TEHC</td>\n",
       "    </tr>\n",
       "    <tr>\n",
       "      <th>797</th>\n",
       "      <td>/Users/jingjiang/Library/CloudStorage/GoogleDr...</td>\n",
       "      <td>2108</td>\n",
       "      <td>R_preSMA</td>\n",
       "      <td>TEHC</td>\n",
       "    </tr>\n",
       "  </tbody>\n",
       "</table>\n",
       "<p>798 rows × 4 columns</p>\n",
       "</div>"
      ],
      "text/plain": [
       "                                             inputfile subject      site group\n",
       "0    /Users/jingjiang/Library/CloudStorage/GoogleDr...    1001      L_Fp  NTHC\n",
       "1    /Users/jingjiang/Library/CloudStorage/GoogleDr...    1003      L_Fp  NTHC\n",
       "2    /Users/jingjiang/Library/CloudStorage/GoogleDr...    1036      L_Fp  NTHC\n",
       "3    /Users/jingjiang/Library/CloudStorage/GoogleDr...    1037      L_Fp  NTHC\n",
       "4    /Users/jingjiang/Library/CloudStorage/GoogleDr...    1038      L_Fp  NTHC\n",
       "..                                                 ...     ...       ...   ...\n",
       "793  /Users/jingjiang/Library/CloudStorage/GoogleDr...    2090  R_preSMA  TEHC\n",
       "794  /Users/jingjiang/Library/CloudStorage/GoogleDr...    2093  R_preSMA  TEHC\n",
       "795  /Users/jingjiang/Library/CloudStorage/GoogleDr...    2102  R_preSMA  TEHC\n",
       "796  /Users/jingjiang/Library/CloudStorage/GoogleDr...    2105  R_preSMA  TEHC\n",
       "797  /Users/jingjiang/Library/CloudStorage/GoogleDr...    2108  R_preSMA  TEHC\n",
       "\n",
       "[798 rows x 4 columns]"
      ]
     },
     "execution_count": 3,
     "metadata": {},
     "output_type": "execute_result"
    }
   ],
   "source": [
    "# list all images of beta values and save information to csv file:\n",
    "\n",
    "subject = []\n",
    "site = []\n",
    "path = []\n",
    "group = []\n",
    "\n",
    "roi_list = ['L_Fp', 'L_aMFG', 'L_pMFG', 'R_FEF', 'R_Fp', 'R_IFJ', 'R_IPL','R_M1', 'R_aMFG', 'R_pMFG', 'R_preSMA']\n",
    "\n",
    "tms_response_maps = []\n",
    "for roi in roi_list:\n",
    "    tms_response_maps += glob(img_dir + roi + \"/NTHC_2ndlevel/CausCon*.nii\")\n",
    "    tms_response_maps += glob(img_dir + roi + \"/TEHC_2ndlevel/CausCon*.nii\")\n",
    "\n",
    "tms_response_maps = natsorted(tms_response_maps)\n",
    "\n",
    "for m in tms_response_maps:\n",
    "    file_name_list = os.path.basename(m).split(\"_\")\n",
    "    subject.append(file_name_list[1][4:])\n",
    "    site.append(file_name_list[3] + '_' + file_name_list[4])\n",
    "    group.append(file_name_list[1][:4])\n",
    "    path.append(m)\n",
    "    \n",
    "complete_df = pd.DataFrame()\n",
    "complete_df['inputfile'] = path\n",
    "complete_df['subject'] = subject\n",
    "complete_df['site'] = site\n",
    "complete_df['group'] = group\n",
    "\n",
    "# complete_df.to_csv(out_dir + out_file_name, index=False)\n",
    "complete_df"
   ]
  },
  {
   "cell_type": "code",
   "execution_count": 4,
   "metadata": {},
   "outputs": [
    {
     "data": {
      "text/plain": [
       "'/Users/jingjiang/Library/CloudStorage/GoogleDrive-michaelniki1988@gmail.com/Shared drives/Jing_Drive/3_Data_Working/CausalConnectome/post_processing/tmsfmri/group_analysis_HRF_all/L_Fp/NTHC_2ndlevel/CausCon_NTHC1003_tms_L_Fp_con_0001_mni.nii'"
      ]
     },
     "execution_count": 4,
     "metadata": {},
     "output_type": "execute_result"
    }
   ],
   "source": [
    "complete_df = pd.read_csv(out_dir + out_file_name)\n",
    "complete_df.iloc[1]['inputfile']\n",
    "\n",
    "# test on first 10 rows:\n",
    "# complete_df = complete_df.loc[:10,:]"
   ]
  },
  {
   "cell_type": "markdown",
   "metadata": {},
   "source": [
    "# TMS Site Response from TMS Induced Response Maps"
   ]
  },
  {
   "cell_type": "code",
   "execution_count": 5,
   "metadata": {},
   "outputs": [
    {
     "name": "stderr",
     "output_type": "stream",
     "text": [
      "100%|██████████| 798/798 [14:02<00:00,  1.06s/it]\n"
     ]
    }
   ],
   "source": [
    "# standard roi:\n",
    "roi_dir = base_dir + \"3_Data_Working/CausalConnectome/post_processing/tmsfmri/William/Sept_8/TMS_site_rois/\"\n",
    "\n",
    "tms_site_response = []\n",
    "for i in trange(len(complete_df)):\n",
    "    image_name = complete_df.iloc[i]['inputfile']\n",
    "    site = complete_df.iloc[i]['site']\n",
    "    #subject = complete_df.iloc[i]['subject']\n",
    "    \n",
    "    nifti_masker = maskers.NiftiMasker(glob(roi_dir + site + \".nii*\")[0]).fit()\n",
    "    tms_site_response.append(np.mean(nifti_masker.transform(image_name)))\n",
    "\n",
    "\n",
    "complete_df['tms_site_response_standard'] = tms_site_response\n",
    "# complete_df.to_csv(out_dir + out_file_name, index=False)"
   ]
  },
  {
   "cell_type": "code",
   "execution_count": 6,
   "metadata": {},
   "outputs": [
    {
     "name": "stderr",
     "output_type": "stream",
     "text": [
      "  0%|          | 3/798 [00:00<03:02,  4.35it/s]"
     ]
    },
    {
     "name": "stdout",
     "output_type": "stream",
     "text": [
      "mask not found:  /Users/jingjiang/Library/CloudStorage/GoogleDrive-michaelniki1988@gmail.com/Shared drives/Jing_Drive/3_Data_Working/CausalConnectome/post_processing/tmsfmri/group_analysis_HRF_all/L_Fp/NTHC_2ndlevel/CausCon_NTHC1037_tms_L_Fp_con_0001_mni.nii\n"
     ]
    },
    {
     "name": "stderr",
     "output_type": "stream",
     "text": [
      "  1%|          | 7/798 [00:01<02:46,  4.74it/s]"
     ]
    },
    {
     "name": "stdout",
     "output_type": "stream",
     "text": [
      "mask not found:  /Users/jingjiang/Library/CloudStorage/GoogleDrive-michaelniki1988@gmail.com/Shared drives/Jing_Drive/3_Data_Working/CausalConnectome/post_processing/tmsfmri/group_analysis_HRF_all/L_Fp/NTHC_2ndlevel/CausCon_NTHC1043_tms_L_Fp_con_0001_mni.nii\n"
     ]
    },
    {
     "name": "stderr",
     "output_type": "stream",
     "text": [
      "  1%|▏         | 10/798 [00:01<02:36,  5.03it/s]"
     ]
    },
    {
     "name": "stdout",
     "output_type": "stream",
     "text": [
      "mask not found:  /Users/jingjiang/Library/CloudStorage/GoogleDrive-michaelniki1988@gmail.com/Shared drives/Jing_Drive/3_Data_Working/CausalConnectome/post_processing/tmsfmri/group_analysis_HRF_all/L_Fp/NTHC_2ndlevel/CausCon_NTHC1050_tms_L_Fp_con_0001_mni.nii\n"
     ]
    },
    {
     "name": "stderr",
     "output_type": "stream",
     "text": [
      "  2%|▏         | 13/798 [00:02<02:19,  5.63it/s]"
     ]
    },
    {
     "name": "stdout",
     "output_type": "stream",
     "text": [
      "mask not found:  /Users/jingjiang/Library/CloudStorage/GoogleDrive-michaelniki1988@gmail.com/Shared drives/Jing_Drive/3_Data_Working/CausalConnectome/post_processing/tmsfmri/group_analysis_HRF_all/L_Fp/NTHC_2ndlevel/CausCon_NTHC1055_tms_L_Fp_con_0001_mni.nii\n"
     ]
    },
    {
     "name": "stderr",
     "output_type": "stream",
     "text": [
      "  3%|▎         | 23/798 [00:03<02:13,  5.82it/s]"
     ]
    },
    {
     "name": "stdout",
     "output_type": "stream",
     "text": [
      "mask not found:  /Users/jingjiang/Library/CloudStorage/GoogleDrive-michaelniki1988@gmail.com/Shared drives/Jing_Drive/3_Data_Working/CausalConnectome/post_processing/tmsfmri/group_analysis_HRF_all/L_Fp/NTHC_2ndlevel/CausCon_NTHC1073_tms_L_Fp_con_0001_mni.nii\n"
     ]
    },
    {
     "name": "stderr",
     "output_type": "stream",
     "text": [
      "\r",
      "  3%|▎         | 25/798 [00:04<01:55,  6.67it/s]"
     ]
    },
    {
     "name": "stdout",
     "output_type": "stream",
     "text": [
      "mask not found:  /Users/jingjiang/Library/CloudStorage/GoogleDrive-michaelniki1988@gmail.com/Shared drives/Jing_Drive/3_Data_Working/CausalConnectome/post_processing/tmsfmri/group_analysis_HRF_all/L_Fp/NTHC_2ndlevel/CausCon_NTHC1097_tms_L_Fp_con_0001_mni.nii\n"
     ]
    },
    {
     "name": "stderr",
     "output_type": "stream",
     "text": [
      "  6%|▌         | 44/798 [00:07<02:16,  5.53it/s]"
     ]
    },
    {
     "name": "stdout",
     "output_type": "stream",
     "text": [
      "mask not found:  /Users/jingjiang/Library/CloudStorage/GoogleDrive-michaelniki1988@gmail.com/Shared drives/Jing_Drive/3_Data_Working/CausalConnectome/post_processing/tmsfmri/group_analysis_HRF_all/L_Fp/TEHC_2ndlevel/CausCon_TEHC2047_tms_L_Fp_con_0001_mni.nii\n"
     ]
    },
    {
     "name": "stderr",
     "output_type": "stream",
     "text": [
      "  6%|▋         | 50/798 [00:08<01:51,  6.69it/s]"
     ]
    },
    {
     "name": "stdout",
     "output_type": "stream",
     "text": [
      "mask not found:  /Users/jingjiang/Library/CloudStorage/GoogleDrive-michaelniki1988@gmail.com/Shared drives/Jing_Drive/3_Data_Working/CausalConnectome/post_processing/tmsfmri/group_analysis_HRF_all/L_Fp/TEHC_2ndlevel/CausCon_TEHC2064_tms_L_Fp_con_0001_mni.nii\n",
      "mask not found:  /Users/jingjiang/Library/CloudStorage/GoogleDrive-michaelniki1988@gmail.com/Shared drives/Jing_Drive/3_Data_Working/CausalConnectome/post_processing/tmsfmri/group_analysis_HRF_all/L_Fp/TEHC_2ndlevel/CausCon_TEHC2066_tms_L_Fp_con_0001_mni.nii\n",
      "mask not found:  /Users/jingjiang/Library/CloudStorage/GoogleDrive-michaelniki1988@gmail.com/Shared drives/Jing_Drive/3_Data_Working/CausalConnectome/post_processing/tmsfmri/group_analysis_HRF_all/L_Fp/TEHC_2ndlevel/CausCon_TEHC2069_tms_L_Fp_con_0001_mni.nii\n",
      "mask not found:  /Users/jingjiang/Library/CloudStorage/GoogleDrive-michaelniki1988@gmail.com/Shared drives/Jing_Drive/3_Data_Working/CausalConnectome/post_processing/tmsfmri/group_analysis_HRF_all/L_Fp/TEHC_2ndlevel/CausCon_TEHC2074_tms_L_Fp_con_0001_mni.nii\n"
     ]
    },
    {
     "name": "stderr",
     "output_type": "stream",
     "text": [
      "  7%|▋         | 55/798 [00:09<02:08,  5.78it/s]"
     ]
    },
    {
     "name": "stdout",
     "output_type": "stream",
     "text": [
      "mask not found:  /Users/jingjiang/Library/CloudStorage/GoogleDrive-michaelniki1988@gmail.com/Shared drives/Jing_Drive/3_Data_Working/CausalConnectome/post_processing/tmsfmri/group_analysis_HRF_all/L_Fp/TEHC_2ndlevel/CausCon_TEHC2088_tms_L_Fp_con_0001_mni.nii\n"
     ]
    },
    {
     "name": "stderr",
     "output_type": "stream",
     "text": [
      " 11%|█▏        | 91/798 [00:16<02:23,  4.91it/s]"
     ]
    },
    {
     "name": "stdout",
     "output_type": "stream",
     "text": [
      "mask not found:  /Users/jingjiang/Library/CloudStorage/GoogleDrive-michaelniki1988@gmail.com/Shared drives/Jing_Drive/3_Data_Working/CausalConnectome/post_processing/tmsfmri/group_analysis_HRF_all/L_aMFG/NTHC_2ndlevel/CausCon_NTHC1057_tms_L_aMFG_con_0001_mni.nii\n"
     ]
    },
    {
     "name": "stderr",
     "output_type": "stream",
     "text": [
      " 12%|█▏        | 97/798 [00:18<02:39,  4.40it/s]"
     ]
    },
    {
     "name": "stdout",
     "output_type": "stream",
     "text": [
      "mask not found:  /Users/jingjiang/Library/CloudStorage/GoogleDrive-michaelniki1988@gmail.com/Shared drives/Jing_Drive/3_Data_Working/CausalConnectome/post_processing/tmsfmri/group_analysis_HRF_all/L_aMFG/NTHC_2ndlevel/CausCon_NTHC1073_tms_L_aMFG_con_0001_mni.nii\n"
     ]
    },
    {
     "name": "stderr",
     "output_type": "stream",
     "text": [
      "\r",
      " 12%|█▏        | 99/798 [00:18<02:14,  5.18it/s]"
     ]
    },
    {
     "name": "stdout",
     "output_type": "stream",
     "text": [
      "mask not found:  /Users/jingjiang/Library/CloudStorage/GoogleDrive-michaelniki1988@gmail.com/Shared drives/Jing_Drive/3_Data_Working/CausalConnectome/post_processing/tmsfmri/group_analysis_HRF_all/L_aMFG/NTHC_2ndlevel/CausCon_NTHC1097_tms_L_aMFG_con_0001_mni.nii\n"
     ]
    },
    {
     "name": "stderr",
     "output_type": "stream",
     "text": [
      " 16%|█▌        | 128/798 [00:23<01:50,  6.08it/s]"
     ]
    },
    {
     "name": "stdout",
     "output_type": "stream",
     "text": [
      "mask not found:  /Users/jingjiang/Library/CloudStorage/GoogleDrive-michaelniki1988@gmail.com/Shared drives/Jing_Drive/3_Data_Working/CausalConnectome/post_processing/tmsfmri/group_analysis_HRF_all/L_aMFG/TEHC_2ndlevel/CausCon_TEHC2064_tms_L_aMFG_con_0001_mni.nii\n",
      "mask not found:  /Users/jingjiang/Library/CloudStorage/GoogleDrive-michaelniki1988@gmail.com/Shared drives/Jing_Drive/3_Data_Working/CausalConnectome/post_processing/tmsfmri/group_analysis_HRF_all/L_aMFG/TEHC_2ndlevel/CausCon_TEHC2066_tms_L_aMFG_con_0001_mni.nii\n",
      "mask not found:  /Users/jingjiang/Library/CloudStorage/GoogleDrive-michaelniki1988@gmail.com/Shared drives/Jing_Drive/3_Data_Working/CausalConnectome/post_processing/tmsfmri/group_analysis_HRF_all/L_aMFG/TEHC_2ndlevel/CausCon_TEHC2069_tms_L_aMFG_con_0001_mni.nii\n",
      "mask not found:  /Users/jingjiang/Library/CloudStorage/GoogleDrive-michaelniki1988@gmail.com/Shared drives/Jing_Drive/3_Data_Working/CausalConnectome/post_processing/tmsfmri/group_analysis_HRF_all/L_aMFG/TEHC_2ndlevel/CausCon_TEHC2074_tms_L_aMFG_con_0001_mni.nii\n",
      "mask not found:  /Users/jingjiang/Library/CloudStorage/GoogleDrive-michaelniki1988@gmail.com/Shared drives/Jing_Drive/3_Data_Working/CausalConnectome/post_processing/tmsfmri/group_analysis_HRF_all/L_aMFG/TEHC_2ndlevel/CausCon_TEHC2075_tms_L_aMFG_con_0001_mni.nii\n"
     ]
    },
    {
     "name": "stderr",
     "output_type": "stream",
     "text": [
      " 17%|█▋        | 137/798 [00:24<01:42,  6.48it/s]"
     ]
    },
    {
     "name": "stdout",
     "output_type": "stream",
     "text": [
      "mask not found:  /Users/jingjiang/Library/CloudStorage/GoogleDrive-michaelniki1988@gmail.com/Shared drives/Jing_Drive/3_Data_Working/CausalConnectome/post_processing/tmsfmri/group_analysis_HRF_all/L_aMFG/TEHC_2ndlevel/CausCon_TEHC2096_tms_L_aMFG_con_0001_mni.nii\n"
     ]
    },
    {
     "name": "stderr",
     "output_type": "stream",
     "text": [
      " 19%|█▉        | 150/798 [00:27<02:25,  4.44it/s]"
     ]
    },
    {
     "name": "stdout",
     "output_type": "stream",
     "text": [
      "mask not found:  /Users/jingjiang/Library/CloudStorage/GoogleDrive-michaelniki1988@gmail.com/Shared drives/Jing_Drive/3_Data_Working/CausalConnectome/post_processing/tmsfmri/group_analysis_HRF_all/L_pMFG/NTHC_2ndlevel/CausCon_NTHC1023_tms_L_pMFG_con_0001_mni.nii\n"
     ]
    },
    {
     "name": "stderr",
     "output_type": "stream",
     "text": [
      " 21%|██▏       | 170/798 [00:31<02:09,  4.85it/s]"
     ]
    },
    {
     "name": "stdout",
     "output_type": "stream",
     "text": [
      "mask not found:  /Users/jingjiang/Library/CloudStorage/GoogleDrive-michaelniki1988@gmail.com/Shared drives/Jing_Drive/3_Data_Working/CausalConnectome/post_processing/tmsfmri/group_analysis_HRF_all/L_pMFG/NTHC_2ndlevel/CausCon_NTHC1057_tms_L_pMFG_con_0001_mni.nii\n"
     ]
    },
    {
     "name": "stderr",
     "output_type": "stream",
     "text": [
      " 22%|██▏       | 177/798 [00:33<02:14,  4.61it/s]"
     ]
    },
    {
     "name": "stdout",
     "output_type": "stream",
     "text": [
      "mask not found:  /Users/jingjiang/Library/CloudStorage/GoogleDrive-michaelniki1988@gmail.com/Shared drives/Jing_Drive/3_Data_Working/CausalConnectome/post_processing/tmsfmri/group_analysis_HRF_all/L_pMFG/NTHC_2ndlevel/CausCon_NTHC1073_tms_L_pMFG_con_0001_mni.nii\n"
     ]
    },
    {
     "name": "stderr",
     "output_type": "stream",
     "text": [
      "\r",
      " 22%|██▏       | 179/798 [00:33<01:53,  5.46it/s]"
     ]
    },
    {
     "name": "stdout",
     "output_type": "stream",
     "text": [
      "mask not found:  /Users/jingjiang/Library/CloudStorage/GoogleDrive-michaelniki1988@gmail.com/Shared drives/Jing_Drive/3_Data_Working/CausalConnectome/post_processing/tmsfmri/group_analysis_HRF_all/L_pMFG/NTHC_2ndlevel/CausCon_NTHC1097_tms_L_pMFG_con_0001_mni.nii\n"
     ]
    },
    {
     "name": "stderr",
     "output_type": "stream",
     "text": [
      " 25%|██▍       | 198/798 [00:37<02:00,  4.96it/s]"
     ]
    },
    {
     "name": "stdout",
     "output_type": "stream",
     "text": [
      "error occurs for mask:  /Users/jingjiang/Library/CloudStorage/GoogleDrive-michaelniki1988@gmail.com/Shared drives/Jing_Drive//3_Data_Working/CausalConnectome/post_processing/tmsfmri/William/Nov_3/tms_spheres/L-pMFG/2040_6mm.nii.gz\n"
     ]
    },
    {
     "name": "stderr",
     "output_type": "stream",
     "text": [
      " 26%|██▌       | 204/798 [00:38<02:03,  4.82it/s]"
     ]
    },
    {
     "name": "stdout",
     "output_type": "stream",
     "text": [
      "mask not found:  /Users/jingjiang/Library/CloudStorage/GoogleDrive-michaelniki1988@gmail.com/Shared drives/Jing_Drive/3_Data_Working/CausalConnectome/post_processing/tmsfmri/group_analysis_HRF_all/L_pMFG/TEHC_2ndlevel/CausCon_TEHC2064_tms_L_pMFG_con_0001_mni.nii\n"
     ]
    },
    {
     "name": "stderr",
     "output_type": "stream",
     "text": [
      "\r",
      " 26%|██▌       | 206/798 [00:38<01:43,  5.69it/s]"
     ]
    },
    {
     "name": "stdout",
     "output_type": "stream",
     "text": [
      "mask not found:  /Users/jingjiang/Library/CloudStorage/GoogleDrive-michaelniki1988@gmail.com/Shared drives/Jing_Drive/3_Data_Working/CausalConnectome/post_processing/tmsfmri/group_analysis_HRF_all/L_pMFG/TEHC_2ndlevel/CausCon_TEHC2069_tms_L_pMFG_con_0001_mni.nii\n"
     ]
    },
    {
     "name": "stderr",
     "output_type": "stream",
     "text": [
      "\r",
      " 26%|██▌       | 208/798 [00:38<01:31,  6.45it/s]"
     ]
    },
    {
     "name": "stdout",
     "output_type": "stream",
     "text": [
      "mask not found:  /Users/jingjiang/Library/CloudStorage/GoogleDrive-michaelniki1988@gmail.com/Shared drives/Jing_Drive/3_Data_Working/CausalConnectome/post_processing/tmsfmri/group_analysis_HRF_all/L_pMFG/TEHC_2ndlevel/CausCon_TEHC2074_tms_L_pMFG_con_0001_mni.nii\n",
      "mask not found:  /Users/jingjiang/Library/CloudStorage/GoogleDrive-michaelniki1988@gmail.com/Shared drives/Jing_Drive/3_Data_Working/CausalConnectome/post_processing/tmsfmri/group_analysis_HRF_all/L_pMFG/TEHC_2ndlevel/CausCon_TEHC2075_tms_L_pMFG_con_0001_mni.nii\n"
     ]
    },
    {
     "name": "stderr",
     "output_type": "stream",
     "text": [
      " 27%|██▋       | 212/798 [00:39<01:34,  6.21it/s]"
     ]
    },
    {
     "name": "stdout",
     "output_type": "stream",
     "text": [
      "mask not found:  /Users/jingjiang/Library/CloudStorage/GoogleDrive-michaelniki1988@gmail.com/Shared drives/Jing_Drive/3_Data_Working/CausalConnectome/post_processing/tmsfmri/group_analysis_HRF_all/L_pMFG/TEHC_2ndlevel/CausCon_TEHC2088_tms_L_pMFG_con_0001_mni.nii\n"
     ]
    },
    {
     "name": "stderr",
     "output_type": "stream",
     "text": [
      " 27%|██▋       | 215/798 [00:39<01:40,  5.82it/s]"
     ]
    },
    {
     "name": "stdout",
     "output_type": "stream",
     "text": [
      "mask not found:  /Users/jingjiang/Library/CloudStorage/GoogleDrive-michaelniki1988@gmail.com/Shared drives/Jing_Drive/3_Data_Working/CausalConnectome/post_processing/tmsfmri/group_analysis_HRF_all/L_pMFG/TEHC_2ndlevel/CausCon_TEHC2096_tms_L_pMFG_con_0001_mni.nii\n"
     ]
    },
    {
     "name": "stderr",
     "output_type": "stream",
     "text": [
      " 29%|██▊       | 229/798 [00:42<01:59,  4.77it/s]"
     ]
    },
    {
     "name": "stdout",
     "output_type": "stream",
     "text": [
      "mask not found:  /Users/jingjiang/Library/CloudStorage/GoogleDrive-michaelniki1988@gmail.com/Shared drives/Jing_Drive/3_Data_Working/CausalConnectome/post_processing/tmsfmri/group_analysis_HRF_all/R_FEF/NTHC_2ndlevel/CausCon_NTHC1023_tms_R_FEF_con_0001_mni.nii\n"
     ]
    },
    {
     "name": "stderr",
     "output_type": "stream",
     "text": [
      " 31%|███       | 249/798 [00:46<01:59,  4.61it/s]"
     ]
    },
    {
     "name": "stdout",
     "output_type": "stream",
     "text": [
      "mask not found:  /Users/jingjiang/Library/CloudStorage/GoogleDrive-michaelniki1988@gmail.com/Shared drives/Jing_Drive/3_Data_Working/CausalConnectome/post_processing/tmsfmri/group_analysis_HRF_all/R_FEF/NTHC_2ndlevel/CausCon_NTHC1057_tms_R_FEF_con_0001_mni.nii\n"
     ]
    },
    {
     "name": "stderr",
     "output_type": "stream",
     "text": [
      " 32%|███▏      | 256/798 [00:48<01:58,  4.59it/s]"
     ]
    },
    {
     "name": "stdout",
     "output_type": "stream",
     "text": [
      "mask not found:  /Users/jingjiang/Library/CloudStorage/GoogleDrive-michaelniki1988@gmail.com/Shared drives/Jing_Drive/3_Data_Working/CausalConnectome/post_processing/tmsfmri/group_analysis_HRF_all/R_FEF/NTHC_2ndlevel/CausCon_NTHC1073_tms_R_FEF_con_0001_mni.nii\n"
     ]
    },
    {
     "name": "stderr",
     "output_type": "stream",
     "text": [
      " 33%|███▎      | 260/798 [00:48<01:25,  6.28it/s]"
     ]
    },
    {
     "name": "stdout",
     "output_type": "stream",
     "text": [
      "mask not found:  /Users/jingjiang/Library/CloudStorage/GoogleDrive-michaelniki1988@gmail.com/Shared drives/Jing_Drive/3_Data_Working/CausalConnectome/post_processing/tmsfmri/group_analysis_HRF_all/R_FEF/NTHC_2ndlevel/CausCon_NTHC1097_tms_R_FEF_con_0001_mni.nii\n"
     ]
    },
    {
     "name": "stderr",
     "output_type": "stream",
     "text": [
      " 34%|███▎      | 268/798 [00:49<01:29,  5.92it/s]"
     ]
    },
    {
     "name": "stdout",
     "output_type": "stream",
     "text": [
      "mask not found:  /Users/jingjiang/Library/CloudStorage/GoogleDrive-michaelniki1988@gmail.com/Shared drives/Jing_Drive/3_Data_Working/CausalConnectome/post_processing/tmsfmri/group_analysis_HRF_all/R_FEF/TEHC_2ndlevel/CausCon_TEHC2005_tms_R_FEF_con_0001_mni.nii\n"
     ]
    },
    {
     "name": "stderr",
     "output_type": "stream",
     "text": [
      " 35%|███▌      | 281/798 [00:52<01:46,  4.84it/s]"
     ]
    },
    {
     "name": "stdout",
     "output_type": "stream",
     "text": [
      "mask not found:  /Users/jingjiang/Library/CloudStorage/GoogleDrive-michaelniki1988@gmail.com/Shared drives/Jing_Drive/3_Data_Working/CausalConnectome/post_processing/tmsfmri/group_analysis_HRF_all/R_FEF/TEHC_2ndlevel/CausCon_TEHC2064_tms_R_FEF_con_0001_mni.nii\n",
      "mask not found:  /Users/jingjiang/Library/CloudStorage/GoogleDrive-michaelniki1988@gmail.com/Shared drives/Jing_Drive/3_Data_Working/CausalConnectome/post_processing/tmsfmri/group_analysis_HRF_all/R_FEF/TEHC_2ndlevel/CausCon_TEHC2066_tms_R_FEF_con_0001_mni.nii\n",
      "mask not found:  /Users/jingjiang/Library/CloudStorage/GoogleDrive-michaelniki1988@gmail.com/Shared drives/Jing_Drive/3_Data_Working/CausalConnectome/post_processing/tmsfmri/group_analysis_HRF_all/R_FEF/TEHC_2ndlevel/CausCon_TEHC2069_tms_R_FEF_con_0001_mni.nii\n"
     ]
    },
    {
     "name": "stderr",
     "output_type": "stream",
     "text": [
      "\r",
      " 36%|███▌      | 285/798 [00:52<01:22,  6.25it/s]"
     ]
    },
    {
     "name": "stdout",
     "output_type": "stream",
     "text": [
      "mask not found:  /Users/jingjiang/Library/CloudStorage/GoogleDrive-michaelniki1988@gmail.com/Shared drives/Jing_Drive/3_Data_Working/CausalConnectome/post_processing/tmsfmri/group_analysis_HRF_all/R_FEF/TEHC_2ndlevel/CausCon_TEHC2074_tms_R_FEF_con_0001_mni.nii\n"
     ]
    },
    {
     "name": "stderr",
     "output_type": "stream",
     "text": [
      " 36%|███▋      | 290/798 [00:53<01:37,  5.18it/s]"
     ]
    },
    {
     "name": "stdout",
     "output_type": "stream",
     "text": [
      "mask not found:  /Users/jingjiang/Library/CloudStorage/GoogleDrive-michaelniki1988@gmail.com/Shared drives/Jing_Drive/3_Data_Working/CausalConnectome/post_processing/tmsfmri/group_analysis_HRF_all/R_FEF/TEHC_2ndlevel/CausCon_TEHC2088_tms_R_FEF_con_0001_mni.nii\n"
     ]
    },
    {
     "name": "stderr",
     "output_type": "stream",
     "text": [
      " 38%|███▊      | 301/798 [00:55<01:39,  5.00it/s]"
     ]
    },
    {
     "name": "stdout",
     "output_type": "stream",
     "text": [
      "mask not found:  /Users/jingjiang/Library/CloudStorage/GoogleDrive-michaelniki1988@gmail.com/Shared drives/Jing_Drive/3_Data_Working/CausalConnectome/post_processing/tmsfmri/group_analysis_HRF_all/R_Fp/NTHC_2ndlevel/CausCon_NTHC1003_tms_R_Fp_con_0001_mni.nii\n"
     ]
    },
    {
     "name": "stderr",
     "output_type": "stream",
     "text": [
      " 38%|███▊      | 307/798 [00:56<01:25,  5.72it/s]"
     ]
    },
    {
     "name": "stdout",
     "output_type": "stream",
     "text": [
      "error occurs for mask:  /Users/jingjiang/Library/CloudStorage/GoogleDrive-michaelniki1988@gmail.com/Shared drives/Jing_Drive//3_Data_Working/CausalConnectome/post_processing/tmsfmri/William/Nov_3/tms_spheres/R-Fp/1027_6mm.nii.gz\n"
     ]
    },
    {
     "name": "stderr",
     "output_type": "stream",
     "text": [
      " 39%|███▉      | 311/798 [00:57<01:25,  5.70it/s]"
     ]
    },
    {
     "name": "stdout",
     "output_type": "stream",
     "text": [
      "error occurs for mask:  /Users/jingjiang/Library/CloudStorage/GoogleDrive-michaelniki1988@gmail.com/Shared drives/Jing_Drive//3_Data_Working/CausalConnectome/post_processing/tmsfmri/William/Nov_3/tms_spheres/R-Fp/1038_6mm.nii.gz\n"
     ]
    },
    {
     "name": "stderr",
     "output_type": "stream",
     "text": [
      " 39%|███▉      | 315/798 [00:58<01:14,  6.46it/s]"
     ]
    },
    {
     "name": "stdout",
     "output_type": "stream",
     "text": [
      "mask not found:  /Users/jingjiang/Library/CloudStorage/GoogleDrive-michaelniki1988@gmail.com/Shared drives/Jing_Drive/3_Data_Working/CausalConnectome/post_processing/tmsfmri/group_analysis_HRF_all/R_Fp/NTHC_2ndlevel/CausCon_NTHC1043_tms_R_Fp_con_0001_mni.nii\n",
      "error occurs for mask:  /Users/jingjiang/Library/CloudStorage/GoogleDrive-michaelniki1988@gmail.com/Shared drives/Jing_Drive//3_Data_Working/CausalConnectome/post_processing/tmsfmri/William/Nov_3/tms_spheres/R-Fp/1047_6mm.nii.gz\n"
     ]
    },
    {
     "name": "stderr",
     "output_type": "stream",
     "text": [
      "\r",
      " 40%|███▉      | 316/798 [00:58<01:23,  5.77it/s]"
     ]
    },
    {
     "name": "stdout",
     "output_type": "stream",
     "text": [
      "mask not found:  /Users/jingjiang/Library/CloudStorage/GoogleDrive-michaelniki1988@gmail.com/Shared drives/Jing_Drive/3_Data_Working/CausalConnectome/post_processing/tmsfmri/group_analysis_HRF_all/R_Fp/NTHC_2ndlevel/CausCon_NTHC1050_tms_R_Fp_con_0001_mni.nii\n"
     ]
    },
    {
     "name": "stderr",
     "output_type": "stream",
     "text": [
      " 40%|███▉      | 319/798 [00:58<01:14,  6.47it/s]"
     ]
    },
    {
     "name": "stdout",
     "output_type": "stream",
     "text": [
      "error occurs for mask:  /Users/jingjiang/Library/CloudStorage/GoogleDrive-michaelniki1988@gmail.com/Shared drives/Jing_Drive//3_Data_Working/CausalConnectome/post_processing/tmsfmri/William/Nov_3/tms_spheres/R-Fp/1053_6mm.nii.gz\n",
      "mask not found:  /Users/jingjiang/Library/CloudStorage/GoogleDrive-michaelniki1988@gmail.com/Shared drives/Jing_Drive/3_Data_Working/CausalConnectome/post_processing/tmsfmri/group_analysis_HRF_all/R_Fp/NTHC_2ndlevel/CausCon_NTHC1055_tms_R_Fp_con_0001_mni.nii\n"
     ]
    },
    {
     "name": "stderr",
     "output_type": "stream",
     "text": [
      " 41%|████      | 327/798 [01:00<01:34,  4.98it/s]"
     ]
    },
    {
     "name": "stdout",
     "output_type": "stream",
     "text": [
      "mask not found:  /Users/jingjiang/Library/CloudStorage/GoogleDrive-michaelniki1988@gmail.com/Shared drives/Jing_Drive/3_Data_Working/CausalConnectome/post_processing/tmsfmri/group_analysis_HRF_all/R_Fp/NTHC_2ndlevel/CausCon_NTHC1073_tms_R_Fp_con_0001_mni.nii\n"
     ]
    },
    {
     "name": "stderr",
     "output_type": "stream",
     "text": [
      "\r",
      " 41%|████      | 329/798 [01:00<01:22,  5.70it/s]"
     ]
    },
    {
     "name": "stdout",
     "output_type": "stream",
     "text": [
      "mask not found:  /Users/jingjiang/Library/CloudStorage/GoogleDrive-michaelniki1988@gmail.com/Shared drives/Jing_Drive/3_Data_Working/CausalConnectome/post_processing/tmsfmri/group_analysis_HRF_all/R_Fp/NTHC_2ndlevel/CausCon_NTHC1097_tms_R_Fp_con_0001_mni.nii\n"
     ]
    },
    {
     "name": "stderr",
     "output_type": "stream",
     "text": [
      " 43%|████▎     | 341/798 [01:02<01:19,  5.72it/s]"
     ]
    },
    {
     "name": "stdout",
     "output_type": "stream",
     "text": [
      "mask not found:  /Users/jingjiang/Library/CloudStorage/GoogleDrive-michaelniki1988@gmail.com/Shared drives/Jing_Drive/3_Data_Working/CausalConnectome/post_processing/tmsfmri/group_analysis_HRF_all/R_Fp/TEHC_2ndlevel/CausCon_TEHC2010_tms_R_Fp_con_0001_mni.nii\n"
     ]
    },
    {
     "name": "stderr",
     "output_type": "stream",
     "text": [
      " 44%|████▎     | 348/798 [01:03<01:15,  5.95it/s]"
     ]
    },
    {
     "name": "stdout",
     "output_type": "stream",
     "text": [
      "mask not found:  /Users/jingjiang/Library/CloudStorage/GoogleDrive-michaelniki1988@gmail.com/Shared drives/Jing_Drive/3_Data_Working/CausalConnectome/post_processing/tmsfmri/group_analysis_HRF_all/R_Fp/TEHC_2ndlevel/CausCon_TEHC2047_tms_R_Fp_con_0001_mni.nii\n"
     ]
    },
    {
     "name": "stderr",
     "output_type": "stream",
     "text": [
      " 44%|████▍     | 350/798 [01:04<01:21,  5.49it/s]"
     ]
    },
    {
     "name": "stdout",
     "output_type": "stream",
     "text": [
      "mask not found:  /Users/jingjiang/Library/CloudStorage/GoogleDrive-michaelniki1988@gmail.com/Shared drives/Jing_Drive/3_Data_Working/CausalConnectome/post_processing/tmsfmri/group_analysis_HRF_all/R_Fp/TEHC_2ndlevel/CausCon_TEHC2064_tms_R_Fp_con_0001_mni.nii\n",
      "mask not found:  /Users/jingjiang/Library/CloudStorage/GoogleDrive-michaelniki1988@gmail.com/Shared drives/Jing_Drive/3_Data_Working/CausalConnectome/post_processing/tmsfmri/group_analysis_HRF_all/R_Fp/TEHC_2ndlevel/CausCon_TEHC2066_tms_R_Fp_con_0001_mni.nii\n",
      "mask not found:  /Users/jingjiang/Library/CloudStorage/GoogleDrive-michaelniki1988@gmail.com/Shared drives/Jing_Drive/3_Data_Working/CausalConnectome/post_processing/tmsfmri/group_analysis_HRF_all/R_Fp/TEHC_2ndlevel/CausCon_TEHC2069_tms_R_Fp_con_0001_mni.nii\n"
     ]
    },
    {
     "name": "stderr",
     "output_type": "stream",
     "text": [
      "\r",
      " 44%|████▍     | 354/798 [01:04<01:03,  7.00it/s]"
     ]
    },
    {
     "name": "stdout",
     "output_type": "stream",
     "text": [
      "mask not found:  /Users/jingjiang/Library/CloudStorage/GoogleDrive-michaelniki1988@gmail.com/Shared drives/Jing_Drive/3_Data_Working/CausalConnectome/post_processing/tmsfmri/group_analysis_HRF_all/R_Fp/TEHC_2ndlevel/CausCon_TEHC2074_tms_R_Fp_con_0001_mni.nii\n"
     ]
    },
    {
     "name": "stderr",
     "output_type": "stream",
     "text": [
      " 45%|████▍     | 358/798 [01:05<01:06,  6.65it/s]"
     ]
    },
    {
     "name": "stdout",
     "output_type": "stream",
     "text": [
      "error occurs for mask:  /Users/jingjiang/Library/CloudStorage/GoogleDrive-michaelniki1988@gmail.com/Shared drives/Jing_Drive//3_Data_Working/CausalConnectome/post_processing/tmsfmri/William/Nov_3/tms_spheres/R-Fp/2079_6mm.nii.gz\n"
     ]
    },
    {
     "name": "stderr",
     "output_type": "stream",
     "text": [
      " 45%|████▌     | 361/798 [01:05<01:04,  6.80it/s]"
     ]
    },
    {
     "name": "stdout",
     "output_type": "stream",
     "text": [
      "mask not found:  /Users/jingjiang/Library/CloudStorage/GoogleDrive-michaelniki1988@gmail.com/Shared drives/Jing_Drive/3_Data_Working/CausalConnectome/post_processing/tmsfmri/group_analysis_HRF_all/R_Fp/TEHC_2ndlevel/CausCon_TEHC2088_tms_R_Fp_con_0001_mni.nii\n"
     ]
    },
    {
     "name": "stderr",
     "output_type": "stream",
     "text": [
      " 50%|████▉     | 398/798 [01:33<06:21,  1.05it/s]"
     ]
    },
    {
     "name": "stdout",
     "output_type": "stream",
     "text": [
      "mask not found:  /Users/jingjiang/Library/CloudStorage/GoogleDrive-michaelniki1988@gmail.com/Shared drives/Jing_Drive/3_Data_Working/CausalConnectome/post_processing/tmsfmri/group_analysis_HRF_all/R_IFJ/NTHC_2ndlevel/CausCon_NTHC1073_tms_R_IFJ_con_0001_mni.nii\n"
     ]
    },
    {
     "name": "stderr",
     "output_type": "stream",
     "text": [
      "\r",
      " 50%|█████     | 400/798 [01:34<05:06,  1.30it/s]"
     ]
    },
    {
     "name": "stdout",
     "output_type": "stream",
     "text": [
      "mask not found:  /Users/jingjiang/Library/CloudStorage/GoogleDrive-michaelniki1988@gmail.com/Shared drives/Jing_Drive/3_Data_Working/CausalConnectome/post_processing/tmsfmri/group_analysis_HRF_all/R_IFJ/NTHC_2ndlevel/CausCon_NTHC1097_tms_R_IFJ_con_0001_mni.nii\n"
     ]
    },
    {
     "name": "stderr",
     "output_type": "stream",
     "text": [
      " 53%|█████▎    | 419/798 [01:42<01:27,  4.35it/s]"
     ]
    },
    {
     "name": "stdout",
     "output_type": "stream",
     "text": [
      "mask not found:  /Users/jingjiang/Library/CloudStorage/GoogleDrive-michaelniki1988@gmail.com/Shared drives/Jing_Drive/3_Data_Working/CausalConnectome/post_processing/tmsfmri/group_analysis_HRF_all/R_IFJ/TEHC_2ndlevel/CausCon_TEHC2040_tms_R_IFJ_con_0001_mni.nii\n"
     ]
    },
    {
     "name": "stderr",
     "output_type": "stream",
     "text": [
      " 53%|█████▎    | 426/798 [01:44<01:20,  4.64it/s]"
     ]
    },
    {
     "name": "stdout",
     "output_type": "stream",
     "text": [
      "mask not found:  /Users/jingjiang/Library/CloudStorage/GoogleDrive-michaelniki1988@gmail.com/Shared drives/Jing_Drive/3_Data_Working/CausalConnectome/post_processing/tmsfmri/group_analysis_HRF_all/R_IFJ/TEHC_2ndlevel/CausCon_TEHC2064_tms_R_IFJ_con_0001_mni.nii\n",
      "mask not found:  /Users/jingjiang/Library/CloudStorage/GoogleDrive-michaelniki1988@gmail.com/Shared drives/Jing_Drive/3_Data_Working/CausalConnectome/post_processing/tmsfmri/group_analysis_HRF_all/R_IFJ/TEHC_2ndlevel/CausCon_TEHC2066_tms_R_IFJ_con_0001_mni.nii\n",
      "mask not found:  /Users/jingjiang/Library/CloudStorage/GoogleDrive-michaelniki1988@gmail.com/Shared drives/Jing_Drive/3_Data_Working/CausalConnectome/post_processing/tmsfmri/group_analysis_HRF_all/R_IFJ/TEHC_2ndlevel/CausCon_TEHC2069_tms_R_IFJ_con_0001_mni.nii\n"
     ]
    },
    {
     "name": "stderr",
     "output_type": "stream",
     "text": [
      " 54%|█████▍    | 433/798 [01:44<00:48,  7.45it/s]"
     ]
    },
    {
     "name": "stdout",
     "output_type": "stream",
     "text": [
      "mask not found:  /Users/jingjiang/Library/CloudStorage/GoogleDrive-michaelniki1988@gmail.com/Shared drives/Jing_Drive/3_Data_Working/CausalConnectome/post_processing/tmsfmri/group_analysis_HRF_all/R_IFJ/TEHC_2ndlevel/CausCon_TEHC2074_tms_R_IFJ_con_0001_mni.nii\n",
      "mask not found:  /Users/jingjiang/Library/CloudStorage/GoogleDrive-michaelniki1988@gmail.com/Shared drives/Jing_Drive/3_Data_Working/CausalConnectome/post_processing/tmsfmri/group_analysis_HRF_all/R_IFJ/TEHC_2ndlevel/CausCon_TEHC2075_tms_R_IFJ_con_0001_mni.nii\n"
     ]
    },
    {
     "name": "stderr",
     "output_type": "stream",
     "text": [
      " 55%|█████▍    | 437/798 [01:45<00:51,  7.05it/s]"
     ]
    },
    {
     "name": "stdout",
     "output_type": "stream",
     "text": [
      "mask not found:  /Users/jingjiang/Library/CloudStorage/GoogleDrive-michaelniki1988@gmail.com/Shared drives/Jing_Drive/3_Data_Working/CausalConnectome/post_processing/tmsfmri/group_analysis_HRF_all/R_IFJ/TEHC_2ndlevel/CausCon_TEHC2088_tms_R_IFJ_con_0001_mni.nii\n"
     ]
    },
    {
     "name": "stderr",
     "output_type": "stream",
     "text": [
      " 58%|█████▊    | 459/798 [01:49<00:58,  5.80it/s]"
     ]
    },
    {
     "name": "stdout",
     "output_type": "stream",
     "text": [
      "mask not found:  /Users/jingjiang/Library/CloudStorage/GoogleDrive-michaelniki1988@gmail.com/Shared drives/Jing_Drive/3_Data_Working/CausalConnectome/post_processing/tmsfmri/group_analysis_HRF_all/R_IPL/NTHC_2ndlevel/CausCon_NTHC1057_tms_R_IPL_con_0001_mni.nii\n"
     ]
    },
    {
     "name": "stderr",
     "output_type": "stream",
     "text": [
      " 58%|█████▊    | 463/798 [01:50<01:08,  4.93it/s]"
     ]
    },
    {
     "name": "stdout",
     "output_type": "stream",
     "text": [
      "mask not found:  /Users/jingjiang/Library/CloudStorage/GoogleDrive-michaelniki1988@gmail.com/Shared drives/Jing_Drive/3_Data_Working/CausalConnectome/post_processing/tmsfmri/group_analysis_HRF_all/R_IPL/NTHC_2ndlevel/CausCon_NTHC1073_tms_R_IPL_con_0001_mni.nii\n"
     ]
    },
    {
     "name": "stderr",
     "output_type": "stream",
     "text": [
      "\r",
      " 58%|█████▊    | 465/798 [01:50<00:58,  5.71it/s]"
     ]
    },
    {
     "name": "stdout",
     "output_type": "stream",
     "text": [
      "mask not found:  /Users/jingjiang/Library/CloudStorage/GoogleDrive-michaelniki1988@gmail.com/Shared drives/Jing_Drive/3_Data_Working/CausalConnectome/post_processing/tmsfmri/group_analysis_HRF_all/R_IPL/NTHC_2ndlevel/CausCon_NTHC1097_tms_R_IPL_con_0001_mni.nii\n"
     ]
    },
    {
     "name": "stderr",
     "output_type": "stream",
     "text": [
      " 60%|██████    | 482/798 [01:53<00:51,  6.08it/s]"
     ]
    },
    {
     "name": "stdout",
     "output_type": "stream",
     "text": [
      "mask not found:  /Users/jingjiang/Library/CloudStorage/GoogleDrive-michaelniki1988@gmail.com/Shared drives/Jing_Drive/3_Data_Working/CausalConnectome/post_processing/tmsfmri/group_analysis_HRF_all/R_IPL/TEHC_2ndlevel/CausCon_TEHC2064_tms_R_IPL_con_0001_mni.nii\n",
      "mask not found:  /Users/jingjiang/Library/CloudStorage/GoogleDrive-michaelniki1988@gmail.com/Shared drives/Jing_Drive/3_Data_Working/CausalConnectome/post_processing/tmsfmri/group_analysis_HRF_all/R_IPL/TEHC_2ndlevel/CausCon_TEHC2066_tms_R_IPL_con_0001_mni.nii\n",
      "mask not found:  /Users/jingjiang/Library/CloudStorage/GoogleDrive-michaelniki1988@gmail.com/Shared drives/Jing_Drive/3_Data_Working/CausalConnectome/post_processing/tmsfmri/group_analysis_HRF_all/R_IPL/TEHC_2ndlevel/CausCon_TEHC2074_tms_R_IPL_con_0001_mni.nii\n"
     ]
    },
    {
     "name": "stderr",
     "output_type": "stream",
     "text": [
      " 61%|██████▏   | 489/798 [01:54<00:47,  6.50it/s]"
     ]
    },
    {
     "name": "stdout",
     "output_type": "stream",
     "text": [
      "mask not found:  /Users/jingjiang/Library/CloudStorage/GoogleDrive-michaelniki1988@gmail.com/Shared drives/Jing_Drive/3_Data_Working/CausalConnectome/post_processing/tmsfmri/group_analysis_HRF_all/R_IPL/TEHC_2ndlevel/CausCon_TEHC2088_tms_R_IPL_con_0001_mni.nii\n"
     ]
    },
    {
     "name": "stderr",
     "output_type": "stream",
     "text": [
      " 63%|██████▎   | 505/798 [01:57<00:49,  5.94it/s]"
     ]
    },
    {
     "name": "stdout",
     "output_type": "stream",
     "text": [
      "mask not found:  /Users/jingjiang/Library/CloudStorage/GoogleDrive-michaelniki1988@gmail.com/Shared drives/Jing_Drive/3_Data_Working/CausalConnectome/post_processing/tmsfmri/group_analysis_HRF_all/R_M1/NTHC_2ndlevel/CausCon_NTHC1023_tms_R_M1_con_0001_mni.nii\n"
     ]
    },
    {
     "name": "stderr",
     "output_type": "stream",
     "text": [
      " 65%|██████▌   | 522/798 [02:00<00:49,  5.54it/s]"
     ]
    },
    {
     "name": "stdout",
     "output_type": "stream",
     "text": [
      "error occurs for mask:  /Users/jingjiang/Library/CloudStorage/GoogleDrive-michaelniki1988@gmail.com/Shared drives/Jing_Drive//3_Data_Working/CausalConnectome/post_processing/tmsfmri/William/Nov_3/tms_spheres/R-M1/1055_6mm.nii.gz\n"
     ]
    },
    {
     "name": "stderr",
     "output_type": "stream",
     "text": [
      "\r",
      " 66%|██████▌   | 523/798 [02:01<00:51,  5.32it/s]"
     ]
    },
    {
     "name": "stdout",
     "output_type": "stream",
     "text": [
      "mask not found:  /Users/jingjiang/Library/CloudStorage/GoogleDrive-michaelniki1988@gmail.com/Shared drives/Jing_Drive/3_Data_Working/CausalConnectome/post_processing/tmsfmri/group_analysis_HRF_all/R_M1/NTHC_2ndlevel/CausCon_NTHC1057_tms_R_M1_con_0001_mni.nii\n"
     ]
    },
    {
     "name": "stderr",
     "output_type": "stream",
     "text": [
      " 66%|██████▋   | 529/798 [02:02<00:54,  4.98it/s]"
     ]
    },
    {
     "name": "stdout",
     "output_type": "stream",
     "text": [
      "mask not found:  /Users/jingjiang/Library/CloudStorage/GoogleDrive-michaelniki1988@gmail.com/Shared drives/Jing_Drive/3_Data_Working/CausalConnectome/post_processing/tmsfmri/group_analysis_HRF_all/R_M1/NTHC_2ndlevel/CausCon_NTHC1073_tms_R_M1_con_0001_mni.nii\n"
     ]
    },
    {
     "name": "stderr",
     "output_type": "stream",
     "text": [
      "\r",
      " 67%|██████▋   | 531/798 [02:02<00:46,  5.71it/s]"
     ]
    },
    {
     "name": "stdout",
     "output_type": "stream",
     "text": [
      "mask not found:  /Users/jingjiang/Library/CloudStorage/GoogleDrive-michaelniki1988@gmail.com/Shared drives/Jing_Drive/3_Data_Working/CausalConnectome/post_processing/tmsfmri/group_analysis_HRF_all/R_M1/NTHC_2ndlevel/CausCon_NTHC1097_tms_R_M1_con_0001_mni.nii\n"
     ]
    },
    {
     "name": "stderr",
     "output_type": "stream",
     "text": [
      " 70%|██████▉   | 556/798 [11:42<03:25,  1.18it/s]    "
     ]
    },
    {
     "name": "stdout",
     "output_type": "stream",
     "text": [
      "mask not found:  /Users/jingjiang/Library/CloudStorage/GoogleDrive-michaelniki1988@gmail.com/Shared drives/Jing_Drive/3_Data_Working/CausalConnectome/post_processing/tmsfmri/group_analysis_HRF_all/R_M1/TEHC_2ndlevel/CausCon_TEHC2064_tms_R_M1_con_0001_mni.nii\n",
      "mask not found:  /Users/jingjiang/Library/CloudStorage/GoogleDrive-michaelniki1988@gmail.com/Shared drives/Jing_Drive/3_Data_Working/CausalConnectome/post_processing/tmsfmri/group_analysis_HRF_all/R_M1/TEHC_2ndlevel/CausCon_TEHC2066_tms_R_M1_con_0001_mni.nii\n",
      "mask not found:  /Users/jingjiang/Library/CloudStorage/GoogleDrive-michaelniki1988@gmail.com/Shared drives/Jing_Drive/3_Data_Working/CausalConnectome/post_processing/tmsfmri/group_analysis_HRF_all/R_M1/TEHC_2ndlevel/CausCon_TEHC2069_tms_R_M1_con_0001_mni.nii\n"
     ]
    },
    {
     "name": "stderr",
     "output_type": "stream",
     "text": [
      "\r",
      " 70%|███████   | 560/798 [11:42<02:26,  1.63it/s]"
     ]
    },
    {
     "name": "stdout",
     "output_type": "stream",
     "text": [
      "mask not found:  /Users/jingjiang/Library/CloudStorage/GoogleDrive-michaelniki1988@gmail.com/Shared drives/Jing_Drive/3_Data_Working/CausalConnectome/post_processing/tmsfmri/group_analysis_HRF_all/R_M1/TEHC_2ndlevel/CausCon_TEHC2074_tms_R_M1_con_0001_mni.nii\n"
     ]
    },
    {
     "name": "stderr",
     "output_type": "stream",
     "text": [
      " 71%|███████   | 564/798 [11:43<01:18,  2.98it/s]"
     ]
    },
    {
     "name": "stdout",
     "output_type": "stream",
     "text": [
      "error occurs for mask:  /Users/jingjiang/Library/CloudStorage/GoogleDrive-michaelniki1988@gmail.com/Shared drives/Jing_Drive//3_Data_Working/CausalConnectome/post_processing/tmsfmri/William/Nov_3/tms_spheres/R-M1/2079_6mm.nii.gz\n"
     ]
    },
    {
     "name": "stderr",
     "output_type": "stream",
     "text": [
      "\r",
      " 71%|███████   | 565/798 [11:43<01:11,  3.26it/s]"
     ]
    },
    {
     "name": "stdout",
     "output_type": "stream",
     "text": [
      "mask not found:  /Users/jingjiang/Library/CloudStorage/GoogleDrive-michaelniki1988@gmail.com/Shared drives/Jing_Drive/3_Data_Working/CausalConnectome/post_processing/tmsfmri/group_analysis_HRF_all/R_M1/TEHC_2ndlevel/CausCon_TEHC2088_tms_R_M1_con_0001_mni.nii\n"
     ]
    },
    {
     "name": "stderr",
     "output_type": "stream",
     "text": [
      " 75%|███████▌  | 602/798 [11:53<00:53,  3.68it/s]"
     ]
    },
    {
     "name": "stdout",
     "output_type": "stream",
     "text": [
      "mask not found:  /Users/jingjiang/Library/CloudStorage/GoogleDrive-michaelniki1988@gmail.com/Shared drives/Jing_Drive/3_Data_Working/CausalConnectome/post_processing/tmsfmri/group_analysis_HRF_all/R_aMFG/NTHC_2ndlevel/CausCon_NTHC1057_tms_R_aMFG_con_0001_mni.nii\n"
     ]
    },
    {
     "name": "stderr",
     "output_type": "stream",
     "text": [
      " 76%|███████▋  | 609/798 [11:55<00:48,  3.92it/s]"
     ]
    },
    {
     "name": "stdout",
     "output_type": "stream",
     "text": [
      "mask not found:  /Users/jingjiang/Library/CloudStorage/GoogleDrive-michaelniki1988@gmail.com/Shared drives/Jing_Drive/3_Data_Working/CausalConnectome/post_processing/tmsfmri/group_analysis_HRF_all/R_aMFG/NTHC_2ndlevel/CausCon_NTHC1073_tms_R_aMFG_con_0001_mni.nii\n"
     ]
    },
    {
     "name": "stderr",
     "output_type": "stream",
     "text": [
      "\r",
      " 77%|███████▋  | 611/798 [11:55<00:40,  4.60it/s]"
     ]
    },
    {
     "name": "stdout",
     "output_type": "stream",
     "text": [
      "mask not found:  /Users/jingjiang/Library/CloudStorage/GoogleDrive-michaelniki1988@gmail.com/Shared drives/Jing_Drive/3_Data_Working/CausalConnectome/post_processing/tmsfmri/group_analysis_HRF_all/R_aMFG/NTHC_2ndlevel/CausCon_NTHC1097_tms_R_aMFG_con_0001_mni.nii\n"
     ]
    },
    {
     "name": "stderr",
     "output_type": "stream",
     "text": [
      " 80%|███████▉  | 637/798 [12:01<00:36,  4.41it/s]"
     ]
    },
    {
     "name": "stdout",
     "output_type": "stream",
     "text": [
      "mask not found:  /Users/jingjiang/Library/CloudStorage/GoogleDrive-michaelniki1988@gmail.com/Shared drives/Jing_Drive/3_Data_Working/CausalConnectome/post_processing/tmsfmri/group_analysis_HRF_all/R_aMFG/TEHC_2ndlevel/CausCon_TEHC2064_tms_R_aMFG_con_0001_mni.nii\n",
      "mask not found:  /Users/jingjiang/Library/CloudStorage/GoogleDrive-michaelniki1988@gmail.com/Shared drives/Jing_Drive/3_Data_Working/CausalConnectome/post_processing/tmsfmri/group_analysis_HRF_all/R_aMFG/TEHC_2ndlevel/CausCon_TEHC2066_tms_R_aMFG_con_0001_mni.nii\n",
      "mask not found:  /Users/jingjiang/Library/CloudStorage/GoogleDrive-michaelniki1988@gmail.com/Shared drives/Jing_Drive/3_Data_Working/CausalConnectome/post_processing/tmsfmri/group_analysis_HRF_all/R_aMFG/TEHC_2ndlevel/CausCon_TEHC2069_tms_R_aMFG_con_0001_mni.nii\n",
      "mask not found:  /Users/jingjiang/Library/CloudStorage/GoogleDrive-michaelniki1988@gmail.com/Shared drives/Jing_Drive/3_Data_Working/CausalConnectome/post_processing/tmsfmri/group_analysis_HRF_all/R_aMFG/TEHC_2ndlevel/CausCon_TEHC2074_tms_R_aMFG_con_0001_mni.nii\n"
     ]
    },
    {
     "name": "stderr",
     "output_type": "stream",
     "text": [
      " 81%|████████  | 645/798 [12:02<00:30,  4.98it/s]"
     ]
    },
    {
     "name": "stdout",
     "output_type": "stream",
     "text": [
      "mask not found:  /Users/jingjiang/Library/CloudStorage/GoogleDrive-michaelniki1988@gmail.com/Shared drives/Jing_Drive/3_Data_Working/CausalConnectome/post_processing/tmsfmri/group_analysis_HRF_all/R_aMFG/TEHC_2ndlevel/CausCon_TEHC2088_tms_R_aMFG_con_0001_mni.nii\n"
     ]
    },
    {
     "name": "stderr",
     "output_type": "stream",
     "text": [
      " 83%|████████▎ | 663/798 [12:06<00:33,  4.02it/s]"
     ]
    },
    {
     "name": "stdout",
     "output_type": "stream",
     "text": [
      "mask not found:  /Users/jingjiang/Library/CloudStorage/GoogleDrive-michaelniki1988@gmail.com/Shared drives/Jing_Drive/3_Data_Working/CausalConnectome/post_processing/tmsfmri/group_analysis_HRF_all/R_pMFG/NTHC_2ndlevel/CausCon_NTHC1023_tms_R_pMFG_con_0001_mni.nii\n"
     ]
    },
    {
     "name": "stderr",
     "output_type": "stream",
     "text": [
      " 85%|████████▌ | 680/798 [12:10<00:24,  4.76it/s]"
     ]
    },
    {
     "name": "stdout",
     "output_type": "stream",
     "text": [
      "error occurs for mask:  /Users/jingjiang/Library/CloudStorage/GoogleDrive-michaelniki1988@gmail.com/Shared drives/Jing_Drive//3_Data_Working/CausalConnectome/post_processing/tmsfmri/William/Nov_3/tms_spheres/R-pMFG/1052_6mm.nii.gz\n"
     ]
    },
    {
     "name": "stderr",
     "output_type": "stream",
     "text": [
      " 86%|████████▌ | 683/798 [12:11<00:25,  4.47it/s]"
     ]
    },
    {
     "name": "stdout",
     "output_type": "stream",
     "text": [
      "mask not found:  /Users/jingjiang/Library/CloudStorage/GoogleDrive-michaelniki1988@gmail.com/Shared drives/Jing_Drive/3_Data_Working/CausalConnectome/post_processing/tmsfmri/group_analysis_HRF_all/R_pMFG/NTHC_2ndlevel/CausCon_NTHC1057_tms_R_pMFG_con_0001_mni.nii\n"
     ]
    },
    {
     "name": "stderr",
     "output_type": "stream",
     "text": [
      " 86%|████████▋ | 689/798 [12:12<00:23,  4.56it/s]"
     ]
    },
    {
     "name": "stdout",
     "output_type": "stream",
     "text": [
      "mask not found:  /Users/jingjiang/Library/CloudStorage/GoogleDrive-michaelniki1988@gmail.com/Shared drives/Jing_Drive/3_Data_Working/CausalConnectome/post_processing/tmsfmri/group_analysis_HRF_all/R_pMFG/NTHC_2ndlevel/CausCon_NTHC1073_tms_R_pMFG_con_0001_mni.nii\n"
     ]
    },
    {
     "name": "stderr",
     "output_type": "stream",
     "text": [
      "\r",
      " 87%|████████▋ | 691/798 [12:12<00:20,  5.35it/s]"
     ]
    },
    {
     "name": "stdout",
     "output_type": "stream",
     "text": [
      "mask not found:  /Users/jingjiang/Library/CloudStorage/GoogleDrive-michaelniki1988@gmail.com/Shared drives/Jing_Drive/3_Data_Working/CausalConnectome/post_processing/tmsfmri/group_analysis_HRF_all/R_pMFG/NTHC_2ndlevel/CausCon_NTHC1097_tms_R_pMFG_con_0001_mni.nii\n"
     ]
    },
    {
     "name": "stderr",
     "output_type": "stream",
     "text": [
      " 89%|████████▉ | 710/798 [12:16<00:18,  4.79it/s]"
     ]
    },
    {
     "name": "stdout",
     "output_type": "stream",
     "text": [
      "error occurs for mask:  /Users/jingjiang/Library/CloudStorage/GoogleDrive-michaelniki1988@gmail.com/Shared drives/Jing_Drive//3_Data_Working/CausalConnectome/post_processing/tmsfmri/William/Nov_3/tms_spheres/R-pMFG/2040_6mm.nii.gz\n"
     ]
    },
    {
     "name": "stderr",
     "output_type": "stream",
     "text": [
      " 90%|████████▉ | 716/798 [12:18<00:18,  4.43it/s]"
     ]
    },
    {
     "name": "stdout",
     "output_type": "stream",
     "text": [
      "mask not found:  /Users/jingjiang/Library/CloudStorage/GoogleDrive-michaelniki1988@gmail.com/Shared drives/Jing_Drive/3_Data_Working/CausalConnectome/post_processing/tmsfmri/group_analysis_HRF_all/R_pMFG/TEHC_2ndlevel/CausCon_TEHC2064_tms_R_pMFG_con_0001_mni.nii\n",
      "mask not found:  /Users/jingjiang/Library/CloudStorage/GoogleDrive-michaelniki1988@gmail.com/Shared drives/Jing_Drive/3_Data_Working/CausalConnectome/post_processing/tmsfmri/group_analysis_HRF_all/R_pMFG/TEHC_2ndlevel/CausCon_TEHC2066_tms_R_pMFG_con_0001_mni.nii\n",
      "mask not found:  /Users/jingjiang/Library/CloudStorage/GoogleDrive-michaelniki1988@gmail.com/Shared drives/Jing_Drive/3_Data_Working/CausalConnectome/post_processing/tmsfmri/group_analysis_HRF_all/R_pMFG/TEHC_2ndlevel/CausCon_TEHC2069_tms_R_pMFG_con_0001_mni.nii\n"
     ]
    },
    {
     "name": "stderr",
     "output_type": "stream",
     "text": [
      "\r",
      " 90%|█████████ | 720/798 [12:18<00:13,  5.71it/s]"
     ]
    },
    {
     "name": "stdout",
     "output_type": "stream",
     "text": [
      "mask not found:  /Users/jingjiang/Library/CloudStorage/GoogleDrive-michaelniki1988@gmail.com/Shared drives/Jing_Drive/3_Data_Working/CausalConnectome/post_processing/tmsfmri/group_analysis_HRF_all/R_pMFG/TEHC_2ndlevel/CausCon_TEHC2074_tms_R_pMFG_con_0001_mni.nii\n"
     ]
    },
    {
     "name": "stderr",
     "output_type": "stream",
     "text": [
      " 91%|█████████ | 727/798 [12:19<00:11,  6.24it/s]"
     ]
    },
    {
     "name": "stdout",
     "output_type": "stream",
     "text": [
      "mask not found:  /Users/jingjiang/Library/CloudStorage/GoogleDrive-michaelniki1988@gmail.com/Shared drives/Jing_Drive/3_Data_Working/CausalConnectome/post_processing/tmsfmri/group_analysis_HRF_all/R_pMFG/TEHC_2ndlevel/CausCon_TEHC2088_tms_R_pMFG_con_0001_mni.nii\n"
     ]
    },
    {
     "name": "stderr",
     "output_type": "stream",
     "text": [
      " 93%|█████████▎| 739/798 [12:22<00:12,  4.91it/s]"
     ]
    },
    {
     "name": "stdout",
     "output_type": "stream",
     "text": [
      "mask not found:  /Users/jingjiang/Library/CloudStorage/GoogleDrive-michaelniki1988@gmail.com/Shared drives/Jing_Drive/3_Data_Working/CausalConnectome/post_processing/tmsfmri/group_analysis_HRF_all/R_preSMA/NTHC_2ndlevel/CausCon_NTHC1023_tms_R_preSMA_con_0001_mni.nii\n"
     ]
    },
    {
     "name": "stderr",
     "output_type": "stream",
     "text": [
      " 95%|█████████▌| 762/798 [12:26<00:07,  4.62it/s]"
     ]
    },
    {
     "name": "stdout",
     "output_type": "stream",
     "text": [
      "mask not found:  /Users/jingjiang/Library/CloudStorage/GoogleDrive-michaelniki1988@gmail.com/Shared drives/Jing_Drive/3_Data_Working/CausalConnectome/post_processing/tmsfmri/group_analysis_HRF_all/R_preSMA/NTHC_2ndlevel/CausCon_NTHC1073_tms_R_preSMA_con_0001_mni.nii\n"
     ]
    },
    {
     "name": "stderr",
     "output_type": "stream",
     "text": [
      "\r",
      " 96%|█████████▌| 764/798 [12:27<00:06,  5.49it/s]"
     ]
    },
    {
     "name": "stdout",
     "output_type": "stream",
     "text": [
      "mask not found:  /Users/jingjiang/Library/CloudStorage/GoogleDrive-michaelniki1988@gmail.com/Shared drives/Jing_Drive/3_Data_Working/CausalConnectome/post_processing/tmsfmri/group_analysis_HRF_all/R_preSMA/NTHC_2ndlevel/CausCon_NTHC1097_tms_R_preSMA_con_0001_mni.nii\n"
     ]
    },
    {
     "name": "stderr",
     "output_type": "stream",
     "text": [
      " 99%|█████████▉| 789/798 [12:31<00:01,  6.37it/s]"
     ]
    },
    {
     "name": "stdout",
     "output_type": "stream",
     "text": [
      "mask not found:  /Users/jingjiang/Library/CloudStorage/GoogleDrive-michaelniki1988@gmail.com/Shared drives/Jing_Drive/3_Data_Working/CausalConnectome/post_processing/tmsfmri/group_analysis_HRF_all/R_preSMA/TEHC_2ndlevel/CausCon_TEHC2064_tms_R_preSMA_con_0001_mni.nii\n",
      "mask not found:  /Users/jingjiang/Library/CloudStorage/GoogleDrive-michaelniki1988@gmail.com/Shared drives/Jing_Drive/3_Data_Working/CausalConnectome/post_processing/tmsfmri/group_analysis_HRF_all/R_preSMA/TEHC_2ndlevel/CausCon_TEHC2066_tms_R_preSMA_con_0001_mni.nii\n",
      "mask not found:  /Users/jingjiang/Library/CloudStorage/GoogleDrive-michaelniki1988@gmail.com/Shared drives/Jing_Drive/3_Data_Working/CausalConnectome/post_processing/tmsfmri/group_analysis_HRF_all/R_preSMA/TEHC_2ndlevel/CausCon_TEHC2069_tms_R_preSMA_con_0001_mni.nii\n"
     ]
    },
    {
     "name": "stderr",
     "output_type": "stream",
     "text": [
      " 99%|█████████▉| 792/798 [12:32<00:01,  5.40it/s]"
     ]
    },
    {
     "name": "stdout",
     "output_type": "stream",
     "text": [
      "mask not found:  /Users/jingjiang/Library/CloudStorage/GoogleDrive-michaelniki1988@gmail.com/Shared drives/Jing_Drive/3_Data_Working/CausalConnectome/post_processing/tmsfmri/group_analysis_HRF_all/R_preSMA/TEHC_2ndlevel/CausCon_TEHC2088_tms_R_preSMA_con_0001_mni.nii\n"
     ]
    },
    {
     "name": "stderr",
     "output_type": "stream",
     "text": [
      "100%|██████████| 798/798 [12:33<00:00,  1.06it/s]\n"
     ]
    }
   ],
   "source": [
    "# individual roi 6mm:\n",
    "roi_dir = base_dir + \"/3_Data_Working/CausalConnectome/post_processing/tmsfmri/William/Nov_3/tms_spheres/\"\n",
    "\n",
    "## error occurs for this mask: '/L-pMFG/2040_6mm.nii.gz':\n",
    "## The mask is invalid as it is empty: it masks all data.\n",
    "## try another roi_dir:\n",
    "\n",
    "# roi_dir = \"/Users/jingjiang/Library/CloudStorage/GoogleDrive-michaelniki1988@gmail.com/Shared drives/\" \\\n",
    "#         + \"Jing_Drive/3_Data_Working/CausalConnectome/post_processing/VisorT1_iso2nii-selected/wMNI/IndEnvMask/\"\n",
    "\n",
    "## and get the same error, skip the empty masks with try...except...\n",
    "\n",
    "tms_site_response = []\n",
    "for i in trange(len(complete_df)):\n",
    "    image_name = complete_df.iloc[i]['inputfile']\n",
    "    site = complete_df.iloc[i]['site'].replace('_', '-')\n",
    "#     site = complete_df.iloc[i]['site']\n",
    "    subject = complete_df.iloc[i]['subject']\n",
    "    mask_file = glob(roi_dir + site + \"/\" + str(subject) + \"_6mm.nii*\")\n",
    "        \n",
    "    if mask_file:\n",
    "        try:\n",
    "            nifti_masker = maskers.NiftiMasker(mask_file[0]).fit()\n",
    "            tms_site_response.append(np.mean(nifti_masker.transform(image_name)))\n",
    "        except:\n",
    "            tms_site_response.append(np.nan)\n",
    "            print(\"error occurs for mask: \", mask_file[0])\n",
    "    else:\n",
    "        tms_site_response.append(np.nan)\n",
    "        print(\"mask not found: \", image_name)\n",
    "\n",
    "complete_df['tms_site_response_individual_6mm'] = tms_site_response\n",
    "# complete_df.to_csv(out_dir + out_file_name, index=False)"
   ]
  },
  {
   "cell_type": "code",
   "execution_count": 7,
   "metadata": {},
   "outputs": [
    {
     "name": "stderr",
     "output_type": "stream",
     "text": [
      "  0%|          | 3/798 [00:00<02:56,  4.49it/s]"
     ]
    },
    {
     "name": "stdout",
     "output_type": "stream",
     "text": [
      "mask not found:  /Users/jingjiang/Library/CloudStorage/GoogleDrive-michaelniki1988@gmail.com/Shared drives/Jing_Drive/3_Data_Working/CausalConnectome/post_processing/tmsfmri/group_analysis_HRF_all/L_Fp/NTHC_2ndlevel/CausCon_NTHC1037_tms_L_Fp_con_0001_mni.nii\n"
     ]
    },
    {
     "name": "stderr",
     "output_type": "stream",
     "text": [
      "  1%|          | 7/798 [00:01<02:48,  4.69it/s]"
     ]
    },
    {
     "name": "stdout",
     "output_type": "stream",
     "text": [
      "mask not found:  /Users/jingjiang/Library/CloudStorage/GoogleDrive-michaelniki1988@gmail.com/Shared drives/Jing_Drive/3_Data_Working/CausalConnectome/post_processing/tmsfmri/group_analysis_HRF_all/L_Fp/NTHC_2ndlevel/CausCon_NTHC1043_tms_L_Fp_con_0001_mni.nii\n"
     ]
    },
    {
     "name": "stderr",
     "output_type": "stream",
     "text": [
      "  1%|▏         | 10/798 [00:01<02:40,  4.91it/s]"
     ]
    },
    {
     "name": "stdout",
     "output_type": "stream",
     "text": [
      "mask not found:  /Users/jingjiang/Library/CloudStorage/GoogleDrive-michaelniki1988@gmail.com/Shared drives/Jing_Drive/3_Data_Working/CausalConnectome/post_processing/tmsfmri/group_analysis_HRF_all/L_Fp/NTHC_2ndlevel/CausCon_NTHC1050_tms_L_Fp_con_0001_mni.nii\n"
     ]
    },
    {
     "name": "stderr",
     "output_type": "stream",
     "text": [
      "  2%|▏         | 13/798 [00:02<02:23,  5.48it/s]"
     ]
    },
    {
     "name": "stdout",
     "output_type": "stream",
     "text": [
      "mask not found:  /Users/jingjiang/Library/CloudStorage/GoogleDrive-michaelniki1988@gmail.com/Shared drives/Jing_Drive/3_Data_Working/CausalConnectome/post_processing/tmsfmri/group_analysis_HRF_all/L_Fp/NTHC_2ndlevel/CausCon_NTHC1055_tms_L_Fp_con_0001_mni.nii\n"
     ]
    },
    {
     "name": "stderr",
     "output_type": "stream",
     "text": [
      "  3%|▎         | 23/798 [00:03<02:15,  5.74it/s]"
     ]
    },
    {
     "name": "stdout",
     "output_type": "stream",
     "text": [
      "mask not found:  /Users/jingjiang/Library/CloudStorage/GoogleDrive-michaelniki1988@gmail.com/Shared drives/Jing_Drive/3_Data_Working/CausalConnectome/post_processing/tmsfmri/group_analysis_HRF_all/L_Fp/NTHC_2ndlevel/CausCon_NTHC1073_tms_L_Fp_con_0001_mni.nii\n",
      "mask not found:  /Users/jingjiang/Library/CloudStorage/GoogleDrive-michaelniki1988@gmail.com/Shared drives/Jing_Drive/3_Data_Working/CausalConnectome/post_processing/tmsfmri/group_analysis_HRF_all/L_Fp/NTHC_2ndlevel/CausCon_NTHC1097_tms_L_Fp_con_0001_mni.nii\n"
     ]
    },
    {
     "name": "stderr",
     "output_type": "stream",
     "text": [
      "  6%|▌         | 44/798 [00:07<02:11,  5.72it/s]"
     ]
    },
    {
     "name": "stdout",
     "output_type": "stream",
     "text": [
      "mask not found:  /Users/jingjiang/Library/CloudStorage/GoogleDrive-michaelniki1988@gmail.com/Shared drives/Jing_Drive/3_Data_Working/CausalConnectome/post_processing/tmsfmri/group_analysis_HRF_all/L_Fp/TEHC_2ndlevel/CausCon_TEHC2047_tms_L_Fp_con_0001_mni.nii\n"
     ]
    },
    {
     "name": "stderr",
     "output_type": "stream",
     "text": [
      "  6%|▌         | 46/798 [00:08<02:30,  4.98it/s]"
     ]
    },
    {
     "name": "stdout",
     "output_type": "stream",
     "text": [
      "mask not found:  /Users/jingjiang/Library/CloudStorage/GoogleDrive-michaelniki1988@gmail.com/Shared drives/Jing_Drive/3_Data_Working/CausalConnectome/post_processing/tmsfmri/group_analysis_HRF_all/L_Fp/TEHC_2ndlevel/CausCon_TEHC2064_tms_L_Fp_con_0001_mni.nii\n",
      "mask not found:  /Users/jingjiang/Library/CloudStorage/GoogleDrive-michaelniki1988@gmail.com/Shared drives/Jing_Drive/3_Data_Working/CausalConnectome/post_processing/tmsfmri/group_analysis_HRF_all/L_Fp/TEHC_2ndlevel/CausCon_TEHC2066_tms_L_Fp_con_0001_mni.nii\n",
      "mask not found:  /Users/jingjiang/Library/CloudStorage/GoogleDrive-michaelniki1988@gmail.com/Shared drives/Jing_Drive/3_Data_Working/CausalConnectome/post_processing/tmsfmri/group_analysis_HRF_all/L_Fp/TEHC_2ndlevel/CausCon_TEHC2069_tms_L_Fp_con_0001_mni.nii\n"
     ]
    },
    {
     "name": "stderr",
     "output_type": "stream",
     "text": [
      "\r",
      "  6%|▋         | 50/798 [00:08<01:58,  6.31it/s]"
     ]
    },
    {
     "name": "stdout",
     "output_type": "stream",
     "text": [
      "mask not found:  /Users/jingjiang/Library/CloudStorage/GoogleDrive-michaelniki1988@gmail.com/Shared drives/Jing_Drive/3_Data_Working/CausalConnectome/post_processing/tmsfmri/group_analysis_HRF_all/L_Fp/TEHC_2ndlevel/CausCon_TEHC2074_tms_L_Fp_con_0001_mni.nii\n"
     ]
    },
    {
     "name": "stderr",
     "output_type": "stream",
     "text": [
      "  7%|▋         | 55/798 [00:09<02:20,  5.28it/s]"
     ]
    },
    {
     "name": "stdout",
     "output_type": "stream",
     "text": [
      "mask not found:  /Users/jingjiang/Library/CloudStorage/GoogleDrive-michaelniki1988@gmail.com/Shared drives/Jing_Drive/3_Data_Working/CausalConnectome/post_processing/tmsfmri/group_analysis_HRF_all/L_Fp/TEHC_2ndlevel/CausCon_TEHC2088_tms_L_Fp_con_0001_mni.nii\n"
     ]
    },
    {
     "name": "stderr",
     "output_type": "stream",
     "text": [
      " 12%|█▏        | 93/798 [00:17<02:06,  5.55it/s]"
     ]
    },
    {
     "name": "stdout",
     "output_type": "stream",
     "text": [
      "mask not found:  /Users/jingjiang/Library/CloudStorage/GoogleDrive-michaelniki1988@gmail.com/Shared drives/Jing_Drive/3_Data_Working/CausalConnectome/post_processing/tmsfmri/group_analysis_HRF_all/L_aMFG/NTHC_2ndlevel/CausCon_NTHC1057_tms_L_aMFG_con_0001_mni.nii\n"
     ]
    },
    {
     "name": "stderr",
     "output_type": "stream",
     "text": [
      " 12%|█▏        | 97/798 [00:18<02:24,  4.86it/s]"
     ]
    },
    {
     "name": "stdout",
     "output_type": "stream",
     "text": [
      "mask not found:  /Users/jingjiang/Library/CloudStorage/GoogleDrive-michaelniki1988@gmail.com/Shared drives/Jing_Drive/3_Data_Working/CausalConnectome/post_processing/tmsfmri/group_analysis_HRF_all/L_aMFG/NTHC_2ndlevel/CausCon_NTHC1073_tms_L_aMFG_con_0001_mni.nii\n"
     ]
    },
    {
     "name": "stderr",
     "output_type": "stream",
     "text": [
      "\r",
      " 12%|█▏        | 99/798 [00:18<02:04,  5.60it/s]"
     ]
    },
    {
     "name": "stdout",
     "output_type": "stream",
     "text": [
      "mask not found:  /Users/jingjiang/Library/CloudStorage/GoogleDrive-michaelniki1988@gmail.com/Shared drives/Jing_Drive/3_Data_Working/CausalConnectome/post_processing/tmsfmri/group_analysis_HRF_all/L_aMFG/NTHC_2ndlevel/CausCon_NTHC1097_tms_L_aMFG_con_0001_mni.nii\n"
     ]
    },
    {
     "name": "stderr",
     "output_type": "stream",
     "text": [
      " 16%|█▌        | 124/798 [00:23<02:25,  4.63it/s]"
     ]
    },
    {
     "name": "stdout",
     "output_type": "stream",
     "text": [
      "mask not found:  /Users/jingjiang/Library/CloudStorage/GoogleDrive-michaelniki1988@gmail.com/Shared drives/Jing_Drive/3_Data_Working/CausalConnectome/post_processing/tmsfmri/group_analysis_HRF_all/L_aMFG/TEHC_2ndlevel/CausCon_TEHC2064_tms_L_aMFG_con_0001_mni.nii\n",
      "mask not found:  /Users/jingjiang/Library/CloudStorage/GoogleDrive-michaelniki1988@gmail.com/Shared drives/Jing_Drive/3_Data_Working/CausalConnectome/post_processing/tmsfmri/group_analysis_HRF_all/L_aMFG/TEHC_2ndlevel/CausCon_TEHC2066_tms_L_aMFG_con_0001_mni.nii\n",
      "mask not found:  /Users/jingjiang/Library/CloudStorage/GoogleDrive-michaelniki1988@gmail.com/Shared drives/Jing_Drive/3_Data_Working/CausalConnectome/post_processing/tmsfmri/group_analysis_HRF_all/L_aMFG/TEHC_2ndlevel/CausCon_TEHC2069_tms_L_aMFG_con_0001_mni.nii\n"
     ]
    },
    {
     "name": "stderr",
     "output_type": "stream",
     "text": [
      "\r",
      " 16%|█▌        | 128/798 [00:23<01:52,  5.95it/s]"
     ]
    },
    {
     "name": "stdout",
     "output_type": "stream",
     "text": [
      "mask not found:  /Users/jingjiang/Library/CloudStorage/GoogleDrive-michaelniki1988@gmail.com/Shared drives/Jing_Drive/3_Data_Working/CausalConnectome/post_processing/tmsfmri/group_analysis_HRF_all/L_aMFG/TEHC_2ndlevel/CausCon_TEHC2074_tms_L_aMFG_con_0001_mni.nii\n",
      "mask not found:  /Users/jingjiang/Library/CloudStorage/GoogleDrive-michaelniki1988@gmail.com/Shared drives/Jing_Drive/3_Data_Working/CausalConnectome/post_processing/tmsfmri/group_analysis_HRF_all/L_aMFG/TEHC_2ndlevel/CausCon_TEHC2075_tms_L_aMFG_con_0001_mni.nii\n"
     ]
    },
    {
     "name": "stderr",
     "output_type": "stream",
     "text": [
      " 17%|█▋        | 135/798 [00:24<02:17,  4.82it/s]"
     ]
    },
    {
     "name": "stdout",
     "output_type": "stream",
     "text": [
      "mask not found:  /Users/jingjiang/Library/CloudStorage/GoogleDrive-michaelniki1988@gmail.com/Shared drives/Jing_Drive/3_Data_Working/CausalConnectome/post_processing/tmsfmri/group_analysis_HRF_all/L_aMFG/TEHC_2ndlevel/CausCon_TEHC2096_tms_L_aMFG_con_0001_mni.nii\n"
     ]
    },
    {
     "name": "stderr",
     "output_type": "stream",
     "text": [
      " 19%|█▉        | 150/798 [00:27<02:17,  4.73it/s]"
     ]
    },
    {
     "name": "stdout",
     "output_type": "stream",
     "text": [
      "mask not found:  /Users/jingjiang/Library/CloudStorage/GoogleDrive-michaelniki1988@gmail.com/Shared drives/Jing_Drive/3_Data_Working/CausalConnectome/post_processing/tmsfmri/group_analysis_HRF_all/L_pMFG/NTHC_2ndlevel/CausCon_NTHC1023_tms_L_pMFG_con_0001_mni.nii\n"
     ]
    },
    {
     "name": "stderr",
     "output_type": "stream",
     "text": [
      " 21%|██▏       | 170/798 [00:31<02:21,  4.45it/s]"
     ]
    },
    {
     "name": "stdout",
     "output_type": "stream",
     "text": [
      "mask not found:  /Users/jingjiang/Library/CloudStorage/GoogleDrive-michaelniki1988@gmail.com/Shared drives/Jing_Drive/3_Data_Working/CausalConnectome/post_processing/tmsfmri/group_analysis_HRF_all/L_pMFG/NTHC_2ndlevel/CausCon_NTHC1057_tms_L_pMFG_con_0001_mni.nii\n"
     ]
    },
    {
     "name": "stderr",
     "output_type": "stream",
     "text": [
      " 22%|██▏       | 179/798 [00:33<01:43,  5.96it/s]"
     ]
    },
    {
     "name": "stdout",
     "output_type": "stream",
     "text": [
      "mask not found:  /Users/jingjiang/Library/CloudStorage/GoogleDrive-michaelniki1988@gmail.com/Shared drives/Jing_Drive/3_Data_Working/CausalConnectome/post_processing/tmsfmri/group_analysis_HRF_all/L_pMFG/NTHC_2ndlevel/CausCon_NTHC1073_tms_L_pMFG_con_0001_mni.nii\n",
      "mask not found:  /Users/jingjiang/Library/CloudStorage/GoogleDrive-michaelniki1988@gmail.com/Shared drives/Jing_Drive/3_Data_Working/CausalConnectome/post_processing/tmsfmri/group_analysis_HRF_all/L_pMFG/NTHC_2ndlevel/CausCon_NTHC1097_tms_L_pMFG_con_0001_mni.nii\n"
     ]
    },
    {
     "name": "stderr",
     "output_type": "stream",
     "text": [
      " 26%|██▌       | 204/798 [00:38<02:19,  4.27it/s]"
     ]
    },
    {
     "name": "stdout",
     "output_type": "stream",
     "text": [
      "mask not found:  /Users/jingjiang/Library/CloudStorage/GoogleDrive-michaelniki1988@gmail.com/Shared drives/Jing_Drive/3_Data_Working/CausalConnectome/post_processing/tmsfmri/group_analysis_HRF_all/L_pMFG/TEHC_2ndlevel/CausCon_TEHC2064_tms_L_pMFG_con_0001_mni.nii\n"
     ]
    },
    {
     "name": "stderr",
     "output_type": "stream",
     "text": [
      "\r",
      " 26%|██▌       | 206/798 [00:38<01:59,  4.97it/s]"
     ]
    },
    {
     "name": "stdout",
     "output_type": "stream",
     "text": [
      "mask not found:  /Users/jingjiang/Library/CloudStorage/GoogleDrive-michaelniki1988@gmail.com/Shared drives/Jing_Drive/3_Data_Working/CausalConnectome/post_processing/tmsfmri/group_analysis_HRF_all/L_pMFG/TEHC_2ndlevel/CausCon_TEHC2069_tms_L_pMFG_con_0001_mni.nii\n"
     ]
    },
    {
     "name": "stderr",
     "output_type": "stream",
     "text": [
      "\r",
      " 26%|██▌       | 208/798 [00:39<01:42,  5.74it/s]"
     ]
    },
    {
     "name": "stdout",
     "output_type": "stream",
     "text": [
      "mask not found:  /Users/jingjiang/Library/CloudStorage/GoogleDrive-michaelniki1988@gmail.com/Shared drives/Jing_Drive/3_Data_Working/CausalConnectome/post_processing/tmsfmri/group_analysis_HRF_all/L_pMFG/TEHC_2ndlevel/CausCon_TEHC2074_tms_L_pMFG_con_0001_mni.nii\n",
      "mask not found:  /Users/jingjiang/Library/CloudStorage/GoogleDrive-michaelniki1988@gmail.com/Shared drives/Jing_Drive/3_Data_Working/CausalConnectome/post_processing/tmsfmri/group_analysis_HRF_all/L_pMFG/TEHC_2ndlevel/CausCon_TEHC2075_tms_L_pMFG_con_0001_mni.nii\n"
     ]
    },
    {
     "name": "stderr",
     "output_type": "stream",
     "text": [
      " 27%|██▋       | 212/798 [00:39<01:36,  6.07it/s]"
     ]
    },
    {
     "name": "stdout",
     "output_type": "stream",
     "text": [
      "mask not found:  /Users/jingjiang/Library/CloudStorage/GoogleDrive-michaelniki1988@gmail.com/Shared drives/Jing_Drive/3_Data_Working/CausalConnectome/post_processing/tmsfmri/group_analysis_HRF_all/L_pMFG/TEHC_2ndlevel/CausCon_TEHC2088_tms_L_pMFG_con_0001_mni.nii\n"
     ]
    },
    {
     "name": "stderr",
     "output_type": "stream",
     "text": [
      " 27%|██▋       | 217/798 [00:40<01:25,  6.78it/s]"
     ]
    },
    {
     "name": "stdout",
     "output_type": "stream",
     "text": [
      "mask not found:  /Users/jingjiang/Library/CloudStorage/GoogleDrive-michaelniki1988@gmail.com/Shared drives/Jing_Drive/3_Data_Working/CausalConnectome/post_processing/tmsfmri/group_analysis_HRF_all/L_pMFG/TEHC_2ndlevel/CausCon_TEHC2096_tms_L_pMFG_con_0001_mni.nii\n"
     ]
    },
    {
     "name": "stderr",
     "output_type": "stream",
     "text": [
      " 29%|██▉       | 231/798 [00:42<01:40,  5.66it/s]"
     ]
    },
    {
     "name": "stdout",
     "output_type": "stream",
     "text": [
      "mask not found:  /Users/jingjiang/Library/CloudStorage/GoogleDrive-michaelniki1988@gmail.com/Shared drives/Jing_Drive/3_Data_Working/CausalConnectome/post_processing/tmsfmri/group_analysis_HRF_all/R_FEF/NTHC_2ndlevel/CausCon_NTHC1023_tms_R_FEF_con_0001_mni.nii\n"
     ]
    },
    {
     "name": "stderr",
     "output_type": "stream",
     "text": [
      " 31%|███▏      | 251/798 [00:46<01:38,  5.56it/s]"
     ]
    },
    {
     "name": "stdout",
     "output_type": "stream",
     "text": [
      "mask not found:  /Users/jingjiang/Library/CloudStorage/GoogleDrive-michaelniki1988@gmail.com/Shared drives/Jing_Drive/3_Data_Working/CausalConnectome/post_processing/tmsfmri/group_analysis_HRF_all/R_FEF/NTHC_2ndlevel/CausCon_NTHC1057_tms_R_FEF_con_0001_mni.nii\n"
     ]
    },
    {
     "name": "stderr",
     "output_type": "stream",
     "text": [
      " 32%|███▏      | 258/798 [00:48<01:32,  5.86it/s]"
     ]
    },
    {
     "name": "stdout",
     "output_type": "stream",
     "text": [
      "mask not found:  /Users/jingjiang/Library/CloudStorage/GoogleDrive-michaelniki1988@gmail.com/Shared drives/Jing_Drive/3_Data_Working/CausalConnectome/post_processing/tmsfmri/group_analysis_HRF_all/R_FEF/NTHC_2ndlevel/CausCon_NTHC1073_tms_R_FEF_con_0001_mni.nii\n",
      "mask not found:  /Users/jingjiang/Library/CloudStorage/GoogleDrive-michaelniki1988@gmail.com/Shared drives/Jing_Drive/3_Data_Working/CausalConnectome/post_processing/tmsfmri/group_analysis_HRF_all/R_FEF/NTHC_2ndlevel/CausCon_NTHC1097_tms_R_FEF_con_0001_mni.nii\n"
     ]
    },
    {
     "name": "stderr",
     "output_type": "stream",
     "text": [
      " 33%|███▎      | 266/798 [00:49<01:49,  4.88it/s]"
     ]
    },
    {
     "name": "stdout",
     "output_type": "stream",
     "text": [
      "mask not found:  /Users/jingjiang/Library/CloudStorage/GoogleDrive-michaelniki1988@gmail.com/Shared drives/Jing_Drive/3_Data_Working/CausalConnectome/post_processing/tmsfmri/group_analysis_HRF_all/R_FEF/TEHC_2ndlevel/CausCon_TEHC2005_tms_R_FEF_con_0001_mni.nii\n"
     ]
    },
    {
     "name": "stderr",
     "output_type": "stream",
     "text": [
      " 35%|███▌      | 281/798 [00:52<01:49,  4.73it/s]"
     ]
    },
    {
     "name": "stdout",
     "output_type": "stream",
     "text": [
      "mask not found:  /Users/jingjiang/Library/CloudStorage/GoogleDrive-michaelniki1988@gmail.com/Shared drives/Jing_Drive/3_Data_Working/CausalConnectome/post_processing/tmsfmri/group_analysis_HRF_all/R_FEF/TEHC_2ndlevel/CausCon_TEHC2064_tms_R_FEF_con_0001_mni.nii\n",
      "mask not found:  /Users/jingjiang/Library/CloudStorage/GoogleDrive-michaelniki1988@gmail.com/Shared drives/Jing_Drive/3_Data_Working/CausalConnectome/post_processing/tmsfmri/group_analysis_HRF_all/R_FEF/TEHC_2ndlevel/CausCon_TEHC2066_tms_R_FEF_con_0001_mni.nii\n",
      "mask not found:  /Users/jingjiang/Library/CloudStorage/GoogleDrive-michaelniki1988@gmail.com/Shared drives/Jing_Drive/3_Data_Working/CausalConnectome/post_processing/tmsfmri/group_analysis_HRF_all/R_FEF/TEHC_2ndlevel/CausCon_TEHC2069_tms_R_FEF_con_0001_mni.nii\n"
     ]
    },
    {
     "name": "stderr",
     "output_type": "stream",
     "text": [
      "\r",
      " 36%|███▌      | 285/798 [00:52<01:24,  6.06it/s]"
     ]
    },
    {
     "name": "stdout",
     "output_type": "stream",
     "text": [
      "mask not found:  /Users/jingjiang/Library/CloudStorage/GoogleDrive-michaelniki1988@gmail.com/Shared drives/Jing_Drive/3_Data_Working/CausalConnectome/post_processing/tmsfmri/group_analysis_HRF_all/R_FEF/TEHC_2ndlevel/CausCon_TEHC2074_tms_R_FEF_con_0001_mni.nii\n"
     ]
    },
    {
     "name": "stderr",
     "output_type": "stream",
     "text": [
      " 36%|███▋      | 290/798 [00:53<01:35,  5.33it/s]"
     ]
    },
    {
     "name": "stdout",
     "output_type": "stream",
     "text": [
      "mask not found:  /Users/jingjiang/Library/CloudStorage/GoogleDrive-michaelniki1988@gmail.com/Shared drives/Jing_Drive/3_Data_Working/CausalConnectome/post_processing/tmsfmri/group_analysis_HRF_all/R_FEF/TEHC_2ndlevel/CausCon_TEHC2088_tms_R_FEF_con_0001_mni.nii\n"
     ]
    },
    {
     "name": "stderr",
     "output_type": "stream",
     "text": [
      " 38%|███▊      | 301/798 [00:55<01:39,  5.00it/s]"
     ]
    },
    {
     "name": "stdout",
     "output_type": "stream",
     "text": [
      "mask not found:  /Users/jingjiang/Library/CloudStorage/GoogleDrive-michaelniki1988@gmail.com/Shared drives/Jing_Drive/3_Data_Working/CausalConnectome/post_processing/tmsfmri/group_analysis_HRF_all/R_Fp/NTHC_2ndlevel/CausCon_NTHC1003_tms_R_Fp_con_0001_mni.nii\n"
     ]
    },
    {
     "name": "stderr",
     "output_type": "stream",
     "text": [
      " 39%|███▉      | 315/798 [00:58<01:24,  5.70it/s]"
     ]
    },
    {
     "name": "stdout",
     "output_type": "stream",
     "text": [
      "mask not found:  /Users/jingjiang/Library/CloudStorage/GoogleDrive-michaelniki1988@gmail.com/Shared drives/Jing_Drive/3_Data_Working/CausalConnectome/post_processing/tmsfmri/group_analysis_HRF_all/R_Fp/NTHC_2ndlevel/CausCon_NTHC1043_tms_R_Fp_con_0001_mni.nii\n"
     ]
    },
    {
     "name": "stderr",
     "output_type": "stream",
     "text": [
      " 40%|███▉      | 318/798 [00:58<01:15,  6.34it/s]"
     ]
    },
    {
     "name": "stdout",
     "output_type": "stream",
     "text": [
      "mask not found:  /Users/jingjiang/Library/CloudStorage/GoogleDrive-michaelniki1988@gmail.com/Shared drives/Jing_Drive/3_Data_Working/CausalConnectome/post_processing/tmsfmri/group_analysis_HRF_all/R_Fp/NTHC_2ndlevel/CausCon_NTHC1050_tms_R_Fp_con_0001_mni.nii\n"
     ]
    },
    {
     "name": "stderr",
     "output_type": "stream",
     "text": [
      " 40%|████      | 321/798 [00:59<01:11,  6.65it/s]"
     ]
    },
    {
     "name": "stdout",
     "output_type": "stream",
     "text": [
      "mask not found:  /Users/jingjiang/Library/CloudStorage/GoogleDrive-michaelniki1988@gmail.com/Shared drives/Jing_Drive/3_Data_Working/CausalConnectome/post_processing/tmsfmri/group_analysis_HRF_all/R_Fp/NTHC_2ndlevel/CausCon_NTHC1055_tms_R_Fp_con_0001_mni.nii\n"
     ]
    },
    {
     "name": "stderr",
     "output_type": "stream",
     "text": [
      " 41%|████      | 329/798 [01:00<01:18,  6.00it/s]"
     ]
    },
    {
     "name": "stdout",
     "output_type": "stream",
     "text": [
      "mask not found:  /Users/jingjiang/Library/CloudStorage/GoogleDrive-michaelniki1988@gmail.com/Shared drives/Jing_Drive/3_Data_Working/CausalConnectome/post_processing/tmsfmri/group_analysis_HRF_all/R_Fp/NTHC_2ndlevel/CausCon_NTHC1073_tms_R_Fp_con_0001_mni.nii\n",
      "mask not found:  /Users/jingjiang/Library/CloudStorage/GoogleDrive-michaelniki1988@gmail.com/Shared drives/Jing_Drive/3_Data_Working/CausalConnectome/post_processing/tmsfmri/group_analysis_HRF_all/R_Fp/NTHC_2ndlevel/CausCon_NTHC1097_tms_R_Fp_con_0001_mni.nii\n"
     ]
    },
    {
     "name": "stderr",
     "output_type": "stream",
     "text": [
      " 42%|████▏     | 339/798 [01:02<01:39,  4.61it/s]"
     ]
    },
    {
     "name": "stdout",
     "output_type": "stream",
     "text": [
      "mask not found:  /Users/jingjiang/Library/CloudStorage/GoogleDrive-michaelniki1988@gmail.com/Shared drives/Jing_Drive/3_Data_Working/CausalConnectome/post_processing/tmsfmri/group_analysis_HRF_all/R_Fp/TEHC_2ndlevel/CausCon_TEHC2010_tms_R_Fp_con_0001_mni.nii\n"
     ]
    },
    {
     "name": "stderr",
     "output_type": "stream",
     "text": [
      " 44%|████▎     | 348/798 [01:03<01:14,  6.04it/s]"
     ]
    },
    {
     "name": "stdout",
     "output_type": "stream",
     "text": [
      "mask not found:  /Users/jingjiang/Library/CloudStorage/GoogleDrive-michaelniki1988@gmail.com/Shared drives/Jing_Drive/3_Data_Working/CausalConnectome/post_processing/tmsfmri/group_analysis_HRF_all/R_Fp/TEHC_2ndlevel/CausCon_TEHC2047_tms_R_Fp_con_0001_mni.nii\n"
     ]
    },
    {
     "name": "stderr",
     "output_type": "stream",
     "text": [
      " 44%|████▍     | 350/798 [01:04<01:21,  5.48it/s]"
     ]
    },
    {
     "name": "stdout",
     "output_type": "stream",
     "text": [
      "mask not found:  /Users/jingjiang/Library/CloudStorage/GoogleDrive-michaelniki1988@gmail.com/Shared drives/Jing_Drive/3_Data_Working/CausalConnectome/post_processing/tmsfmri/group_analysis_HRF_all/R_Fp/TEHC_2ndlevel/CausCon_TEHC2064_tms_R_Fp_con_0001_mni.nii\n",
      "mask not found:  /Users/jingjiang/Library/CloudStorage/GoogleDrive-michaelniki1988@gmail.com/Shared drives/Jing_Drive/3_Data_Working/CausalConnectome/post_processing/tmsfmri/group_analysis_HRF_all/R_Fp/TEHC_2ndlevel/CausCon_TEHC2066_tms_R_Fp_con_0001_mni.nii\n",
      "mask not found:  /Users/jingjiang/Library/CloudStorage/GoogleDrive-michaelniki1988@gmail.com/Shared drives/Jing_Drive/3_Data_Working/CausalConnectome/post_processing/tmsfmri/group_analysis_HRF_all/R_Fp/TEHC_2ndlevel/CausCon_TEHC2069_tms_R_Fp_con_0001_mni.nii\n"
     ]
    },
    {
     "name": "stderr",
     "output_type": "stream",
     "text": [
      "\r",
      " 44%|████▍     | 354/798 [01:04<01:04,  6.89it/s]"
     ]
    },
    {
     "name": "stdout",
     "output_type": "stream",
     "text": [
      "mask not found:  /Users/jingjiang/Library/CloudStorage/GoogleDrive-michaelniki1988@gmail.com/Shared drives/Jing_Drive/3_Data_Working/CausalConnectome/post_processing/tmsfmri/group_analysis_HRF_all/R_Fp/TEHC_2ndlevel/CausCon_TEHC2074_tms_R_Fp_con_0001_mni.nii\n"
     ]
    },
    {
     "name": "stderr",
     "output_type": "stream",
     "text": [
      " 45%|████▍     | 359/798 [01:05<01:22,  5.31it/s]"
     ]
    },
    {
     "name": "stdout",
     "output_type": "stream",
     "text": [
      "mask not found:  /Users/jingjiang/Library/CloudStorage/GoogleDrive-michaelniki1988@gmail.com/Shared drives/Jing_Drive/3_Data_Working/CausalConnectome/post_processing/tmsfmri/group_analysis_HRF_all/R_Fp/TEHC_2ndlevel/CausCon_TEHC2088_tms_R_Fp_con_0001_mni.nii\n"
     ]
    },
    {
     "name": "stderr",
     "output_type": "stream",
     "text": [
      " 50%|████▉     | 398/798 [01:40<13:18,  2.00s/it]"
     ]
    },
    {
     "name": "stdout",
     "output_type": "stream",
     "text": [
      "mask not found:  /Users/jingjiang/Library/CloudStorage/GoogleDrive-michaelniki1988@gmail.com/Shared drives/Jing_Drive/3_Data_Working/CausalConnectome/post_processing/tmsfmri/group_analysis_HRF_all/R_IFJ/NTHC_2ndlevel/CausCon_NTHC1073_tms_R_IFJ_con_0001_mni.nii\n"
     ]
    },
    {
     "name": "stderr",
     "output_type": "stream",
     "text": [
      "\r",
      " 50%|█████     | 400/798 [01:43<12:21,  1.86s/it]"
     ]
    },
    {
     "name": "stdout",
     "output_type": "stream",
     "text": [
      "mask not found:  /Users/jingjiang/Library/CloudStorage/GoogleDrive-michaelniki1988@gmail.com/Shared drives/Jing_Drive/3_Data_Working/CausalConnectome/post_processing/tmsfmri/group_analysis_HRF_all/R_IFJ/NTHC_2ndlevel/CausCon_NTHC1097_tms_R_IFJ_con_0001_mni.nii\n"
     ]
    },
    {
     "name": "stderr",
     "output_type": "stream",
     "text": [
      " 53%|█████▎    | 419/798 [01:52<01:28,  4.28it/s]"
     ]
    },
    {
     "name": "stdout",
     "output_type": "stream",
     "text": [
      "mask not found:  /Users/jingjiang/Library/CloudStorage/GoogleDrive-michaelniki1988@gmail.com/Shared drives/Jing_Drive/3_Data_Working/CausalConnectome/post_processing/tmsfmri/group_analysis_HRF_all/R_IFJ/TEHC_2ndlevel/CausCon_TEHC2040_tms_R_IFJ_con_0001_mni.nii\n"
     ]
    },
    {
     "name": "stderr",
     "output_type": "stream",
     "text": [
      " 53%|█████▎    | 426/798 [01:53<01:20,  4.60it/s]"
     ]
    },
    {
     "name": "stdout",
     "output_type": "stream",
     "text": [
      "mask not found:  /Users/jingjiang/Library/CloudStorage/GoogleDrive-michaelniki1988@gmail.com/Shared drives/Jing_Drive/3_Data_Working/CausalConnectome/post_processing/tmsfmri/group_analysis_HRF_all/R_IFJ/TEHC_2ndlevel/CausCon_TEHC2064_tms_R_IFJ_con_0001_mni.nii\n",
      "mask not found:  /Users/jingjiang/Library/CloudStorage/GoogleDrive-michaelniki1988@gmail.com/Shared drives/Jing_Drive/3_Data_Working/CausalConnectome/post_processing/tmsfmri/group_analysis_HRF_all/R_IFJ/TEHC_2ndlevel/CausCon_TEHC2066_tms_R_IFJ_con_0001_mni.nii\n",
      "mask not found:  /Users/jingjiang/Library/CloudStorage/GoogleDrive-michaelniki1988@gmail.com/Shared drives/Jing_Drive/3_Data_Working/CausalConnectome/post_processing/tmsfmri/group_analysis_HRF_all/R_IFJ/TEHC_2ndlevel/CausCon_TEHC2069_tms_R_IFJ_con_0001_mni.nii\n"
     ]
    },
    {
     "name": "stderr",
     "output_type": "stream",
     "text": [
      "\r",
      " 54%|█████▍    | 430/798 [01:53<01:02,  5.93it/s]"
     ]
    },
    {
     "name": "stdout",
     "output_type": "stream",
     "text": [
      "mask not found:  /Users/jingjiang/Library/CloudStorage/GoogleDrive-michaelniki1988@gmail.com/Shared drives/Jing_Drive/3_Data_Working/CausalConnectome/post_processing/tmsfmri/group_analysis_HRF_all/R_IFJ/TEHC_2ndlevel/CausCon_TEHC2074_tms_R_IFJ_con_0001_mni.nii\n",
      "mask not found:  /Users/jingjiang/Library/CloudStorage/GoogleDrive-michaelniki1988@gmail.com/Shared drives/Jing_Drive/3_Data_Working/CausalConnectome/post_processing/tmsfmri/group_analysis_HRF_all/R_IFJ/TEHC_2ndlevel/CausCon_TEHC2075_tms_R_IFJ_con_0001_mni.nii\n"
     ]
    },
    {
     "name": "stderr",
     "output_type": "stream",
     "text": [
      " 55%|█████▍    | 435/798 [01:54<00:59,  6.12it/s]"
     ]
    },
    {
     "name": "stdout",
     "output_type": "stream",
     "text": [
      "mask not found:  /Users/jingjiang/Library/CloudStorage/GoogleDrive-michaelniki1988@gmail.com/Shared drives/Jing_Drive/3_Data_Working/CausalConnectome/post_processing/tmsfmri/group_analysis_HRF_all/R_IFJ/TEHC_2ndlevel/CausCon_TEHC2088_tms_R_IFJ_con_0001_mni.nii\n"
     ]
    },
    {
     "name": "stderr",
     "output_type": "stream",
     "text": [
      " 57%|█████▋    | 457/798 [01:58<01:11,  4.79it/s]"
     ]
    },
    {
     "name": "stdout",
     "output_type": "stream",
     "text": [
      "mask not found:  /Users/jingjiang/Library/CloudStorage/GoogleDrive-michaelniki1988@gmail.com/Shared drives/Jing_Drive/3_Data_Working/CausalConnectome/post_processing/tmsfmri/group_analysis_HRF_all/R_IPL/NTHC_2ndlevel/CausCon_NTHC1057_tms_R_IPL_con_0001_mni.nii\n"
     ]
    },
    {
     "name": "stderr",
     "output_type": "stream",
     "text": [
      " 58%|█████▊    | 463/798 [02:00<01:07,  4.97it/s]"
     ]
    },
    {
     "name": "stdout",
     "output_type": "stream",
     "text": [
      "mask not found:  /Users/jingjiang/Library/CloudStorage/GoogleDrive-michaelniki1988@gmail.com/Shared drives/Jing_Drive/3_Data_Working/CausalConnectome/post_processing/tmsfmri/group_analysis_HRF_all/R_IPL/NTHC_2ndlevel/CausCon_NTHC1073_tms_R_IPL_con_0001_mni.nii\n"
     ]
    },
    {
     "name": "stderr",
     "output_type": "stream",
     "text": [
      "\r",
      " 58%|█████▊    | 465/798 [02:00<00:57,  5.84it/s]"
     ]
    },
    {
     "name": "stdout",
     "output_type": "stream",
     "text": [
      "mask not found:  /Users/jingjiang/Library/CloudStorage/GoogleDrive-michaelniki1988@gmail.com/Shared drives/Jing_Drive/3_Data_Working/CausalConnectome/post_processing/tmsfmri/group_analysis_HRF_all/R_IPL/NTHC_2ndlevel/CausCon_NTHC1097_tms_R_IPL_con_0001_mni.nii\n"
     ]
    },
    {
     "name": "stderr",
     "output_type": "stream",
     "text": [
      " 60%|██████    | 482/798 [02:03<00:51,  6.15it/s]"
     ]
    },
    {
     "name": "stdout",
     "output_type": "stream",
     "text": [
      "mask not found:  /Users/jingjiang/Library/CloudStorage/GoogleDrive-michaelniki1988@gmail.com/Shared drives/Jing_Drive/3_Data_Working/CausalConnectome/post_processing/tmsfmri/group_analysis_HRF_all/R_IPL/TEHC_2ndlevel/CausCon_TEHC2064_tms_R_IPL_con_0001_mni.nii\n",
      "mask not found:  /Users/jingjiang/Library/CloudStorage/GoogleDrive-michaelniki1988@gmail.com/Shared drives/Jing_Drive/3_Data_Working/CausalConnectome/post_processing/tmsfmri/group_analysis_HRF_all/R_IPL/TEHC_2ndlevel/CausCon_TEHC2066_tms_R_IPL_con_0001_mni.nii\n",
      "mask not found:  /Users/jingjiang/Library/CloudStorage/GoogleDrive-michaelniki1988@gmail.com/Shared drives/Jing_Drive/3_Data_Working/CausalConnectome/post_processing/tmsfmri/group_analysis_HRF_all/R_IPL/TEHC_2ndlevel/CausCon_TEHC2074_tms_R_IPL_con_0001_mni.nii\n"
     ]
    },
    {
     "name": "stderr",
     "output_type": "stream",
     "text": [
      " 61%|██████    | 487/798 [02:03<01:02,  4.97it/s]"
     ]
    },
    {
     "name": "stdout",
     "output_type": "stream",
     "text": [
      "mask not found:  /Users/jingjiang/Library/CloudStorage/GoogleDrive-michaelniki1988@gmail.com/Shared drives/Jing_Drive/3_Data_Working/CausalConnectome/post_processing/tmsfmri/group_analysis_HRF_all/R_IPL/TEHC_2ndlevel/CausCon_TEHC2088_tms_R_IPL_con_0001_mni.nii\n"
     ]
    },
    {
     "name": "stderr",
     "output_type": "stream",
     "text": [
      " 63%|██████▎   | 503/798 [02:07<00:57,  5.10it/s]"
     ]
    },
    {
     "name": "stdout",
     "output_type": "stream",
     "text": [
      "mask not found:  /Users/jingjiang/Library/CloudStorage/GoogleDrive-michaelniki1988@gmail.com/Shared drives/Jing_Drive/3_Data_Working/CausalConnectome/post_processing/tmsfmri/group_analysis_HRF_all/R_M1/NTHC_2ndlevel/CausCon_NTHC1023_tms_R_M1_con_0001_mni.nii\n"
     ]
    },
    {
     "name": "stderr",
     "output_type": "stream",
     "text": [
      " 66%|██████▌   | 523/798 [02:11<00:57,  4.78it/s]"
     ]
    },
    {
     "name": "stdout",
     "output_type": "stream",
     "text": [
      "mask not found:  /Users/jingjiang/Library/CloudStorage/GoogleDrive-michaelniki1988@gmail.com/Shared drives/Jing_Drive/3_Data_Working/CausalConnectome/post_processing/tmsfmri/group_analysis_HRF_all/R_M1/NTHC_2ndlevel/CausCon_NTHC1057_tms_R_M1_con_0001_mni.nii\n"
     ]
    },
    {
     "name": "stderr",
     "output_type": "stream",
     "text": [
      " 67%|██████▋   | 531/798 [02:12<00:44,  5.94it/s]"
     ]
    },
    {
     "name": "stdout",
     "output_type": "stream",
     "text": [
      "mask not found:  /Users/jingjiang/Library/CloudStorage/GoogleDrive-michaelniki1988@gmail.com/Shared drives/Jing_Drive/3_Data_Working/CausalConnectome/post_processing/tmsfmri/group_analysis_HRF_all/R_M1/NTHC_2ndlevel/CausCon_NTHC1073_tms_R_M1_con_0001_mni.nii\n",
      "mask not found:  /Users/jingjiang/Library/CloudStorage/GoogleDrive-michaelniki1988@gmail.com/Shared drives/Jing_Drive/3_Data_Working/CausalConnectome/post_processing/tmsfmri/group_analysis_HRF_all/R_M1/NTHC_2ndlevel/CausCon_NTHC1097_tms_R_M1_con_0001_mni.nii\n"
     ]
    },
    {
     "name": "stderr",
     "output_type": "stream",
     "text": [
      " 70%|██████▉   | 556/798 [02:17<00:48,  4.97it/s]"
     ]
    },
    {
     "name": "stdout",
     "output_type": "stream",
     "text": [
      "mask not found:  /Users/jingjiang/Library/CloudStorage/GoogleDrive-michaelniki1988@gmail.com/Shared drives/Jing_Drive/3_Data_Working/CausalConnectome/post_processing/tmsfmri/group_analysis_HRF_all/R_M1/TEHC_2ndlevel/CausCon_TEHC2064_tms_R_M1_con_0001_mni.nii\n",
      "mask not found:  /Users/jingjiang/Library/CloudStorage/GoogleDrive-michaelniki1988@gmail.com/Shared drives/Jing_Drive/3_Data_Working/CausalConnectome/post_processing/tmsfmri/group_analysis_HRF_all/R_M1/TEHC_2ndlevel/CausCon_TEHC2066_tms_R_M1_con_0001_mni.nii\n",
      "mask not found:  /Users/jingjiang/Library/CloudStorage/GoogleDrive-michaelniki1988@gmail.com/Shared drives/Jing_Drive/3_Data_Working/CausalConnectome/post_processing/tmsfmri/group_analysis_HRF_all/R_M1/TEHC_2ndlevel/CausCon_TEHC2069_tms_R_M1_con_0001_mni.nii\n"
     ]
    },
    {
     "name": "stderr",
     "output_type": "stream",
     "text": [
      "\r",
      " 70%|███████   | 560/798 [02:17<00:37,  6.36it/s]"
     ]
    },
    {
     "name": "stdout",
     "output_type": "stream",
     "text": [
      "mask not found:  /Users/jingjiang/Library/CloudStorage/GoogleDrive-michaelniki1988@gmail.com/Shared drives/Jing_Drive/3_Data_Working/CausalConnectome/post_processing/tmsfmri/group_analysis_HRF_all/R_M1/TEHC_2ndlevel/CausCon_TEHC2074_tms_R_M1_con_0001_mni.nii\n"
     ]
    },
    {
     "name": "stderr",
     "output_type": "stream",
     "text": [
      " 71%|███████   | 565/798 [02:18<00:41,  5.63it/s]"
     ]
    },
    {
     "name": "stdout",
     "output_type": "stream",
     "text": [
      "mask not found:  /Users/jingjiang/Library/CloudStorage/GoogleDrive-michaelniki1988@gmail.com/Shared drives/Jing_Drive/3_Data_Working/CausalConnectome/post_processing/tmsfmri/group_analysis_HRF_all/R_M1/TEHC_2ndlevel/CausCon_TEHC2088_tms_R_M1_con_0001_mni.nii\n"
     ]
    },
    {
     "name": "stderr",
     "output_type": "stream",
     "text": [
      " 75%|███████▌  | 602/798 [02:26<00:43,  4.53it/s]"
     ]
    },
    {
     "name": "stdout",
     "output_type": "stream",
     "text": [
      "mask not found:  /Users/jingjiang/Library/CloudStorage/GoogleDrive-michaelniki1988@gmail.com/Shared drives/Jing_Drive/3_Data_Working/CausalConnectome/post_processing/tmsfmri/group_analysis_HRF_all/R_aMFG/NTHC_2ndlevel/CausCon_NTHC1057_tms_R_aMFG_con_0001_mni.nii\n"
     ]
    },
    {
     "name": "stderr",
     "output_type": "stream",
     "text": [
      " 77%|███████▋  | 611/798 [02:27<00:33,  5.61it/s]"
     ]
    },
    {
     "name": "stdout",
     "output_type": "stream",
     "text": [
      "mask not found:  /Users/jingjiang/Library/CloudStorage/GoogleDrive-michaelniki1988@gmail.com/Shared drives/Jing_Drive/3_Data_Working/CausalConnectome/post_processing/tmsfmri/group_analysis_HRF_all/R_aMFG/NTHC_2ndlevel/CausCon_NTHC1073_tms_R_aMFG_con_0001_mni.nii\n",
      "mask not found:  /Users/jingjiang/Library/CloudStorage/GoogleDrive-michaelniki1988@gmail.com/Shared drives/Jing_Drive/3_Data_Working/CausalConnectome/post_processing/tmsfmri/group_analysis_HRF_all/R_aMFG/NTHC_2ndlevel/CausCon_NTHC1097_tms_R_aMFG_con_0001_mni.nii\n"
     ]
    },
    {
     "name": "stderr",
     "output_type": "stream",
     "text": [
      " 80%|███████▉  | 637/798 [02:32<00:32,  5.00it/s]"
     ]
    },
    {
     "name": "stdout",
     "output_type": "stream",
     "text": [
      "mask not found:  /Users/jingjiang/Library/CloudStorage/GoogleDrive-michaelniki1988@gmail.com/Shared drives/Jing_Drive/3_Data_Working/CausalConnectome/post_processing/tmsfmri/group_analysis_HRF_all/R_aMFG/TEHC_2ndlevel/CausCon_TEHC2064_tms_R_aMFG_con_0001_mni.nii\n",
      "mask not found:  /Users/jingjiang/Library/CloudStorage/GoogleDrive-michaelniki1988@gmail.com/Shared drives/Jing_Drive/3_Data_Working/CausalConnectome/post_processing/tmsfmri/group_analysis_HRF_all/R_aMFG/TEHC_2ndlevel/CausCon_TEHC2066_tms_R_aMFG_con_0001_mni.nii\n",
      "mask not found:  /Users/jingjiang/Library/CloudStorage/GoogleDrive-michaelniki1988@gmail.com/Shared drives/Jing_Drive/3_Data_Working/CausalConnectome/post_processing/tmsfmri/group_analysis_HRF_all/R_aMFG/TEHC_2ndlevel/CausCon_TEHC2069_tms_R_aMFG_con_0001_mni.nii\n",
      "mask not found:  /Users/jingjiang/Library/CloudStorage/GoogleDrive-michaelniki1988@gmail.com/Shared drives/Jing_Drive/3_Data_Working/CausalConnectome/post_processing/tmsfmri/group_analysis_HRF_all/R_aMFG/TEHC_2ndlevel/CausCon_TEHC2074_tms_R_aMFG_con_0001_mni.nii\n"
     ]
    },
    {
     "name": "stderr",
     "output_type": "stream",
     "text": [
      " 81%|████████  | 645/798 [02:33<00:27,  5.51it/s]"
     ]
    },
    {
     "name": "stdout",
     "output_type": "stream",
     "text": [
      "mask not found:  /Users/jingjiang/Library/CloudStorage/GoogleDrive-michaelniki1988@gmail.com/Shared drives/Jing_Drive/3_Data_Working/CausalConnectome/post_processing/tmsfmri/group_analysis_HRF_all/R_aMFG/TEHC_2ndlevel/CausCon_TEHC2088_tms_R_aMFG_con_0001_mni.nii\n"
     ]
    },
    {
     "name": "stderr",
     "output_type": "stream",
     "text": [
      " 83%|████████▎ | 663/798 [02:37<00:28,  4.81it/s]"
     ]
    },
    {
     "name": "stdout",
     "output_type": "stream",
     "text": [
      "mask not found:  /Users/jingjiang/Library/CloudStorage/GoogleDrive-michaelniki1988@gmail.com/Shared drives/Jing_Drive/3_Data_Working/CausalConnectome/post_processing/tmsfmri/group_analysis_HRF_all/R_pMFG/NTHC_2ndlevel/CausCon_NTHC1023_tms_R_pMFG_con_0001_mni.nii\n"
     ]
    },
    {
     "name": "stderr",
     "output_type": "stream",
     "text": [
      " 86%|████████▌ | 685/798 [02:41<00:18,  5.98it/s]"
     ]
    },
    {
     "name": "stdout",
     "output_type": "stream",
     "text": [
      "mask not found:  /Users/jingjiang/Library/CloudStorage/GoogleDrive-michaelniki1988@gmail.com/Shared drives/Jing_Drive/3_Data_Working/CausalConnectome/post_processing/tmsfmri/group_analysis_HRF_all/R_pMFG/NTHC_2ndlevel/CausCon_NTHC1057_tms_R_pMFG_con_0001_mni.nii\n"
     ]
    },
    {
     "name": "stderr",
     "output_type": "stream",
     "text": [
      " 87%|████████▋ | 691/798 [02:42<00:18,  5.86it/s]"
     ]
    },
    {
     "name": "stdout",
     "output_type": "stream",
     "text": [
      "mask not found:  /Users/jingjiang/Library/CloudStorage/GoogleDrive-michaelniki1988@gmail.com/Shared drives/Jing_Drive/3_Data_Working/CausalConnectome/post_processing/tmsfmri/group_analysis_HRF_all/R_pMFG/NTHC_2ndlevel/CausCon_NTHC1073_tms_R_pMFG_con_0001_mni.nii\n",
      "mask not found:  /Users/jingjiang/Library/CloudStorage/GoogleDrive-michaelniki1988@gmail.com/Shared drives/Jing_Drive/3_Data_Working/CausalConnectome/post_processing/tmsfmri/group_analysis_HRF_all/R_pMFG/NTHC_2ndlevel/CausCon_NTHC1097_tms_R_pMFG_con_0001_mni.nii\n"
     ]
    },
    {
     "name": "stderr",
     "output_type": "stream",
     "text": [
      " 90%|█████████ | 720/798 [02:47<00:12,  6.25it/s]"
     ]
    },
    {
     "name": "stdout",
     "output_type": "stream",
     "text": [
      "mask not found:  /Users/jingjiang/Library/CloudStorage/GoogleDrive-michaelniki1988@gmail.com/Shared drives/Jing_Drive/3_Data_Working/CausalConnectome/post_processing/tmsfmri/group_analysis_HRF_all/R_pMFG/TEHC_2ndlevel/CausCon_TEHC2064_tms_R_pMFG_con_0001_mni.nii\n",
      "mask not found:  /Users/jingjiang/Library/CloudStorage/GoogleDrive-michaelniki1988@gmail.com/Shared drives/Jing_Drive/3_Data_Working/CausalConnectome/post_processing/tmsfmri/group_analysis_HRF_all/R_pMFG/TEHC_2ndlevel/CausCon_TEHC2066_tms_R_pMFG_con_0001_mni.nii\n",
      "mask not found:  /Users/jingjiang/Library/CloudStorage/GoogleDrive-michaelniki1988@gmail.com/Shared drives/Jing_Drive/3_Data_Working/CausalConnectome/post_processing/tmsfmri/group_analysis_HRF_all/R_pMFG/TEHC_2ndlevel/CausCon_TEHC2069_tms_R_pMFG_con_0001_mni.nii\n",
      "mask not found:  /Users/jingjiang/Library/CloudStorage/GoogleDrive-michaelniki1988@gmail.com/Shared drives/Jing_Drive/3_Data_Working/CausalConnectome/post_processing/tmsfmri/group_analysis_HRF_all/R_pMFG/TEHC_2ndlevel/CausCon_TEHC2074_tms_R_pMFG_con_0001_mni.nii\n"
     ]
    },
    {
     "name": "stderr",
     "output_type": "stream",
     "text": [
      " 91%|█████████ | 725/798 [02:48<00:13,  5.48it/s]"
     ]
    },
    {
     "name": "stdout",
     "output_type": "stream",
     "text": [
      "mask not found:  /Users/jingjiang/Library/CloudStorage/GoogleDrive-michaelniki1988@gmail.com/Shared drives/Jing_Drive/3_Data_Working/CausalConnectome/post_processing/tmsfmri/group_analysis_HRF_all/R_pMFG/TEHC_2ndlevel/CausCon_TEHC2088_tms_R_pMFG_con_0001_mni.nii\n"
     ]
    },
    {
     "name": "stderr",
     "output_type": "stream",
     "text": [
      " 93%|█████████▎| 739/798 [02:50<00:11,  4.99it/s]"
     ]
    },
    {
     "name": "stdout",
     "output_type": "stream",
     "text": [
      "mask not found:  /Users/jingjiang/Library/CloudStorage/GoogleDrive-michaelniki1988@gmail.com/Shared drives/Jing_Drive/3_Data_Working/CausalConnectome/post_processing/tmsfmri/group_analysis_HRF_all/R_preSMA/NTHC_2ndlevel/CausCon_NTHC1023_tms_R_preSMA_con_0001_mni.nii\n"
     ]
    },
    {
     "name": "stderr",
     "output_type": "stream",
     "text": [
      " 96%|█████████▌| 764/798 [02:55<00:06,  5.60it/s]"
     ]
    },
    {
     "name": "stdout",
     "output_type": "stream",
     "text": [
      "mask not found:  /Users/jingjiang/Library/CloudStorage/GoogleDrive-michaelniki1988@gmail.com/Shared drives/Jing_Drive/3_Data_Working/CausalConnectome/post_processing/tmsfmri/group_analysis_HRF_all/R_preSMA/NTHC_2ndlevel/CausCon_NTHC1073_tms_R_preSMA_con_0001_mni.nii\n",
      "mask not found:  /Users/jingjiang/Library/CloudStorage/GoogleDrive-michaelniki1988@gmail.com/Shared drives/Jing_Drive/3_Data_Working/CausalConnectome/post_processing/tmsfmri/group_analysis_HRF_all/R_preSMA/NTHC_2ndlevel/CausCon_NTHC1097_tms_R_preSMA_con_0001_mni.nii\n"
     ]
    },
    {
     "name": "stderr",
     "output_type": "stream",
     "text": [
      " 99%|█████████▉| 789/798 [02:59<00:01,  6.18it/s]"
     ]
    },
    {
     "name": "stdout",
     "output_type": "stream",
     "text": [
      "mask not found:  /Users/jingjiang/Library/CloudStorage/GoogleDrive-michaelniki1988@gmail.com/Shared drives/Jing_Drive/3_Data_Working/CausalConnectome/post_processing/tmsfmri/group_analysis_HRF_all/R_preSMA/TEHC_2ndlevel/CausCon_TEHC2064_tms_R_preSMA_con_0001_mni.nii\n",
      "mask not found:  /Users/jingjiang/Library/CloudStorage/GoogleDrive-michaelniki1988@gmail.com/Shared drives/Jing_Drive/3_Data_Working/CausalConnectome/post_processing/tmsfmri/group_analysis_HRF_all/R_preSMA/TEHC_2ndlevel/CausCon_TEHC2066_tms_R_preSMA_con_0001_mni.nii\n",
      "mask not found:  /Users/jingjiang/Library/CloudStorage/GoogleDrive-michaelniki1988@gmail.com/Shared drives/Jing_Drive/3_Data_Working/CausalConnectome/post_processing/tmsfmri/group_analysis_HRF_all/R_preSMA/TEHC_2ndlevel/CausCon_TEHC2069_tms_R_preSMA_con_0001_mni.nii\n"
     ]
    },
    {
     "name": "stderr",
     "output_type": "stream",
     "text": [
      " 99%|█████████▉| 792/798 [03:00<00:01,  5.37it/s]"
     ]
    },
    {
     "name": "stdout",
     "output_type": "stream",
     "text": [
      "mask not found:  /Users/jingjiang/Library/CloudStorage/GoogleDrive-michaelniki1988@gmail.com/Shared drives/Jing_Drive/3_Data_Working/CausalConnectome/post_processing/tmsfmri/group_analysis_HRF_all/R_preSMA/TEHC_2ndlevel/CausCon_TEHC2088_tms_R_preSMA_con_0001_mni.nii\n"
     ]
    },
    {
     "name": "stderr",
     "output_type": "stream",
     "text": [
      "100%|██████████| 798/798 [03:01<00:00,  4.40it/s]\n"
     ]
    }
   ],
   "source": [
    "# individual roi 10mm:\n",
    "roi_dir = base_dir + \"/3_Data_Working/CausalConnectome/post_processing/tmsfmri/William/Nov_3/tms_spheres/\"\n",
    "\n",
    "tms_site_response = []\n",
    "for i in trange(len(complete_df)):\n",
    "    image_name = complete_df.iloc[i]['inputfile']\n",
    "    site = complete_df.iloc[i]['site'].replace('_', '-')\n",
    "    subject = complete_df.iloc[i]['subject']\n",
    "    mask_file = glob(roi_dir + site + \"/\" + str(subject) + \"_10mm.nii*\")\n",
    "    \n",
    "    if mask_file:\n",
    "        try:\n",
    "            nifti_masker = maskers.NiftiMasker(mask_file[0]).fit()\n",
    "            tms_site_response.append(np.mean(nifti_masker.transform(image_name)))\n",
    "        except:\n",
    "            tms_site_response.append(np.nan)\n",
    "            print(\"error occurs for mask: \", mask_file[0])\n",
    "    else:\n",
    "        tms_site_response.append(np.nan)\n",
    "        print(\"mask not found: \", image_name)\n",
    "\n",
    "complete_df['tms_site_response_individual_10mm'] = tms_site_response\n",
    "# complete_df.to_csv(out_dir + out_file_name, index=False)"
   ]
  },
  {
   "cell_type": "code",
   "execution_count": 8,
   "metadata": {},
   "outputs": [
    {
     "name": "stderr",
     "output_type": "stream",
     "text": [
      "  0%|          | 3/798 [00:00<02:53,  4.59it/s]"
     ]
    },
    {
     "name": "stdout",
     "output_type": "stream",
     "text": [
      "mask not found:  /Users/jingjiang/Library/CloudStorage/GoogleDrive-michaelniki1988@gmail.com/Shared drives/Jing_Drive/3_Data_Working/CausalConnectome/post_processing/tmsfmri/group_analysis_HRF_all/L_Fp/NTHC_2ndlevel/CausCon_NTHC1037_tms_L_Fp_con_0001_mni.nii\n"
     ]
    },
    {
     "name": "stderr",
     "output_type": "stream",
     "text": [
      "  1%|          | 9/798 [00:01<02:17,  5.73it/s]"
     ]
    },
    {
     "name": "stdout",
     "output_type": "stream",
     "text": [
      "mask not found:  /Users/jingjiang/Library/CloudStorage/GoogleDrive-michaelniki1988@gmail.com/Shared drives/Jing_Drive/3_Data_Working/CausalConnectome/post_processing/tmsfmri/group_analysis_HRF_all/L_Fp/NTHC_2ndlevel/CausCon_NTHC1043_tms_L_Fp_con_0001_mni.nii\n"
     ]
    },
    {
     "name": "stderr",
     "output_type": "stream",
     "text": [
      "\r",
      "  1%|▏         | 10/798 [00:01<02:24,  5.44it/s]"
     ]
    },
    {
     "name": "stdout",
     "output_type": "stream",
     "text": [
      "mask not found:  /Users/jingjiang/Library/CloudStorage/GoogleDrive-michaelniki1988@gmail.com/Shared drives/Jing_Drive/3_Data_Working/CausalConnectome/post_processing/tmsfmri/group_analysis_HRF_all/L_Fp/NTHC_2ndlevel/CausCon_NTHC1050_tms_L_Fp_con_0001_mni.nii\n"
     ]
    },
    {
     "name": "stderr",
     "output_type": "stream",
     "text": [
      "  2%|▏         | 15/798 [00:02<02:03,  6.36it/s]"
     ]
    },
    {
     "name": "stdout",
     "output_type": "stream",
     "text": [
      "mask not found:  /Users/jingjiang/Library/CloudStorage/GoogleDrive-michaelniki1988@gmail.com/Shared drives/Jing_Drive/3_Data_Working/CausalConnectome/post_processing/tmsfmri/group_analysis_HRF_all/L_Fp/NTHC_2ndlevel/CausCon_NTHC1055_tms_L_Fp_con_0001_mni.nii\n"
     ]
    },
    {
     "name": "stderr",
     "output_type": "stream",
     "text": [
      "  3%|▎         | 21/798 [00:03<02:45,  4.70it/s]"
     ]
    },
    {
     "name": "stdout",
     "output_type": "stream",
     "text": [
      "mask not found:  /Users/jingjiang/Library/CloudStorage/GoogleDrive-michaelniki1988@gmail.com/Shared drives/Jing_Drive/3_Data_Working/CausalConnectome/post_processing/tmsfmri/group_analysis_HRF_all/L_Fp/NTHC_2ndlevel/CausCon_NTHC1073_tms_L_Fp_con_0001_mni.nii\n"
     ]
    },
    {
     "name": "stderr",
     "output_type": "stream",
     "text": [
      "\r",
      "  3%|▎         | 23/798 [00:03<02:21,  5.47it/s]"
     ]
    },
    {
     "name": "stdout",
     "output_type": "stream",
     "text": [
      "mask not found:  /Users/jingjiang/Library/CloudStorage/GoogleDrive-michaelniki1988@gmail.com/Shared drives/Jing_Drive/3_Data_Working/CausalConnectome/post_processing/tmsfmri/group_analysis_HRF_all/L_Fp/NTHC_2ndlevel/CausCon_NTHC1097_tms_L_Fp_con_0001_mni.nii\n"
     ]
    },
    {
     "name": "stderr",
     "output_type": "stream",
     "text": [
      "  5%|▌         | 42/798 [00:07<02:36,  4.83it/s]"
     ]
    },
    {
     "name": "stdout",
     "output_type": "stream",
     "text": [
      "mask not found:  /Users/jingjiang/Library/CloudStorage/GoogleDrive-michaelniki1988@gmail.com/Shared drives/Jing_Drive/3_Data_Working/CausalConnectome/post_processing/tmsfmri/group_analysis_HRF_all/L_Fp/TEHC_2ndlevel/CausCon_TEHC2047_tms_L_Fp_con_0001_mni.nii\n"
     ]
    },
    {
     "name": "stderr",
     "output_type": "stream",
     "text": [
      "  6%|▋         | 50/798 [00:08<01:48,  6.92it/s]"
     ]
    },
    {
     "name": "stdout",
     "output_type": "stream",
     "text": [
      "mask not found:  /Users/jingjiang/Library/CloudStorage/GoogleDrive-michaelniki1988@gmail.com/Shared drives/Jing_Drive/3_Data_Working/CausalConnectome/post_processing/tmsfmri/group_analysis_HRF_all/L_Fp/TEHC_2ndlevel/CausCon_TEHC2064_tms_L_Fp_con_0001_mni.nii\n",
      "mask not found:  /Users/jingjiang/Library/CloudStorage/GoogleDrive-michaelniki1988@gmail.com/Shared drives/Jing_Drive/3_Data_Working/CausalConnectome/post_processing/tmsfmri/group_analysis_HRF_all/L_Fp/TEHC_2ndlevel/CausCon_TEHC2066_tms_L_Fp_con_0001_mni.nii\n",
      "mask not found:  /Users/jingjiang/Library/CloudStorage/GoogleDrive-michaelniki1988@gmail.com/Shared drives/Jing_Drive/3_Data_Working/CausalConnectome/post_processing/tmsfmri/group_analysis_HRF_all/L_Fp/TEHC_2ndlevel/CausCon_TEHC2069_tms_L_Fp_con_0001_mni.nii\n",
      "mask not found:  /Users/jingjiang/Library/CloudStorage/GoogleDrive-michaelniki1988@gmail.com/Shared drives/Jing_Drive/3_Data_Working/CausalConnectome/post_processing/tmsfmri/group_analysis_HRF_all/L_Fp/TEHC_2ndlevel/CausCon_TEHC2074_tms_L_Fp_con_0001_mni.nii\n"
     ]
    },
    {
     "name": "stderr",
     "output_type": "stream",
     "text": [
      "  7%|▋         | 57/798 [00:09<01:54,  6.45it/s]"
     ]
    },
    {
     "name": "stdout",
     "output_type": "stream",
     "text": [
      "mask not found:  /Users/jingjiang/Library/CloudStorage/GoogleDrive-michaelniki1988@gmail.com/Shared drives/Jing_Drive/3_Data_Working/CausalConnectome/post_processing/tmsfmri/group_analysis_HRF_all/L_Fp/TEHC_2ndlevel/CausCon_TEHC2088_tms_L_Fp_con_0001_mni.nii\n"
     ]
    },
    {
     "name": "stderr",
     "output_type": "stream",
     "text": [
      " 12%|█▏        | 93/798 [00:16<01:59,  5.92it/s]"
     ]
    },
    {
     "name": "stdout",
     "output_type": "stream",
     "text": [
      "mask not found:  /Users/jingjiang/Library/CloudStorage/GoogleDrive-michaelniki1988@gmail.com/Shared drives/Jing_Drive/3_Data_Working/CausalConnectome/post_processing/tmsfmri/group_analysis_HRF_all/L_aMFG/NTHC_2ndlevel/CausCon_NTHC1057_tms_L_aMFG_con_0001_mni.nii\n"
     ]
    },
    {
     "name": "stderr",
     "output_type": "stream",
     "text": [
      " 12%|█▏        | 99/798 [00:17<01:55,  6.03it/s]"
     ]
    },
    {
     "name": "stdout",
     "output_type": "stream",
     "text": [
      "mask not found:  /Users/jingjiang/Library/CloudStorage/GoogleDrive-michaelniki1988@gmail.com/Shared drives/Jing_Drive/3_Data_Working/CausalConnectome/post_processing/tmsfmri/group_analysis_HRF_all/L_aMFG/NTHC_2ndlevel/CausCon_NTHC1073_tms_L_aMFG_con_0001_mni.nii\n",
      "mask not found:  /Users/jingjiang/Library/CloudStorage/GoogleDrive-michaelniki1988@gmail.com/Shared drives/Jing_Drive/3_Data_Working/CausalConnectome/post_processing/tmsfmri/group_analysis_HRF_all/L_aMFG/NTHC_2ndlevel/CausCon_NTHC1097_tms_L_aMFG_con_0001_mni.nii\n"
     ]
    },
    {
     "name": "stderr",
     "output_type": "stream",
     "text": [
      " 16%|█▌        | 124/798 [00:23<02:30,  4.48it/s]"
     ]
    },
    {
     "name": "stdout",
     "output_type": "stream",
     "text": [
      "mask not found:  /Users/jingjiang/Library/CloudStorage/GoogleDrive-michaelniki1988@gmail.com/Shared drives/Jing_Drive/3_Data_Working/CausalConnectome/post_processing/tmsfmri/group_analysis_HRF_all/L_aMFG/TEHC_2ndlevel/CausCon_TEHC2064_tms_L_aMFG_con_0001_mni.nii\n",
      "mask not found:  /Users/jingjiang/Library/CloudStorage/GoogleDrive-michaelniki1988@gmail.com/Shared drives/Jing_Drive/3_Data_Working/CausalConnectome/post_processing/tmsfmri/group_analysis_HRF_all/L_aMFG/TEHC_2ndlevel/CausCon_TEHC2066_tms_L_aMFG_con_0001_mni.nii\n",
      "mask not found:  /Users/jingjiang/Library/CloudStorage/GoogleDrive-michaelniki1988@gmail.com/Shared drives/Jing_Drive/3_Data_Working/CausalConnectome/post_processing/tmsfmri/group_analysis_HRF_all/L_aMFG/TEHC_2ndlevel/CausCon_TEHC2069_tms_L_aMFG_con_0001_mni.nii\n"
     ]
    },
    {
     "name": "stderr",
     "output_type": "stream",
     "text": [
      "\r",
      " 16%|█▌        | 128/798 [00:23<01:55,  5.81it/s]"
     ]
    },
    {
     "name": "stdout",
     "output_type": "stream",
     "text": [
      "mask not found:  /Users/jingjiang/Library/CloudStorage/GoogleDrive-michaelniki1988@gmail.com/Shared drives/Jing_Drive/3_Data_Working/CausalConnectome/post_processing/tmsfmri/group_analysis_HRF_all/L_aMFG/TEHC_2ndlevel/CausCon_TEHC2074_tms_L_aMFG_con_0001_mni.nii\n",
      "mask not found:  /Users/jingjiang/Library/CloudStorage/GoogleDrive-michaelniki1988@gmail.com/Shared drives/Jing_Drive/3_Data_Working/CausalConnectome/post_processing/tmsfmri/group_analysis_HRF_all/L_aMFG/TEHC_2ndlevel/CausCon_TEHC2075_tms_L_aMFG_con_0001_mni.nii\n"
     ]
    },
    {
     "name": "stderr",
     "output_type": "stream",
     "text": [
      " 17%|█▋        | 135/798 [00:24<02:08,  5.15it/s]"
     ]
    },
    {
     "name": "stdout",
     "output_type": "stream",
     "text": [
      "mask not found:  /Users/jingjiang/Library/CloudStorage/GoogleDrive-michaelniki1988@gmail.com/Shared drives/Jing_Drive/3_Data_Working/CausalConnectome/post_processing/tmsfmri/group_analysis_HRF_all/L_aMFG/TEHC_2ndlevel/CausCon_TEHC2096_tms_L_aMFG_con_0001_mni.nii\n"
     ]
    },
    {
     "name": "stderr",
     "output_type": "stream",
     "text": [
      " 19%|█▉        | 152/798 [00:27<01:52,  5.76it/s]"
     ]
    },
    {
     "name": "stdout",
     "output_type": "stream",
     "text": [
      "mask not found:  /Users/jingjiang/Library/CloudStorage/GoogleDrive-michaelniki1988@gmail.com/Shared drives/Jing_Drive/3_Data_Working/CausalConnectome/post_processing/tmsfmri/group_analysis_HRF_all/L_pMFG/NTHC_2ndlevel/CausCon_NTHC1023_tms_L_pMFG_con_0001_mni.nii\n"
     ]
    },
    {
     "name": "stderr",
     "output_type": "stream",
     "text": [
      " 22%|██▏       | 172/798 [00:31<01:53,  5.54it/s]"
     ]
    },
    {
     "name": "stdout",
     "output_type": "stream",
     "text": [
      "mask not found:  /Users/jingjiang/Library/CloudStorage/GoogleDrive-michaelniki1988@gmail.com/Shared drives/Jing_Drive/3_Data_Working/CausalConnectome/post_processing/tmsfmri/group_analysis_HRF_all/L_pMFG/NTHC_2ndlevel/CausCon_NTHC1057_tms_L_pMFG_con_0001_mni.nii\n"
     ]
    },
    {
     "name": "stderr",
     "output_type": "stream",
     "text": [
      " 22%|██▏       | 177/798 [00:32<02:12,  4.68it/s]"
     ]
    },
    {
     "name": "stdout",
     "output_type": "stream",
     "text": [
      "mask not found:  /Users/jingjiang/Library/CloudStorage/GoogleDrive-michaelniki1988@gmail.com/Shared drives/Jing_Drive/3_Data_Working/CausalConnectome/post_processing/tmsfmri/group_analysis_HRF_all/L_pMFG/NTHC_2ndlevel/CausCon_NTHC1073_tms_L_pMFG_con_0001_mni.nii\n"
     ]
    },
    {
     "name": "stderr",
     "output_type": "stream",
     "text": [
      "\r",
      " 22%|██▏       | 179/798 [00:32<01:52,  5.48it/s]"
     ]
    },
    {
     "name": "stdout",
     "output_type": "stream",
     "text": [
      "mask not found:  /Users/jingjiang/Library/CloudStorage/GoogleDrive-michaelniki1988@gmail.com/Shared drives/Jing_Drive/3_Data_Working/CausalConnectome/post_processing/tmsfmri/group_analysis_HRF_all/L_pMFG/NTHC_2ndlevel/CausCon_NTHC1097_tms_L_pMFG_con_0001_mni.nii\n"
     ]
    },
    {
     "name": "stderr",
     "output_type": "stream",
     "text": [
      " 26%|██▌       | 204/798 [00:38<02:02,  4.87it/s]"
     ]
    },
    {
     "name": "stdout",
     "output_type": "stream",
     "text": [
      "mask not found:  /Users/jingjiang/Library/CloudStorage/GoogleDrive-michaelniki1988@gmail.com/Shared drives/Jing_Drive/3_Data_Working/CausalConnectome/post_processing/tmsfmri/group_analysis_HRF_all/L_pMFG/TEHC_2ndlevel/CausCon_TEHC2064_tms_L_pMFG_con_0001_mni.nii\n"
     ]
    },
    {
     "name": "stderr",
     "output_type": "stream",
     "text": [
      " 26%|██▌       | 208/798 [00:38<01:30,  6.54it/s]"
     ]
    },
    {
     "name": "stdout",
     "output_type": "stream",
     "text": [
      "mask not found:  /Users/jingjiang/Library/CloudStorage/GoogleDrive-michaelniki1988@gmail.com/Shared drives/Jing_Drive/3_Data_Working/CausalConnectome/post_processing/tmsfmri/group_analysis_HRF_all/L_pMFG/TEHC_2ndlevel/CausCon_TEHC2069_tms_L_pMFG_con_0001_mni.nii\n",
      "mask not found:  /Users/jingjiang/Library/CloudStorage/GoogleDrive-michaelniki1988@gmail.com/Shared drives/Jing_Drive/3_Data_Working/CausalConnectome/post_processing/tmsfmri/group_analysis_HRF_all/L_pMFG/TEHC_2ndlevel/CausCon_TEHC2074_tms_L_pMFG_con_0001_mni.nii\n",
      "mask not found:  /Users/jingjiang/Library/CloudStorage/GoogleDrive-michaelniki1988@gmail.com/Shared drives/Jing_Drive/3_Data_Working/CausalConnectome/post_processing/tmsfmri/group_analysis_HRF_all/L_pMFG/TEHC_2ndlevel/CausCon_TEHC2075_tms_L_pMFG_con_0001_mni.nii\n"
     ]
    },
    {
     "name": "stderr",
     "output_type": "stream",
     "text": [
      " 27%|██▋       | 214/798 [00:39<01:21,  7.19it/s]"
     ]
    },
    {
     "name": "stdout",
     "output_type": "stream",
     "text": [
      "mask not found:  /Users/jingjiang/Library/CloudStorage/GoogleDrive-michaelniki1988@gmail.com/Shared drives/Jing_Drive/3_Data_Working/CausalConnectome/post_processing/tmsfmri/group_analysis_HRF_all/L_pMFG/TEHC_2ndlevel/CausCon_TEHC2088_tms_L_pMFG_con_0001_mni.nii\n"
     ]
    },
    {
     "name": "stderr",
     "output_type": "stream",
     "text": [
      " 27%|██▋       | 217/798 [00:39<01:24,  6.88it/s]"
     ]
    },
    {
     "name": "stdout",
     "output_type": "stream",
     "text": [
      "mask not found:  /Users/jingjiang/Library/CloudStorage/GoogleDrive-michaelniki1988@gmail.com/Shared drives/Jing_Drive/3_Data_Working/CausalConnectome/post_processing/tmsfmri/group_analysis_HRF_all/L_pMFG/TEHC_2ndlevel/CausCon_TEHC2096_tms_L_pMFG_con_0001_mni.nii\n"
     ]
    },
    {
     "name": "stderr",
     "output_type": "stream",
     "text": [
      " 29%|██▊       | 229/798 [00:42<02:04,  4.59it/s]"
     ]
    },
    {
     "name": "stdout",
     "output_type": "stream",
     "text": [
      "mask not found:  /Users/jingjiang/Library/CloudStorage/GoogleDrive-michaelniki1988@gmail.com/Shared drives/Jing_Drive/3_Data_Working/CausalConnectome/post_processing/tmsfmri/group_analysis_HRF_all/R_FEF/NTHC_2ndlevel/CausCon_NTHC1023_tms_R_FEF_con_0001_mni.nii\n"
     ]
    },
    {
     "name": "stderr",
     "output_type": "stream",
     "text": [
      " 31%|███       | 249/798 [00:46<01:56,  4.71it/s]"
     ]
    },
    {
     "name": "stdout",
     "output_type": "stream",
     "text": [
      "mask not found:  /Users/jingjiang/Library/CloudStorage/GoogleDrive-michaelniki1988@gmail.com/Shared drives/Jing_Drive/3_Data_Working/CausalConnectome/post_processing/tmsfmri/group_analysis_HRF_all/R_FEF/NTHC_2ndlevel/CausCon_NTHC1057_tms_R_FEF_con_0001_mni.nii\n"
     ]
    },
    {
     "name": "stderr",
     "output_type": "stream",
     "text": [
      " 32%|███▏      | 256/798 [00:47<01:54,  4.73it/s]"
     ]
    },
    {
     "name": "stdout",
     "output_type": "stream",
     "text": [
      "mask not found:  /Users/jingjiang/Library/CloudStorage/GoogleDrive-michaelniki1988@gmail.com/Shared drives/Jing_Drive/3_Data_Working/CausalConnectome/post_processing/tmsfmri/group_analysis_HRF_all/R_FEF/NTHC_2ndlevel/CausCon_NTHC1073_tms_R_FEF_con_0001_mni.nii\n"
     ]
    },
    {
     "name": "stderr",
     "output_type": "stream",
     "text": [
      " 33%|███▎      | 260/798 [00:47<01:23,  6.42it/s]"
     ]
    },
    {
     "name": "stdout",
     "output_type": "stream",
     "text": [
      "mask not found:  /Users/jingjiang/Library/CloudStorage/GoogleDrive-michaelniki1988@gmail.com/Shared drives/Jing_Drive/3_Data_Working/CausalConnectome/post_processing/tmsfmri/group_analysis_HRF_all/R_FEF/NTHC_2ndlevel/CausCon_NTHC1097_tms_R_FEF_con_0001_mni.nii\n"
     ]
    },
    {
     "name": "stderr",
     "output_type": "stream",
     "text": [
      " 33%|███▎      | 266/798 [00:49<01:49,  4.88it/s]"
     ]
    },
    {
     "name": "stdout",
     "output_type": "stream",
     "text": [
      "mask not found:  /Users/jingjiang/Library/CloudStorage/GoogleDrive-michaelniki1988@gmail.com/Shared drives/Jing_Drive/3_Data_Working/CausalConnectome/post_processing/tmsfmri/group_analysis_HRF_all/R_FEF/TEHC_2ndlevel/CausCon_TEHC2005_tms_R_FEF_con_0001_mni.nii\n"
     ]
    },
    {
     "name": "stderr",
     "output_type": "stream",
     "text": [
      " 35%|███▌      | 281/798 [00:52<01:54,  4.50it/s]"
     ]
    },
    {
     "name": "stdout",
     "output_type": "stream",
     "text": [
      "mask not found:  /Users/jingjiang/Library/CloudStorage/GoogleDrive-michaelniki1988@gmail.com/Shared drives/Jing_Drive/3_Data_Working/CausalConnectome/post_processing/tmsfmri/group_analysis_HRF_all/R_FEF/TEHC_2ndlevel/CausCon_TEHC2064_tms_R_FEF_con_0001_mni.nii\n",
      "mask not found:  /Users/jingjiang/Library/CloudStorage/GoogleDrive-michaelniki1988@gmail.com/Shared drives/Jing_Drive/3_Data_Working/CausalConnectome/post_processing/tmsfmri/group_analysis_HRF_all/R_FEF/TEHC_2ndlevel/CausCon_TEHC2066_tms_R_FEF_con_0001_mni.nii\n",
      "mask not found:  /Users/jingjiang/Library/CloudStorage/GoogleDrive-michaelniki1988@gmail.com/Shared drives/Jing_Drive/3_Data_Working/CausalConnectome/post_processing/tmsfmri/group_analysis_HRF_all/R_FEF/TEHC_2ndlevel/CausCon_TEHC2069_tms_R_FEF_con_0001_mni.nii\n"
     ]
    },
    {
     "name": "stderr",
     "output_type": "stream",
     "text": [
      "\r",
      " 36%|███▌      | 285/798 [00:52<01:28,  5.78it/s]"
     ]
    },
    {
     "name": "stdout",
     "output_type": "stream",
     "text": [
      "mask not found:  /Users/jingjiang/Library/CloudStorage/GoogleDrive-michaelniki1988@gmail.com/Shared drives/Jing_Drive/3_Data_Working/CausalConnectome/post_processing/tmsfmri/group_analysis_HRF_all/R_FEF/TEHC_2ndlevel/CausCon_TEHC2074_tms_R_FEF_con_0001_mni.nii\n"
     ]
    },
    {
     "name": "stderr",
     "output_type": "stream",
     "text": [
      " 36%|███▋      | 290/798 [00:53<01:41,  5.02it/s]"
     ]
    },
    {
     "name": "stdout",
     "output_type": "stream",
     "text": [
      "mask not found:  /Users/jingjiang/Library/CloudStorage/GoogleDrive-michaelniki1988@gmail.com/Shared drives/Jing_Drive/3_Data_Working/CausalConnectome/post_processing/tmsfmri/group_analysis_HRF_all/R_FEF/TEHC_2ndlevel/CausCon_TEHC2088_tms_R_FEF_con_0001_mni.nii\n"
     ]
    },
    {
     "name": "stderr",
     "output_type": "stream",
     "text": [
      " 38%|███▊      | 303/798 [00:55<01:30,  5.48it/s]"
     ]
    },
    {
     "name": "stdout",
     "output_type": "stream",
     "text": [
      "mask not found:  /Users/jingjiang/Library/CloudStorage/GoogleDrive-michaelniki1988@gmail.com/Shared drives/Jing_Drive/3_Data_Working/CausalConnectome/post_processing/tmsfmri/group_analysis_HRF_all/R_Fp/NTHC_2ndlevel/CausCon_NTHC1003_tms_R_Fp_con_0001_mni.nii\n"
     ]
    },
    {
     "name": "stderr",
     "output_type": "stream",
     "text": [
      " 39%|███▉      | 313/798 [00:57<01:43,  4.69it/s]"
     ]
    },
    {
     "name": "stdout",
     "output_type": "stream",
     "text": [
      "mask not found:  /Users/jingjiang/Library/CloudStorage/GoogleDrive-michaelniki1988@gmail.com/Shared drives/Jing_Drive/3_Data_Working/CausalConnectome/post_processing/tmsfmri/group_analysis_HRF_all/R_Fp/NTHC_2ndlevel/CausCon_NTHC1043_tms_R_Fp_con_0001_mni.nii\n"
     ]
    },
    {
     "name": "stderr",
     "output_type": "stream",
     "text": [
      " 40%|███▉      | 316/798 [00:58<01:30,  5.32it/s]"
     ]
    },
    {
     "name": "stdout",
     "output_type": "stream",
     "text": [
      "mask not found:  /Users/jingjiang/Library/CloudStorage/GoogleDrive-michaelniki1988@gmail.com/Shared drives/Jing_Drive/3_Data_Working/CausalConnectome/post_processing/tmsfmri/group_analysis_HRF_all/R_Fp/NTHC_2ndlevel/CausCon_NTHC1050_tms_R_Fp_con_0001_mni.nii\n"
     ]
    },
    {
     "name": "stderr",
     "output_type": "stream",
     "text": [
      " 40%|███▉      | 319/798 [00:58<01:25,  5.59it/s]"
     ]
    },
    {
     "name": "stdout",
     "output_type": "stream",
     "text": [
      "mask not found:  /Users/jingjiang/Library/CloudStorage/GoogleDrive-michaelniki1988@gmail.com/Shared drives/Jing_Drive/3_Data_Working/CausalConnectome/post_processing/tmsfmri/group_analysis_HRF_all/R_Fp/NTHC_2ndlevel/CausCon_NTHC1055_tms_R_Fp_con_0001_mni.nii\n"
     ]
    },
    {
     "name": "stderr",
     "output_type": "stream",
     "text": [
      " 41%|████      | 329/798 [01:00<01:19,  5.89it/s]"
     ]
    },
    {
     "name": "stdout",
     "output_type": "stream",
     "text": [
      "mask not found:  /Users/jingjiang/Library/CloudStorage/GoogleDrive-michaelniki1988@gmail.com/Shared drives/Jing_Drive/3_Data_Working/CausalConnectome/post_processing/tmsfmri/group_analysis_HRF_all/R_Fp/NTHC_2ndlevel/CausCon_NTHC1073_tms_R_Fp_con_0001_mni.nii\n",
      "mask not found:  /Users/jingjiang/Library/CloudStorage/GoogleDrive-michaelniki1988@gmail.com/Shared drives/Jing_Drive/3_Data_Working/CausalConnectome/post_processing/tmsfmri/group_analysis_HRF_all/R_Fp/NTHC_2ndlevel/CausCon_NTHC1097_tms_R_Fp_con_0001_mni.nii\n"
     ]
    },
    {
     "name": "stderr",
     "output_type": "stream",
     "text": [
      " 42%|████▏     | 339/798 [01:02<01:36,  4.74it/s]"
     ]
    },
    {
     "name": "stdout",
     "output_type": "stream",
     "text": [
      "mask not found:  /Users/jingjiang/Library/CloudStorage/GoogleDrive-michaelniki1988@gmail.com/Shared drives/Jing_Drive/3_Data_Working/CausalConnectome/post_processing/tmsfmri/group_analysis_HRF_all/R_Fp/TEHC_2ndlevel/CausCon_TEHC2010_tms_R_Fp_con_0001_mni.nii\n"
     ]
    },
    {
     "name": "stderr",
     "output_type": "stream",
     "text": [
      " 43%|████▎     | 346/798 [01:03<01:33,  4.83it/s]"
     ]
    },
    {
     "name": "stdout",
     "output_type": "stream",
     "text": [
      "mask not found:  /Users/jingjiang/Library/CloudStorage/GoogleDrive-michaelniki1988@gmail.com/Shared drives/Jing_Drive/3_Data_Working/CausalConnectome/post_processing/tmsfmri/group_analysis_HRF_all/R_Fp/TEHC_2ndlevel/CausCon_TEHC2047_tms_R_Fp_con_0001_mni.nii\n"
     ]
    },
    {
     "name": "stderr",
     "output_type": "stream",
     "text": [
      " 44%|████▍     | 350/798 [01:04<01:24,  5.30it/s]"
     ]
    },
    {
     "name": "stdout",
     "output_type": "stream",
     "text": [
      "mask not found:  /Users/jingjiang/Library/CloudStorage/GoogleDrive-michaelniki1988@gmail.com/Shared drives/Jing_Drive/3_Data_Working/CausalConnectome/post_processing/tmsfmri/group_analysis_HRF_all/R_Fp/TEHC_2ndlevel/CausCon_TEHC2064_tms_R_Fp_con_0001_mni.nii\n",
      "mask not found:  /Users/jingjiang/Library/CloudStorage/GoogleDrive-michaelniki1988@gmail.com/Shared drives/Jing_Drive/3_Data_Working/CausalConnectome/post_processing/tmsfmri/group_analysis_HRF_all/R_Fp/TEHC_2ndlevel/CausCon_TEHC2066_tms_R_Fp_con_0001_mni.nii\n",
      "mask not found:  /Users/jingjiang/Library/CloudStorage/GoogleDrive-michaelniki1988@gmail.com/Shared drives/Jing_Drive/3_Data_Working/CausalConnectome/post_processing/tmsfmri/group_analysis_HRF_all/R_Fp/TEHC_2ndlevel/CausCon_TEHC2069_tms_R_Fp_con_0001_mni.nii\n"
     ]
    },
    {
     "name": "stderr",
     "output_type": "stream",
     "text": [
      "\r",
      " 44%|████▍     | 354/798 [01:04<01:06,  6.67it/s]"
     ]
    },
    {
     "name": "stdout",
     "output_type": "stream",
     "text": [
      "mask not found:  /Users/jingjiang/Library/CloudStorage/GoogleDrive-michaelniki1988@gmail.com/Shared drives/Jing_Drive/3_Data_Working/CausalConnectome/post_processing/tmsfmri/group_analysis_HRF_all/R_Fp/TEHC_2ndlevel/CausCon_TEHC2074_tms_R_Fp_con_0001_mni.nii\n"
     ]
    },
    {
     "name": "stderr",
     "output_type": "stream",
     "text": [
      " 45%|████▍     | 359/798 [01:05<01:22,  5.31it/s]"
     ]
    },
    {
     "name": "stdout",
     "output_type": "stream",
     "text": [
      "mask not found:  /Users/jingjiang/Library/CloudStorage/GoogleDrive-michaelniki1988@gmail.com/Shared drives/Jing_Drive/3_Data_Working/CausalConnectome/post_processing/tmsfmri/group_analysis_HRF_all/R_Fp/TEHC_2ndlevel/CausCon_TEHC2088_tms_R_Fp_con_0001_mni.nii\n"
     ]
    },
    {
     "name": "stderr",
     "output_type": "stream",
     "text": [
      " 50%|████▉     | 398/798 [01:32<06:08,  1.08it/s]"
     ]
    },
    {
     "name": "stdout",
     "output_type": "stream",
     "text": [
      "mask not found:  /Users/jingjiang/Library/CloudStorage/GoogleDrive-michaelniki1988@gmail.com/Shared drives/Jing_Drive/3_Data_Working/CausalConnectome/post_processing/tmsfmri/group_analysis_HRF_all/R_IFJ/NTHC_2ndlevel/CausCon_NTHC1073_tms_R_IFJ_con_0001_mni.nii\n"
     ]
    },
    {
     "name": "stderr",
     "output_type": "stream",
     "text": [
      "\r",
      " 50%|█████     | 400/798 [01:32<05:04,  1.31it/s]"
     ]
    },
    {
     "name": "stdout",
     "output_type": "stream",
     "text": [
      "mask not found:  /Users/jingjiang/Library/CloudStorage/GoogleDrive-michaelniki1988@gmail.com/Shared drives/Jing_Drive/3_Data_Working/CausalConnectome/post_processing/tmsfmri/group_analysis_HRF_all/R_IFJ/NTHC_2ndlevel/CausCon_NTHC1097_tms_R_IFJ_con_0001_mni.nii\n"
     ]
    },
    {
     "name": "stderr",
     "output_type": "stream",
     "text": [
      " 53%|█████▎    | 419/798 [01:41<01:31,  4.15it/s]"
     ]
    },
    {
     "name": "stdout",
     "output_type": "stream",
     "text": [
      "mask not found:  /Users/jingjiang/Library/CloudStorage/GoogleDrive-michaelniki1988@gmail.com/Shared drives/Jing_Drive/3_Data_Working/CausalConnectome/post_processing/tmsfmri/group_analysis_HRF_all/R_IFJ/TEHC_2ndlevel/CausCon_TEHC2040_tms_R_IFJ_con_0001_mni.nii\n"
     ]
    },
    {
     "name": "stderr",
     "output_type": "stream",
     "text": [
      " 53%|█████▎    | 426/798 [01:42<01:23,  4.45it/s]"
     ]
    },
    {
     "name": "stdout",
     "output_type": "stream",
     "text": [
      "mask not found:  /Users/jingjiang/Library/CloudStorage/GoogleDrive-michaelniki1988@gmail.com/Shared drives/Jing_Drive/3_Data_Working/CausalConnectome/post_processing/tmsfmri/group_analysis_HRF_all/R_IFJ/TEHC_2ndlevel/CausCon_TEHC2064_tms_R_IFJ_con_0001_mni.nii\n",
      "mask not found:  /Users/jingjiang/Library/CloudStorage/GoogleDrive-michaelniki1988@gmail.com/Shared drives/Jing_Drive/3_Data_Working/CausalConnectome/post_processing/tmsfmri/group_analysis_HRF_all/R_IFJ/TEHC_2ndlevel/CausCon_TEHC2066_tms_R_IFJ_con_0001_mni.nii\n",
      "mask not found:  /Users/jingjiang/Library/CloudStorage/GoogleDrive-michaelniki1988@gmail.com/Shared drives/Jing_Drive/3_Data_Working/CausalConnectome/post_processing/tmsfmri/group_analysis_HRF_all/R_IFJ/TEHC_2ndlevel/CausCon_TEHC2069_tms_R_IFJ_con_0001_mni.nii\n"
     ]
    },
    {
     "name": "stderr",
     "output_type": "stream",
     "text": [
      " 54%|█████▍    | 433/798 [01:42<00:51,  7.15it/s]"
     ]
    },
    {
     "name": "stdout",
     "output_type": "stream",
     "text": [
      "mask not found:  /Users/jingjiang/Library/CloudStorage/GoogleDrive-michaelniki1988@gmail.com/Shared drives/Jing_Drive/3_Data_Working/CausalConnectome/post_processing/tmsfmri/group_analysis_HRF_all/R_IFJ/TEHC_2ndlevel/CausCon_TEHC2074_tms_R_IFJ_con_0001_mni.nii\n",
      "mask not found:  /Users/jingjiang/Library/CloudStorage/GoogleDrive-michaelniki1988@gmail.com/Shared drives/Jing_Drive/3_Data_Working/CausalConnectome/post_processing/tmsfmri/group_analysis_HRF_all/R_IFJ/TEHC_2ndlevel/CausCon_TEHC2075_tms_R_IFJ_con_0001_mni.nii\n"
     ]
    },
    {
     "name": "stderr",
     "output_type": "stream",
     "text": [
      " 55%|█████▍    | 437/798 [01:43<00:50,  7.10it/s]"
     ]
    },
    {
     "name": "stdout",
     "output_type": "stream",
     "text": [
      "mask not found:  /Users/jingjiang/Library/CloudStorage/GoogleDrive-michaelniki1988@gmail.com/Shared drives/Jing_Drive/3_Data_Working/CausalConnectome/post_processing/tmsfmri/group_analysis_HRF_all/R_IFJ/TEHC_2ndlevel/CausCon_TEHC2088_tms_R_IFJ_con_0001_mni.nii\n"
     ]
    },
    {
     "name": "stderr",
     "output_type": "stream",
     "text": [
      " 57%|█████▋    | 457/798 [01:47<01:11,  4.74it/s]"
     ]
    },
    {
     "name": "stdout",
     "output_type": "stream",
     "text": [
      "mask not found:  /Users/jingjiang/Library/CloudStorage/GoogleDrive-michaelniki1988@gmail.com/Shared drives/Jing_Drive/3_Data_Working/CausalConnectome/post_processing/tmsfmri/group_analysis_HRF_all/R_IPL/NTHC_2ndlevel/CausCon_NTHC1057_tms_R_IPL_con_0001_mni.nii\n"
     ]
    },
    {
     "name": "stderr",
     "output_type": "stream",
     "text": [
      " 58%|█████▊    | 465/798 [01:48<00:54,  6.06it/s]"
     ]
    },
    {
     "name": "stdout",
     "output_type": "stream",
     "text": [
      "mask not found:  /Users/jingjiang/Library/CloudStorage/GoogleDrive-michaelniki1988@gmail.com/Shared drives/Jing_Drive/3_Data_Working/CausalConnectome/post_processing/tmsfmri/group_analysis_HRF_all/R_IPL/NTHC_2ndlevel/CausCon_NTHC1073_tms_R_IPL_con_0001_mni.nii\n",
      "mask not found:  /Users/jingjiang/Library/CloudStorage/GoogleDrive-michaelniki1988@gmail.com/Shared drives/Jing_Drive/3_Data_Working/CausalConnectome/post_processing/tmsfmri/group_analysis_HRF_all/R_IPL/NTHC_2ndlevel/CausCon_NTHC1097_tms_R_IPL_con_0001_mni.nii\n"
     ]
    },
    {
     "name": "stderr",
     "output_type": "stream",
     "text": [
      " 60%|██████    | 479/798 [01:51<01:10,  4.50it/s]"
     ]
    },
    {
     "name": "stdout",
     "output_type": "stream",
     "text": [
      "mask not found:  /Users/jingjiang/Library/CloudStorage/GoogleDrive-michaelniki1988@gmail.com/Shared drives/Jing_Drive/3_Data_Working/CausalConnectome/post_processing/tmsfmri/group_analysis_HRF_all/R_IPL/TEHC_2ndlevel/CausCon_TEHC2064_tms_R_IPL_con_0001_mni.nii\n",
      "mask not found:  /Users/jingjiang/Library/CloudStorage/GoogleDrive-michaelniki1988@gmail.com/Shared drives/Jing_Drive/3_Data_Working/CausalConnectome/post_processing/tmsfmri/group_analysis_HRF_all/R_IPL/TEHC_2ndlevel/CausCon_TEHC2066_tms_R_IPL_con_0001_mni.nii\n"
     ]
    },
    {
     "name": "stderr",
     "output_type": "stream",
     "text": [
      "\r",
      " 60%|██████    | 482/798 [01:51<00:56,  5.56it/s]"
     ]
    },
    {
     "name": "stdout",
     "output_type": "stream",
     "text": [
      "mask not found:  /Users/jingjiang/Library/CloudStorage/GoogleDrive-michaelniki1988@gmail.com/Shared drives/Jing_Drive/3_Data_Working/CausalConnectome/post_processing/tmsfmri/group_analysis_HRF_all/R_IPL/TEHC_2ndlevel/CausCon_TEHC2074_tms_R_IPL_con_0001_mni.nii\n"
     ]
    },
    {
     "name": "stderr",
     "output_type": "stream",
     "text": [
      " 61%|██████▏   | 489/798 [01:52<00:51,  5.97it/s]"
     ]
    },
    {
     "name": "stdout",
     "output_type": "stream",
     "text": [
      "mask not found:  /Users/jingjiang/Library/CloudStorage/GoogleDrive-michaelniki1988@gmail.com/Shared drives/Jing_Drive/3_Data_Working/CausalConnectome/post_processing/tmsfmri/group_analysis_HRF_all/R_IPL/TEHC_2ndlevel/CausCon_TEHC2088_tms_R_IPL_con_0001_mni.nii\n"
     ]
    },
    {
     "name": "stderr",
     "output_type": "stream",
     "text": [
      " 63%|██████▎   | 503/798 [01:55<00:59,  4.95it/s]"
     ]
    },
    {
     "name": "stdout",
     "output_type": "stream",
     "text": [
      "mask not found:  /Users/jingjiang/Library/CloudStorage/GoogleDrive-michaelniki1988@gmail.com/Shared drives/Jing_Drive/3_Data_Working/CausalConnectome/post_processing/tmsfmri/group_analysis_HRF_all/R_M1/NTHC_2ndlevel/CausCon_NTHC1023_tms_R_M1_con_0001_mni.nii\n"
     ]
    },
    {
     "name": "stderr",
     "output_type": "stream",
     "text": [
      " 66%|██████▌   | 523/798 [01:59<00:54,  5.03it/s]"
     ]
    },
    {
     "name": "stdout",
     "output_type": "stream",
     "text": [
      "mask not found:  /Users/jingjiang/Library/CloudStorage/GoogleDrive-michaelniki1988@gmail.com/Shared drives/Jing_Drive/3_Data_Working/CausalConnectome/post_processing/tmsfmri/group_analysis_HRF_all/R_M1/NTHC_2ndlevel/CausCon_NTHC1057_tms_R_M1_con_0001_mni.nii\n"
     ]
    },
    {
     "name": "stderr",
     "output_type": "stream",
     "text": [
      " 66%|██████▋   | 529/798 [02:00<00:55,  4.82it/s]"
     ]
    },
    {
     "name": "stdout",
     "output_type": "stream",
     "text": [
      "mask not found:  /Users/jingjiang/Library/CloudStorage/GoogleDrive-michaelniki1988@gmail.com/Shared drives/Jing_Drive/3_Data_Working/CausalConnectome/post_processing/tmsfmri/group_analysis_HRF_all/R_M1/NTHC_2ndlevel/CausCon_NTHC1073_tms_R_M1_con_0001_mni.nii\n"
     ]
    },
    {
     "name": "stderr",
     "output_type": "stream",
     "text": [
      " 67%|██████▋   | 533/798 [02:01<00:41,  6.44it/s]"
     ]
    },
    {
     "name": "stdout",
     "output_type": "stream",
     "text": [
      "mask not found:  /Users/jingjiang/Library/CloudStorage/GoogleDrive-michaelniki1988@gmail.com/Shared drives/Jing_Drive/3_Data_Working/CausalConnectome/post_processing/tmsfmri/group_analysis_HRF_all/R_M1/NTHC_2ndlevel/CausCon_NTHC1097_tms_R_M1_con_0001_mni.nii\n"
     ]
    },
    {
     "name": "stderr",
     "output_type": "stream",
     "text": [
      " 70%|██████▉   | 556/798 [02:05<00:48,  5.01it/s]"
     ]
    },
    {
     "name": "stdout",
     "output_type": "stream",
     "text": [
      "mask not found:  /Users/jingjiang/Library/CloudStorage/GoogleDrive-michaelniki1988@gmail.com/Shared drives/Jing_Drive/3_Data_Working/CausalConnectome/post_processing/tmsfmri/group_analysis_HRF_all/R_M1/TEHC_2ndlevel/CausCon_TEHC2064_tms_R_M1_con_0001_mni.nii\n",
      "mask not found:  /Users/jingjiang/Library/CloudStorage/GoogleDrive-michaelniki1988@gmail.com/Shared drives/Jing_Drive/3_Data_Working/CausalConnectome/post_processing/tmsfmri/group_analysis_HRF_all/R_M1/TEHC_2ndlevel/CausCon_TEHC2066_tms_R_M1_con_0001_mni.nii\n",
      "mask not found:  /Users/jingjiang/Library/CloudStorage/GoogleDrive-michaelniki1988@gmail.com/Shared drives/Jing_Drive/3_Data_Working/CausalConnectome/post_processing/tmsfmri/group_analysis_HRF_all/R_M1/TEHC_2ndlevel/CausCon_TEHC2069_tms_R_M1_con_0001_mni.nii\n"
     ]
    },
    {
     "name": "stderr",
     "output_type": "stream",
     "text": [
      " 70%|███████   | 562/798 [02:06<00:32,  7.31it/s]"
     ]
    },
    {
     "name": "stdout",
     "output_type": "stream",
     "text": [
      "mask not found:  /Users/jingjiang/Library/CloudStorage/GoogleDrive-michaelniki1988@gmail.com/Shared drives/Jing_Drive/3_Data_Working/CausalConnectome/post_processing/tmsfmri/group_analysis_HRF_all/R_M1/TEHC_2ndlevel/CausCon_TEHC2074_tms_R_M1_con_0001_mni.nii\n"
     ]
    },
    {
     "name": "stderr",
     "output_type": "stream",
     "text": [
      " 71%|███████   | 565/798 [02:06<00:41,  5.66it/s]"
     ]
    },
    {
     "name": "stdout",
     "output_type": "stream",
     "text": [
      "mask not found:  /Users/jingjiang/Library/CloudStorage/GoogleDrive-michaelniki1988@gmail.com/Shared drives/Jing_Drive/3_Data_Working/CausalConnectome/post_processing/tmsfmri/group_analysis_HRF_all/R_M1/TEHC_2ndlevel/CausCon_TEHC2088_tms_R_M1_con_0001_mni.nii\n"
     ]
    },
    {
     "name": "stderr",
     "output_type": "stream",
     "text": [
      " 75%|███████▌  | 602/798 [02:14<00:42,  4.65it/s]"
     ]
    },
    {
     "name": "stdout",
     "output_type": "stream",
     "text": [
      "mask not found:  /Users/jingjiang/Library/CloudStorage/GoogleDrive-michaelniki1988@gmail.com/Shared drives/Jing_Drive/3_Data_Working/CausalConnectome/post_processing/tmsfmri/group_analysis_HRF_all/R_aMFG/NTHC_2ndlevel/CausCon_NTHC1057_tms_R_aMFG_con_0001_mni.nii\n"
     ]
    },
    {
     "name": "stderr",
     "output_type": "stream",
     "text": [
      " 76%|███████▋  | 609/798 [02:15<00:38,  4.94it/s]"
     ]
    },
    {
     "name": "stdout",
     "output_type": "stream",
     "text": [
      "mask not found:  /Users/jingjiang/Library/CloudStorage/GoogleDrive-michaelniki1988@gmail.com/Shared drives/Jing_Drive/3_Data_Working/CausalConnectome/post_processing/tmsfmri/group_analysis_HRF_all/R_aMFG/NTHC_2ndlevel/CausCon_NTHC1073_tms_R_aMFG_con_0001_mni.nii\n"
     ]
    },
    {
     "name": "stderr",
     "output_type": "stream",
     "text": [
      " 77%|███████▋  | 613/798 [02:16<00:27,  6.63it/s]"
     ]
    },
    {
     "name": "stdout",
     "output_type": "stream",
     "text": [
      "mask not found:  /Users/jingjiang/Library/CloudStorage/GoogleDrive-michaelniki1988@gmail.com/Shared drives/Jing_Drive/3_Data_Working/CausalConnectome/post_processing/tmsfmri/group_analysis_HRF_all/R_aMFG/NTHC_2ndlevel/CausCon_NTHC1097_tms_R_aMFG_con_0001_mni.nii\n"
     ]
    },
    {
     "name": "stderr",
     "output_type": "stream",
     "text": [
      " 80%|████████  | 642/798 [02:21<00:25,  6.05it/s]"
     ]
    },
    {
     "name": "stdout",
     "output_type": "stream",
     "text": [
      "mask not found:  /Users/jingjiang/Library/CloudStorage/GoogleDrive-michaelniki1988@gmail.com/Shared drives/Jing_Drive/3_Data_Working/CausalConnectome/post_processing/tmsfmri/group_analysis_HRF_all/R_aMFG/TEHC_2ndlevel/CausCon_TEHC2064_tms_R_aMFG_con_0001_mni.nii\n",
      "mask not found:  /Users/jingjiang/Library/CloudStorage/GoogleDrive-michaelniki1988@gmail.com/Shared drives/Jing_Drive/3_Data_Working/CausalConnectome/post_processing/tmsfmri/group_analysis_HRF_all/R_aMFG/TEHC_2ndlevel/CausCon_TEHC2066_tms_R_aMFG_con_0001_mni.nii\n",
      "mask not found:  /Users/jingjiang/Library/CloudStorage/GoogleDrive-michaelniki1988@gmail.com/Shared drives/Jing_Drive/3_Data_Working/CausalConnectome/post_processing/tmsfmri/group_analysis_HRF_all/R_aMFG/TEHC_2ndlevel/CausCon_TEHC2069_tms_R_aMFG_con_0001_mni.nii\n",
      "mask not found:  /Users/jingjiang/Library/CloudStorage/GoogleDrive-michaelniki1988@gmail.com/Shared drives/Jing_Drive/3_Data_Working/CausalConnectome/post_processing/tmsfmri/group_analysis_HRF_all/R_aMFG/TEHC_2ndlevel/CausCon_TEHC2074_tms_R_aMFG_con_0001_mni.nii\n"
     ]
    },
    {
     "name": "stderr",
     "output_type": "stream",
     "text": [
      " 81%|████████  | 645/798 [02:21<00:28,  5.28it/s]"
     ]
    },
    {
     "name": "stdout",
     "output_type": "stream",
     "text": [
      "mask not found:  /Users/jingjiang/Library/CloudStorage/GoogleDrive-michaelniki1988@gmail.com/Shared drives/Jing_Drive/3_Data_Working/CausalConnectome/post_processing/tmsfmri/group_analysis_HRF_all/R_aMFG/TEHC_2ndlevel/CausCon_TEHC2088_tms_R_aMFG_con_0001_mni.nii\n"
     ]
    },
    {
     "name": "stderr",
     "output_type": "stream",
     "text": [
      " 83%|████████▎ | 663/798 [02:25<00:29,  4.57it/s]"
     ]
    },
    {
     "name": "stdout",
     "output_type": "stream",
     "text": [
      "mask not found:  /Users/jingjiang/Library/CloudStorage/GoogleDrive-michaelniki1988@gmail.com/Shared drives/Jing_Drive/3_Data_Working/CausalConnectome/post_processing/tmsfmri/group_analysis_HRF_all/R_pMFG/NTHC_2ndlevel/CausCon_NTHC1023_tms_R_pMFG_con_0001_mni.nii\n"
     ]
    },
    {
     "name": "stderr",
     "output_type": "stream",
     "text": [
      " 86%|████████▌ | 683/798 [02:29<00:24,  4.69it/s]"
     ]
    },
    {
     "name": "stdout",
     "output_type": "stream",
     "text": [
      "mask not found:  /Users/jingjiang/Library/CloudStorage/GoogleDrive-michaelniki1988@gmail.com/Shared drives/Jing_Drive/3_Data_Working/CausalConnectome/post_processing/tmsfmri/group_analysis_HRF_all/R_pMFG/NTHC_2ndlevel/CausCon_NTHC1057_tms_R_pMFG_con_0001_mni.nii\n"
     ]
    },
    {
     "name": "stderr",
     "output_type": "stream",
     "text": [
      " 86%|████████▋ | 689/798 [02:30<00:21,  5.00it/s]"
     ]
    },
    {
     "name": "stdout",
     "output_type": "stream",
     "text": [
      "mask not found:  /Users/jingjiang/Library/CloudStorage/GoogleDrive-michaelniki1988@gmail.com/Shared drives/Jing_Drive/3_Data_Working/CausalConnectome/post_processing/tmsfmri/group_analysis_HRF_all/R_pMFG/NTHC_2ndlevel/CausCon_NTHC1073_tms_R_pMFG_con_0001_mni.nii\n"
     ]
    },
    {
     "name": "stderr",
     "output_type": "stream",
     "text": [
      "\r",
      " 87%|████████▋ | 691/798 [02:31<00:18,  5.81it/s]"
     ]
    },
    {
     "name": "stdout",
     "output_type": "stream",
     "text": [
      "mask not found:  /Users/jingjiang/Library/CloudStorage/GoogleDrive-michaelniki1988@gmail.com/Shared drives/Jing_Drive/3_Data_Working/CausalConnectome/post_processing/tmsfmri/group_analysis_HRF_all/R_pMFG/NTHC_2ndlevel/CausCon_NTHC1097_tms_R_pMFG_con_0001_mni.nii\n"
     ]
    },
    {
     "name": "stderr",
     "output_type": "stream",
     "text": [
      " 90%|████████▉ | 716/798 [02:36<00:17,  4.76it/s]"
     ]
    },
    {
     "name": "stdout",
     "output_type": "stream",
     "text": [
      "mask not found:  /Users/jingjiang/Library/CloudStorage/GoogleDrive-michaelniki1988@gmail.com/Shared drives/Jing_Drive/3_Data_Working/CausalConnectome/post_processing/tmsfmri/group_analysis_HRF_all/R_pMFG/TEHC_2ndlevel/CausCon_TEHC2064_tms_R_pMFG_con_0001_mni.nii\n",
      "mask not found:  /Users/jingjiang/Library/CloudStorage/GoogleDrive-michaelniki1988@gmail.com/Shared drives/Jing_Drive/3_Data_Working/CausalConnectome/post_processing/tmsfmri/group_analysis_HRF_all/R_pMFG/TEHC_2ndlevel/CausCon_TEHC2066_tms_R_pMFG_con_0001_mni.nii\n",
      "mask not found:  /Users/jingjiang/Library/CloudStorage/GoogleDrive-michaelniki1988@gmail.com/Shared drives/Jing_Drive/3_Data_Working/CausalConnectome/post_processing/tmsfmri/group_analysis_HRF_all/R_pMFG/TEHC_2ndlevel/CausCon_TEHC2069_tms_R_pMFG_con_0001_mni.nii\n"
     ]
    },
    {
     "name": "stderr",
     "output_type": "stream",
     "text": [
      "\r",
      " 90%|█████████ | 720/798 [02:36<00:12,  6.10it/s]"
     ]
    },
    {
     "name": "stdout",
     "output_type": "stream",
     "text": [
      "mask not found:  /Users/jingjiang/Library/CloudStorage/GoogleDrive-michaelniki1988@gmail.com/Shared drives/Jing_Drive/3_Data_Working/CausalConnectome/post_processing/tmsfmri/group_analysis_HRF_all/R_pMFG/TEHC_2ndlevel/CausCon_TEHC2074_tms_R_pMFG_con_0001_mni.nii\n"
     ]
    },
    {
     "name": "stderr",
     "output_type": "stream",
     "text": [
      " 91%|█████████ | 725/798 [02:37<00:13,  5.45it/s]"
     ]
    },
    {
     "name": "stdout",
     "output_type": "stream",
     "text": [
      "mask not found:  /Users/jingjiang/Library/CloudStorage/GoogleDrive-michaelniki1988@gmail.com/Shared drives/Jing_Drive/3_Data_Working/CausalConnectome/post_processing/tmsfmri/group_analysis_HRF_all/R_pMFG/TEHC_2ndlevel/CausCon_TEHC2088_tms_R_pMFG_con_0001_mni.nii\n"
     ]
    },
    {
     "name": "stderr",
     "output_type": "stream",
     "text": [
      " 93%|█████████▎| 739/798 [02:39<00:12,  4.54it/s]"
     ]
    },
    {
     "name": "stdout",
     "output_type": "stream",
     "text": [
      "mask not found:  /Users/jingjiang/Library/CloudStorage/GoogleDrive-michaelniki1988@gmail.com/Shared drives/Jing_Drive/3_Data_Working/CausalConnectome/post_processing/tmsfmri/group_analysis_HRF_all/R_preSMA/NTHC_2ndlevel/CausCon_NTHC1023_tms_R_preSMA_con_0001_mni.nii\n"
     ]
    },
    {
     "name": "stderr",
     "output_type": "stream",
     "text": [
      " 95%|█████████▌| 762/798 [02:44<00:07,  4.78it/s]"
     ]
    },
    {
     "name": "stdout",
     "output_type": "stream",
     "text": [
      "mask not found:  /Users/jingjiang/Library/CloudStorage/GoogleDrive-michaelniki1988@gmail.com/Shared drives/Jing_Drive/3_Data_Working/CausalConnectome/post_processing/tmsfmri/group_analysis_HRF_all/R_preSMA/NTHC_2ndlevel/CausCon_NTHC1073_tms_R_preSMA_con_0001_mni.nii\n"
     ]
    },
    {
     "name": "stderr",
     "output_type": "stream",
     "text": [
      "\r",
      " 96%|█████████▌| 764/798 [02:44<00:06,  5.63it/s]"
     ]
    },
    {
     "name": "stdout",
     "output_type": "stream",
     "text": [
      "mask not found:  /Users/jingjiang/Library/CloudStorage/GoogleDrive-michaelniki1988@gmail.com/Shared drives/Jing_Drive/3_Data_Working/CausalConnectome/post_processing/tmsfmri/group_analysis_HRF_all/R_preSMA/NTHC_2ndlevel/CausCon_NTHC1097_tms_R_preSMA_con_0001_mni.nii\n"
     ]
    },
    {
     "name": "stderr",
     "output_type": "stream",
     "text": [
      " 98%|█████████▊| 785/798 [02:49<00:02,  4.77it/s]"
     ]
    },
    {
     "name": "stdout",
     "output_type": "stream",
     "text": [
      "mask not found:  /Users/jingjiang/Library/CloudStorage/GoogleDrive-michaelniki1988@gmail.com/Shared drives/Jing_Drive/3_Data_Working/CausalConnectome/post_processing/tmsfmri/group_analysis_HRF_all/R_preSMA/TEHC_2ndlevel/CausCon_TEHC2064_tms_R_preSMA_con_0001_mni.nii\n",
      "mask not found:  /Users/jingjiang/Library/CloudStorage/GoogleDrive-michaelniki1988@gmail.com/Shared drives/Jing_Drive/3_Data_Working/CausalConnectome/post_processing/tmsfmri/group_analysis_HRF_all/R_preSMA/TEHC_2ndlevel/CausCon_TEHC2066_tms_R_preSMA_con_0001_mni.nii\n",
      "mask not found:  /Users/jingjiang/Library/CloudStorage/GoogleDrive-michaelniki1988@gmail.com/Shared drives/Jing_Drive/3_Data_Working/CausalConnectome/post_processing/tmsfmri/group_analysis_HRF_all/R_preSMA/TEHC_2ndlevel/CausCon_TEHC2069_tms_R_preSMA_con_0001_mni.nii\n"
     ]
    },
    {
     "name": "stderr",
     "output_type": "stream",
     "text": [
      " 99%|█████████▉| 794/798 [02:50<00:00,  6.16it/s]"
     ]
    },
    {
     "name": "stdout",
     "output_type": "stream",
     "text": [
      "mask not found:  /Users/jingjiang/Library/CloudStorage/GoogleDrive-michaelniki1988@gmail.com/Shared drives/Jing_Drive/3_Data_Working/CausalConnectome/post_processing/tmsfmri/group_analysis_HRF_all/R_preSMA/TEHC_2ndlevel/CausCon_TEHC2088_tms_R_preSMA_con_0001_mni.nii\n"
     ]
    },
    {
     "name": "stderr",
     "output_type": "stream",
     "text": [
      "100%|██████████| 798/798 [02:50<00:00,  4.67it/s]\n"
     ]
    }
   ],
   "source": [
    "# individual roi 14mm:\n",
    "\n",
    "roi_dir = base_dir + \"/3_Data_Working/CausalConnectome/post_processing/tmsfmri/William/Nov_3/tms_spheres/\"\n",
    "\n",
    "tms_site_response = []\n",
    "for i in trange(len(complete_df)):\n",
    "    image_name = complete_df.iloc[i]['inputfile']\n",
    "    site = complete_df.iloc[i]['site'].replace('_', '-')\n",
    "    subject = complete_df.iloc[i]['subject']\n",
    "    mask_file = glob(roi_dir + site + \"/\" + str(subject) + \"_14mm.nii*\")\n",
    "    \n",
    "    if mask_file:\n",
    "        try:\n",
    "            nifti_masker = maskers.NiftiMasker(mask_file[0]).fit()\n",
    "            tms_site_response.append(np.mean(nifti_masker.transform(image_name)))\n",
    "        except:\n",
    "            tms_site_response.append(np.nan)\n",
    "            print(\"error occurs for mask: \", mask_file[0])\n",
    "    else:\n",
    "        tms_site_response.append(np.nan)\n",
    "        print(\"mask not found: \", image_name)\n",
    "\n",
    "complete_df['tms_site_response_individual_14mm'] = tms_site_response\n",
    "# complete_df.to_csv(out_dir + out_file_name, index=False)\n"
   ]
  },
  {
   "cell_type": "code",
   "execution_count": 9,
   "metadata": {},
   "outputs": [
    {
     "name": "stderr",
     "output_type": "stream",
     "text": [
      "  0%|          | 3/798 [00:00<03:01,  4.37it/s]"
     ]
    },
    {
     "name": "stdout",
     "output_type": "stream",
     "text": [
      "mask not found:  /Users/jingjiang/Library/CloudStorage/GoogleDrive-michaelniki1988@gmail.com/Shared drives/Jing_Drive/3_Data_Working/CausalConnectome/post_processing/tmsfmri/group_analysis_HRF_all/L_Fp/NTHC_2ndlevel/CausCon_NTHC1037_tms_L_Fp_con_0001_mni.nii\n"
     ]
    },
    {
     "name": "stderr",
     "output_type": "stream",
     "text": [
      "  1%|          | 7/798 [00:01<02:47,  4.71it/s]"
     ]
    },
    {
     "name": "stdout",
     "output_type": "stream",
     "text": [
      "mask not found:  /Users/jingjiang/Library/CloudStorage/GoogleDrive-michaelniki1988@gmail.com/Shared drives/Jing_Drive/3_Data_Working/CausalConnectome/post_processing/tmsfmri/group_analysis_HRF_all/L_Fp/NTHC_2ndlevel/CausCon_NTHC1043_tms_L_Fp_con_0001_mni.nii\n"
     ]
    },
    {
     "name": "stderr",
     "output_type": "stream",
     "text": [
      "  1%|▏         | 10/798 [00:01<02:34,  5.11it/s]"
     ]
    },
    {
     "name": "stdout",
     "output_type": "stream",
     "text": [
      "mask not found:  /Users/jingjiang/Library/CloudStorage/GoogleDrive-michaelniki1988@gmail.com/Shared drives/Jing_Drive/3_Data_Working/CausalConnectome/post_processing/tmsfmri/group_analysis_HRF_all/L_Fp/NTHC_2ndlevel/CausCon_NTHC1050_tms_L_Fp_con_0001_mni.nii\n"
     ]
    },
    {
     "name": "stderr",
     "output_type": "stream",
     "text": [
      "  2%|▏         | 13/798 [00:02<02:24,  5.45it/s]"
     ]
    },
    {
     "name": "stdout",
     "output_type": "stream",
     "text": [
      "mask not found:  /Users/jingjiang/Library/CloudStorage/GoogleDrive-michaelniki1988@gmail.com/Shared drives/Jing_Drive/3_Data_Working/CausalConnectome/post_processing/tmsfmri/group_analysis_HRF_all/L_Fp/NTHC_2ndlevel/CausCon_NTHC1055_tms_L_Fp_con_0001_mni.nii\n"
     ]
    },
    {
     "name": "stderr",
     "output_type": "stream",
     "text": [
      "  3%|▎         | 21/798 [00:03<02:40,  4.84it/s]"
     ]
    },
    {
     "name": "stdout",
     "output_type": "stream",
     "text": [
      "mask not found:  /Users/jingjiang/Library/CloudStorage/GoogleDrive-michaelniki1988@gmail.com/Shared drives/Jing_Drive/3_Data_Working/CausalConnectome/post_processing/tmsfmri/group_analysis_HRF_all/L_Fp/NTHC_2ndlevel/CausCon_NTHC1073_tms_L_Fp_con_0001_mni.nii\n"
     ]
    },
    {
     "name": "stderr",
     "output_type": "stream",
     "text": [
      "\r",
      "  3%|▎         | 23/798 [00:03<02:17,  5.63it/s]"
     ]
    },
    {
     "name": "stdout",
     "output_type": "stream",
     "text": [
      "mask not found:  /Users/jingjiang/Library/CloudStorage/GoogleDrive-michaelniki1988@gmail.com/Shared drives/Jing_Drive/3_Data_Working/CausalConnectome/post_processing/tmsfmri/group_analysis_HRF_all/L_Fp/NTHC_2ndlevel/CausCon_NTHC1097_tms_L_Fp_con_0001_mni.nii\n"
     ]
    },
    {
     "name": "stderr",
     "output_type": "stream",
     "text": [
      "  6%|▌         | 44/798 [00:07<02:07,  5.91it/s]"
     ]
    },
    {
     "name": "stdout",
     "output_type": "stream",
     "text": [
      "mask not found:  /Users/jingjiang/Library/CloudStorage/GoogleDrive-michaelniki1988@gmail.com/Shared drives/Jing_Drive/3_Data_Working/CausalConnectome/post_processing/tmsfmri/group_analysis_HRF_all/L_Fp/TEHC_2ndlevel/CausCon_TEHC2047_tms_L_Fp_con_0001_mni.nii\n"
     ]
    },
    {
     "name": "stderr",
     "output_type": "stream",
     "text": [
      "  6%|▌         | 46/798 [00:08<02:19,  5.38it/s]"
     ]
    },
    {
     "name": "stdout",
     "output_type": "stream",
     "text": [
      "mask not found:  /Users/jingjiang/Library/CloudStorage/GoogleDrive-michaelniki1988@gmail.com/Shared drives/Jing_Drive/3_Data_Working/CausalConnectome/post_processing/tmsfmri/group_analysis_HRF_all/L_Fp/TEHC_2ndlevel/CausCon_TEHC2064_tms_L_Fp_con_0001_mni.nii\n",
      "mask not found:  /Users/jingjiang/Library/CloudStorage/GoogleDrive-michaelniki1988@gmail.com/Shared drives/Jing_Drive/3_Data_Working/CausalConnectome/post_processing/tmsfmri/group_analysis_HRF_all/L_Fp/TEHC_2ndlevel/CausCon_TEHC2066_tms_L_Fp_con_0001_mni.nii\n",
      "mask not found:  /Users/jingjiang/Library/CloudStorage/GoogleDrive-michaelniki1988@gmail.com/Shared drives/Jing_Drive/3_Data_Working/CausalConnectome/post_processing/tmsfmri/group_analysis_HRF_all/L_Fp/TEHC_2ndlevel/CausCon_TEHC2069_tms_L_Fp_con_0001_mni.nii\n"
     ]
    },
    {
     "name": "stderr",
     "output_type": "stream",
     "text": [
      "\r",
      "  6%|▋         | 50/798 [00:08<01:49,  6.84it/s]"
     ]
    },
    {
     "name": "stdout",
     "output_type": "stream",
     "text": [
      "mask not found:  /Users/jingjiang/Library/CloudStorage/GoogleDrive-michaelniki1988@gmail.com/Shared drives/Jing_Drive/3_Data_Working/CausalConnectome/post_processing/tmsfmri/group_analysis_HRF_all/L_Fp/TEHC_2ndlevel/CausCon_TEHC2074_tms_L_Fp_con_0001_mni.nii\n"
     ]
    },
    {
     "name": "stderr",
     "output_type": "stream",
     "text": [
      "  7%|▋         | 55/798 [00:09<02:12,  5.60it/s]"
     ]
    },
    {
     "name": "stdout",
     "output_type": "stream",
     "text": [
      "mask not found:  /Users/jingjiang/Library/CloudStorage/GoogleDrive-michaelniki1988@gmail.com/Shared drives/Jing_Drive/3_Data_Working/CausalConnectome/post_processing/tmsfmri/group_analysis_HRF_all/L_Fp/TEHC_2ndlevel/CausCon_TEHC2088_tms_L_Fp_con_0001_mni.nii\n"
     ]
    },
    {
     "name": "stderr",
     "output_type": "stream",
     "text": [
      " 12%|█▏        | 93/798 [00:17<02:06,  5.58it/s]"
     ]
    },
    {
     "name": "stdout",
     "output_type": "stream",
     "text": [
      "mask not found:  /Users/jingjiang/Library/CloudStorage/GoogleDrive-michaelniki1988@gmail.com/Shared drives/Jing_Drive/3_Data_Working/CausalConnectome/post_processing/tmsfmri/group_analysis_HRF_all/L_aMFG/NTHC_2ndlevel/CausCon_NTHC1057_tms_L_aMFG_con_0001_mni.nii\n"
     ]
    },
    {
     "name": "stderr",
     "output_type": "stream",
     "text": [
      " 12%|█▏        | 99/798 [00:18<01:59,  5.85it/s]"
     ]
    },
    {
     "name": "stdout",
     "output_type": "stream",
     "text": [
      "mask not found:  /Users/jingjiang/Library/CloudStorage/GoogleDrive-michaelniki1988@gmail.com/Shared drives/Jing_Drive/3_Data_Working/CausalConnectome/post_processing/tmsfmri/group_analysis_HRF_all/L_aMFG/NTHC_2ndlevel/CausCon_NTHC1073_tms_L_aMFG_con_0001_mni.nii\n",
      "mask not found:  /Users/jingjiang/Library/CloudStorage/GoogleDrive-michaelniki1988@gmail.com/Shared drives/Jing_Drive/3_Data_Working/CausalConnectome/post_processing/tmsfmri/group_analysis_HRF_all/L_aMFG/NTHC_2ndlevel/CausCon_NTHC1097_tms_L_aMFG_con_0001_mni.nii\n"
     ]
    },
    {
     "name": "stderr",
     "output_type": "stream",
     "text": [
      " 16%|█▌        | 128/798 [00:23<01:46,  6.28it/s]"
     ]
    },
    {
     "name": "stdout",
     "output_type": "stream",
     "text": [
      "mask not found:  /Users/jingjiang/Library/CloudStorage/GoogleDrive-michaelniki1988@gmail.com/Shared drives/Jing_Drive/3_Data_Working/CausalConnectome/post_processing/tmsfmri/group_analysis_HRF_all/L_aMFG/TEHC_2ndlevel/CausCon_TEHC2064_tms_L_aMFG_con_0001_mni.nii\n",
      "mask not found:  /Users/jingjiang/Library/CloudStorage/GoogleDrive-michaelniki1988@gmail.com/Shared drives/Jing_Drive/3_Data_Working/CausalConnectome/post_processing/tmsfmri/group_analysis_HRF_all/L_aMFG/TEHC_2ndlevel/CausCon_TEHC2066_tms_L_aMFG_con_0001_mni.nii\n",
      "mask not found:  /Users/jingjiang/Library/CloudStorage/GoogleDrive-michaelniki1988@gmail.com/Shared drives/Jing_Drive/3_Data_Working/CausalConnectome/post_processing/tmsfmri/group_analysis_HRF_all/L_aMFG/TEHC_2ndlevel/CausCon_TEHC2069_tms_L_aMFG_con_0001_mni.nii\n",
      "mask not found:  /Users/jingjiang/Library/CloudStorage/GoogleDrive-michaelniki1988@gmail.com/Shared drives/Jing_Drive/3_Data_Working/CausalConnectome/post_processing/tmsfmri/group_analysis_HRF_all/L_aMFG/TEHC_2ndlevel/CausCon_TEHC2074_tms_L_aMFG_con_0001_mni.nii\n",
      "mask not found:  /Users/jingjiang/Library/CloudStorage/GoogleDrive-michaelniki1988@gmail.com/Shared drives/Jing_Drive/3_Data_Working/CausalConnectome/post_processing/tmsfmri/group_analysis_HRF_all/L_aMFG/TEHC_2ndlevel/CausCon_TEHC2075_tms_L_aMFG_con_0001_mni.nii\n"
     ]
    },
    {
     "name": "stderr",
     "output_type": "stream",
     "text": [
      " 17%|█▋        | 135/798 [00:24<01:56,  5.67it/s]"
     ]
    },
    {
     "name": "stdout",
     "output_type": "stream",
     "text": [
      "mask not found:  /Users/jingjiang/Library/CloudStorage/GoogleDrive-michaelniki1988@gmail.com/Shared drives/Jing_Drive/3_Data_Working/CausalConnectome/post_processing/tmsfmri/group_analysis_HRF_all/L_aMFG/TEHC_2ndlevel/CausCon_TEHC2096_tms_L_aMFG_con_0001_mni.nii\n"
     ]
    },
    {
     "name": "stderr",
     "output_type": "stream",
     "text": [
      " 19%|█▉        | 150/798 [00:27<02:12,  4.90it/s]"
     ]
    },
    {
     "name": "stdout",
     "output_type": "stream",
     "text": [
      "mask not found:  /Users/jingjiang/Library/CloudStorage/GoogleDrive-michaelniki1988@gmail.com/Shared drives/Jing_Drive/3_Data_Working/CausalConnectome/post_processing/tmsfmri/group_analysis_HRF_all/L_pMFG/NTHC_2ndlevel/CausCon_NTHC1023_tms_L_pMFG_con_0001_mni.nii\n"
     ]
    },
    {
     "name": "stderr",
     "output_type": "stream",
     "text": [
      " 21%|██▏       | 170/798 [00:31<02:12,  4.73it/s]"
     ]
    },
    {
     "name": "stdout",
     "output_type": "stream",
     "text": [
      "mask not found:  /Users/jingjiang/Library/CloudStorage/GoogleDrive-michaelniki1988@gmail.com/Shared drives/Jing_Drive/3_Data_Working/CausalConnectome/post_processing/tmsfmri/group_analysis_HRF_all/L_pMFG/NTHC_2ndlevel/CausCon_NTHC1057_tms_L_pMFG_con_0001_mni.nii\n"
     ]
    },
    {
     "name": "stderr",
     "output_type": "stream",
     "text": [
      " 22%|██▏       | 177/798 [00:32<02:08,  4.84it/s]"
     ]
    },
    {
     "name": "stdout",
     "output_type": "stream",
     "text": [
      "mask not found:  /Users/jingjiang/Library/CloudStorage/GoogleDrive-michaelniki1988@gmail.com/Shared drives/Jing_Drive/3_Data_Working/CausalConnectome/post_processing/tmsfmri/group_analysis_HRF_all/L_pMFG/NTHC_2ndlevel/CausCon_NTHC1073_tms_L_pMFG_con_0001_mni.nii\n"
     ]
    },
    {
     "name": "stderr",
     "output_type": "stream",
     "text": [
      "\r",
      " 22%|██▏       | 179/798 [00:32<01:51,  5.58it/s]"
     ]
    },
    {
     "name": "stdout",
     "output_type": "stream",
     "text": [
      "mask not found:  /Users/jingjiang/Library/CloudStorage/GoogleDrive-michaelniki1988@gmail.com/Shared drives/Jing_Drive/3_Data_Working/CausalConnectome/post_processing/tmsfmri/group_analysis_HRF_all/L_pMFG/NTHC_2ndlevel/CausCon_NTHC1097_tms_L_pMFG_con_0001_mni.nii\n"
     ]
    },
    {
     "name": "stderr",
     "output_type": "stream",
     "text": [
      " 26%|██▌       | 206/798 [00:38<01:45,  5.62it/s]"
     ]
    },
    {
     "name": "stdout",
     "output_type": "stream",
     "text": [
      "mask not found:  /Users/jingjiang/Library/CloudStorage/GoogleDrive-michaelniki1988@gmail.com/Shared drives/Jing_Drive/3_Data_Working/CausalConnectome/post_processing/tmsfmri/group_analysis_HRF_all/L_pMFG/TEHC_2ndlevel/CausCon_TEHC2064_tms_L_pMFG_con_0001_mni.nii\n",
      "mask not found:  /Users/jingjiang/Library/CloudStorage/GoogleDrive-michaelniki1988@gmail.com/Shared drives/Jing_Drive/3_Data_Working/CausalConnectome/post_processing/tmsfmri/group_analysis_HRF_all/L_pMFG/TEHC_2ndlevel/CausCon_TEHC2069_tms_L_pMFG_con_0001_mni.nii\n"
     ]
    },
    {
     "name": "stderr",
     "output_type": "stream",
     "text": [
      "\r",
      " 26%|██▌       | 208/798 [00:38<01:33,  6.32it/s]"
     ]
    },
    {
     "name": "stdout",
     "output_type": "stream",
     "text": [
      "mask not found:  /Users/jingjiang/Library/CloudStorage/GoogleDrive-michaelniki1988@gmail.com/Shared drives/Jing_Drive/3_Data_Working/CausalConnectome/post_processing/tmsfmri/group_analysis_HRF_all/L_pMFG/TEHC_2ndlevel/CausCon_TEHC2074_tms_L_pMFG_con_0001_mni.nii\n",
      "mask not found:  /Users/jingjiang/Library/CloudStorage/GoogleDrive-michaelniki1988@gmail.com/Shared drives/Jing_Drive/3_Data_Working/CausalConnectome/post_processing/tmsfmri/group_analysis_HRF_all/L_pMFG/TEHC_2ndlevel/CausCon_TEHC2075_tms_L_pMFG_con_0001_mni.nii\n"
     ]
    },
    {
     "name": "stderr",
     "output_type": "stream",
     "text": [
      " 27%|██▋       | 214/798 [00:39<01:21,  7.18it/s]"
     ]
    },
    {
     "name": "stdout",
     "output_type": "stream",
     "text": [
      "mask not found:  /Users/jingjiang/Library/CloudStorage/GoogleDrive-michaelniki1988@gmail.com/Shared drives/Jing_Drive/3_Data_Working/CausalConnectome/post_processing/tmsfmri/group_analysis_HRF_all/L_pMFG/TEHC_2ndlevel/CausCon_TEHC2088_tms_L_pMFG_con_0001_mni.nii\n"
     ]
    },
    {
     "name": "stderr",
     "output_type": "stream",
     "text": [
      "\r",
      " 27%|██▋       | 215/798 [00:39<01:32,  6.32it/s]"
     ]
    },
    {
     "name": "stdout",
     "output_type": "stream",
     "text": [
      "mask not found:  /Users/jingjiang/Library/CloudStorage/GoogleDrive-michaelniki1988@gmail.com/Shared drives/Jing_Drive/3_Data_Working/CausalConnectome/post_processing/tmsfmri/group_analysis_HRF_all/L_pMFG/TEHC_2ndlevel/CausCon_TEHC2096_tms_L_pMFG_con_0001_mni.nii\n"
     ]
    },
    {
     "name": "stderr",
     "output_type": "stream",
     "text": [
      " 29%|██▉       | 231/798 [00:42<01:37,  5.81it/s]"
     ]
    },
    {
     "name": "stdout",
     "output_type": "stream",
     "text": [
      "mask not found:  /Users/jingjiang/Library/CloudStorage/GoogleDrive-michaelniki1988@gmail.com/Shared drives/Jing_Drive/3_Data_Working/CausalConnectome/post_processing/tmsfmri/group_analysis_HRF_all/R_FEF/NTHC_2ndlevel/CausCon_NTHC1023_tms_R_FEF_con_0001_mni.nii\n"
     ]
    },
    {
     "name": "stderr",
     "output_type": "stream",
     "text": [
      " 31%|███       | 249/798 [00:45<01:58,  4.65it/s]"
     ]
    },
    {
     "name": "stdout",
     "output_type": "stream",
     "text": [
      "mask not found:  /Users/jingjiang/Library/CloudStorage/GoogleDrive-michaelniki1988@gmail.com/Shared drives/Jing_Drive/3_Data_Working/CausalConnectome/post_processing/tmsfmri/group_analysis_HRF_all/R_FEF/NTHC_2ndlevel/CausCon_NTHC1057_tms_R_FEF_con_0001_mni.nii\n"
     ]
    },
    {
     "name": "stderr",
     "output_type": "stream",
     "text": [
      " 32%|███▏      | 256/798 [00:47<01:53,  4.77it/s]"
     ]
    },
    {
     "name": "stdout",
     "output_type": "stream",
     "text": [
      "mask not found:  /Users/jingjiang/Library/CloudStorage/GoogleDrive-michaelniki1988@gmail.com/Shared drives/Jing_Drive/3_Data_Working/CausalConnectome/post_processing/tmsfmri/group_analysis_HRF_all/R_FEF/NTHC_2ndlevel/CausCon_NTHC1073_tms_R_FEF_con_0001_mni.nii\n"
     ]
    },
    {
     "name": "stderr",
     "output_type": "stream",
     "text": [
      " 33%|███▎      | 260/798 [00:47<01:22,  6.50it/s]"
     ]
    },
    {
     "name": "stdout",
     "output_type": "stream",
     "text": [
      "mask not found:  /Users/jingjiang/Library/CloudStorage/GoogleDrive-michaelniki1988@gmail.com/Shared drives/Jing_Drive/3_Data_Working/CausalConnectome/post_processing/tmsfmri/group_analysis_HRF_all/R_FEF/NTHC_2ndlevel/CausCon_NTHC1097_tms_R_FEF_con_0001_mni.nii\n"
     ]
    },
    {
     "name": "stderr",
     "output_type": "stream",
     "text": [
      " 33%|███▎      | 266/798 [00:48<01:52,  4.74it/s]"
     ]
    },
    {
     "name": "stdout",
     "output_type": "stream",
     "text": [
      "mask not found:  /Users/jingjiang/Library/CloudStorage/GoogleDrive-michaelniki1988@gmail.com/Shared drives/Jing_Drive/3_Data_Working/CausalConnectome/post_processing/tmsfmri/group_analysis_HRF_all/R_FEF/TEHC_2ndlevel/CausCon_TEHC2005_tms_R_FEF_con_0001_mni.nii\n"
     ]
    },
    {
     "name": "stderr",
     "output_type": "stream",
     "text": [
      " 35%|███▌      | 281/798 [00:51<01:53,  4.54it/s]"
     ]
    },
    {
     "name": "stdout",
     "output_type": "stream",
     "text": [
      "mask not found:  /Users/jingjiang/Library/CloudStorage/GoogleDrive-michaelniki1988@gmail.com/Shared drives/Jing_Drive/3_Data_Working/CausalConnectome/post_processing/tmsfmri/group_analysis_HRF_all/R_FEF/TEHC_2ndlevel/CausCon_TEHC2064_tms_R_FEF_con_0001_mni.nii\n",
      "mask not found:  /Users/jingjiang/Library/CloudStorage/GoogleDrive-michaelniki1988@gmail.com/Shared drives/Jing_Drive/3_Data_Working/CausalConnectome/post_processing/tmsfmri/group_analysis_HRF_all/R_FEF/TEHC_2ndlevel/CausCon_TEHC2066_tms_R_FEF_con_0001_mni.nii\n",
      "mask not found:  /Users/jingjiang/Library/CloudStorage/GoogleDrive-michaelniki1988@gmail.com/Shared drives/Jing_Drive/3_Data_Working/CausalConnectome/post_processing/tmsfmri/group_analysis_HRF_all/R_FEF/TEHC_2ndlevel/CausCon_TEHC2069_tms_R_FEF_con_0001_mni.nii\n"
     ]
    },
    {
     "name": "stderr",
     "output_type": "stream",
     "text": [
      "\r",
      " 36%|███▌      | 285/798 [00:52<01:27,  5.84it/s]"
     ]
    },
    {
     "name": "stdout",
     "output_type": "stream",
     "text": [
      "mask not found:  /Users/jingjiang/Library/CloudStorage/GoogleDrive-michaelniki1988@gmail.com/Shared drives/Jing_Drive/3_Data_Working/CausalConnectome/post_processing/tmsfmri/group_analysis_HRF_all/R_FEF/TEHC_2ndlevel/CausCon_TEHC2074_tms_R_FEF_con_0001_mni.nii\n"
     ]
    },
    {
     "name": "stderr",
     "output_type": "stream",
     "text": [
      " 36%|███▋      | 290/798 [00:52<01:38,  5.17it/s]"
     ]
    },
    {
     "name": "stdout",
     "output_type": "stream",
     "text": [
      "mask not found:  /Users/jingjiang/Library/CloudStorage/GoogleDrive-michaelniki1988@gmail.com/Shared drives/Jing_Drive/3_Data_Working/CausalConnectome/post_processing/tmsfmri/group_analysis_HRF_all/R_FEF/TEHC_2ndlevel/CausCon_TEHC2088_tms_R_FEF_con_0001_mni.nii\n"
     ]
    },
    {
     "name": "stderr",
     "output_type": "stream",
     "text": [
      " 38%|███▊      | 301/798 [00:54<01:43,  4.78it/s]"
     ]
    },
    {
     "name": "stdout",
     "output_type": "stream",
     "text": [
      "mask not found:  /Users/jingjiang/Library/CloudStorage/GoogleDrive-michaelniki1988@gmail.com/Shared drives/Jing_Drive/3_Data_Working/CausalConnectome/post_processing/tmsfmri/group_analysis_HRF_all/R_Fp/NTHC_2ndlevel/CausCon_NTHC1003_tms_R_Fp_con_0001_mni.nii\n"
     ]
    },
    {
     "name": "stderr",
     "output_type": "stream",
     "text": [
      " 39%|███▉      | 313/798 [00:57<01:36,  5.02it/s]"
     ]
    },
    {
     "name": "stdout",
     "output_type": "stream",
     "text": [
      "mask not found:  /Users/jingjiang/Library/CloudStorage/GoogleDrive-michaelniki1988@gmail.com/Shared drives/Jing_Drive/3_Data_Working/CausalConnectome/post_processing/tmsfmri/group_analysis_HRF_all/R_Fp/NTHC_2ndlevel/CausCon_NTHC1043_tms_R_Fp_con_0001_mni.nii\n"
     ]
    },
    {
     "name": "stderr",
     "output_type": "stream",
     "text": [
      " 40%|███▉      | 316/798 [00:57<01:30,  5.35it/s]"
     ]
    },
    {
     "name": "stdout",
     "output_type": "stream",
     "text": [
      "mask not found:  /Users/jingjiang/Library/CloudStorage/GoogleDrive-michaelniki1988@gmail.com/Shared drives/Jing_Drive/3_Data_Working/CausalConnectome/post_processing/tmsfmri/group_analysis_HRF_all/R_Fp/NTHC_2ndlevel/CausCon_NTHC1050_tms_R_Fp_con_0001_mni.nii\n"
     ]
    },
    {
     "name": "stderr",
     "output_type": "stream",
     "text": [
      " 40%|████      | 321/798 [00:58<01:12,  6.60it/s]"
     ]
    },
    {
     "name": "stdout",
     "output_type": "stream",
     "text": [
      "mask not found:  /Users/jingjiang/Library/CloudStorage/GoogleDrive-michaelniki1988@gmail.com/Shared drives/Jing_Drive/3_Data_Working/CausalConnectome/post_processing/tmsfmri/group_analysis_HRF_all/R_Fp/NTHC_2ndlevel/CausCon_NTHC1055_tms_R_Fp_con_0001_mni.nii\n"
     ]
    },
    {
     "name": "stderr",
     "output_type": "stream",
     "text": [
      " 41%|████      | 327/798 [00:59<01:38,  4.77it/s]"
     ]
    },
    {
     "name": "stdout",
     "output_type": "stream",
     "text": [
      "mask not found:  /Users/jingjiang/Library/CloudStorage/GoogleDrive-michaelniki1988@gmail.com/Shared drives/Jing_Drive/3_Data_Working/CausalConnectome/post_processing/tmsfmri/group_analysis_HRF_all/R_Fp/NTHC_2ndlevel/CausCon_NTHC1073_tms_R_Fp_con_0001_mni.nii\n"
     ]
    },
    {
     "name": "stderr",
     "output_type": "stream",
     "text": [
      " 41%|████▏     | 331/798 [01:00<01:13,  6.38it/s]"
     ]
    },
    {
     "name": "stdout",
     "output_type": "stream",
     "text": [
      "mask not found:  /Users/jingjiang/Library/CloudStorage/GoogleDrive-michaelniki1988@gmail.com/Shared drives/Jing_Drive/3_Data_Working/CausalConnectome/post_processing/tmsfmri/group_analysis_HRF_all/R_Fp/NTHC_2ndlevel/CausCon_NTHC1097_tms_R_Fp_con_0001_mni.nii\n"
     ]
    },
    {
     "name": "stderr",
     "output_type": "stream",
     "text": [
      " 42%|████▏     | 339/798 [01:01<01:33,  4.90it/s]"
     ]
    },
    {
     "name": "stdout",
     "output_type": "stream",
     "text": [
      "mask not found:  /Users/jingjiang/Library/CloudStorage/GoogleDrive-michaelniki1988@gmail.com/Shared drives/Jing_Drive/3_Data_Working/CausalConnectome/post_processing/tmsfmri/group_analysis_HRF_all/R_Fp/TEHC_2ndlevel/CausCon_TEHC2010_tms_R_Fp_con_0001_mni.nii\n"
     ]
    },
    {
     "name": "stderr",
     "output_type": "stream",
     "text": [
      " 43%|████▎     | 346/798 [01:03<01:36,  4.69it/s]"
     ]
    },
    {
     "name": "stdout",
     "output_type": "stream",
     "text": [
      "mask not found:  /Users/jingjiang/Library/CloudStorage/GoogleDrive-michaelniki1988@gmail.com/Shared drives/Jing_Drive/3_Data_Working/CausalConnectome/post_processing/tmsfmri/group_analysis_HRF_all/R_Fp/TEHC_2ndlevel/CausCon_TEHC2047_tms_R_Fp_con_0001_mni.nii\n"
     ]
    },
    {
     "name": "stderr",
     "output_type": "stream",
     "text": [
      " 44%|████▍     | 350/798 [01:03<01:30,  4.94it/s]"
     ]
    },
    {
     "name": "stdout",
     "output_type": "stream",
     "text": [
      "mask not found:  /Users/jingjiang/Library/CloudStorage/GoogleDrive-michaelniki1988@gmail.com/Shared drives/Jing_Drive/3_Data_Working/CausalConnectome/post_processing/tmsfmri/group_analysis_HRF_all/R_Fp/TEHC_2ndlevel/CausCon_TEHC2064_tms_R_Fp_con_0001_mni.nii\n",
      "mask not found:  /Users/jingjiang/Library/CloudStorage/GoogleDrive-michaelniki1988@gmail.com/Shared drives/Jing_Drive/3_Data_Working/CausalConnectome/post_processing/tmsfmri/group_analysis_HRF_all/R_Fp/TEHC_2ndlevel/CausCon_TEHC2066_tms_R_Fp_con_0001_mni.nii\n",
      "mask not found:  /Users/jingjiang/Library/CloudStorage/GoogleDrive-michaelniki1988@gmail.com/Shared drives/Jing_Drive/3_Data_Working/CausalConnectome/post_processing/tmsfmri/group_analysis_HRF_all/R_Fp/TEHC_2ndlevel/CausCon_TEHC2069_tms_R_Fp_con_0001_mni.nii\n"
     ]
    },
    {
     "name": "stderr",
     "output_type": "stream",
     "text": [
      "\r",
      " 44%|████▍     | 354/798 [01:03<01:10,  6.29it/s]"
     ]
    },
    {
     "name": "stdout",
     "output_type": "stream",
     "text": [
      "mask not found:  /Users/jingjiang/Library/CloudStorage/GoogleDrive-michaelniki1988@gmail.com/Shared drives/Jing_Drive/3_Data_Working/CausalConnectome/post_processing/tmsfmri/group_analysis_HRF_all/R_Fp/TEHC_2ndlevel/CausCon_TEHC2074_tms_R_Fp_con_0001_mni.nii\n"
     ]
    },
    {
     "name": "stderr",
     "output_type": "stream",
     "text": [
      " 45%|████▍     | 359/798 [01:04<01:22,  5.34it/s]"
     ]
    },
    {
     "name": "stdout",
     "output_type": "stream",
     "text": [
      "mask not found:  /Users/jingjiang/Library/CloudStorage/GoogleDrive-michaelniki1988@gmail.com/Shared drives/Jing_Drive/3_Data_Working/CausalConnectome/post_processing/tmsfmri/group_analysis_HRF_all/R_Fp/TEHC_2ndlevel/CausCon_TEHC2088_tms_R_Fp_con_0001_mni.nii\n"
     ]
    },
    {
     "name": "stderr",
     "output_type": "stream",
     "text": [
      " 50%|████▉     | 398/798 [01:30<05:11,  1.28it/s]"
     ]
    },
    {
     "name": "stdout",
     "output_type": "stream",
     "text": [
      "mask not found:  /Users/jingjiang/Library/CloudStorage/GoogleDrive-michaelniki1988@gmail.com/Shared drives/Jing_Drive/3_Data_Working/CausalConnectome/post_processing/tmsfmri/group_analysis_HRF_all/R_IFJ/NTHC_2ndlevel/CausCon_NTHC1073_tms_R_IFJ_con_0001_mni.nii\n"
     ]
    },
    {
     "name": "stderr",
     "output_type": "stream",
     "text": [
      "\r",
      " 50%|█████     | 400/798 [01:31<04:18,  1.54it/s]"
     ]
    },
    {
     "name": "stdout",
     "output_type": "stream",
     "text": [
      "mask not found:  /Users/jingjiang/Library/CloudStorage/GoogleDrive-michaelniki1988@gmail.com/Shared drives/Jing_Drive/3_Data_Working/CausalConnectome/post_processing/tmsfmri/group_analysis_HRF_all/R_IFJ/NTHC_2ndlevel/CausCon_NTHC1097_tms_R_IFJ_con_0001_mni.nii\n"
     ]
    },
    {
     "name": "stderr",
     "output_type": "stream",
     "text": [
      " 53%|█████▎    | 419/798 [01:40<01:28,  4.30it/s]"
     ]
    },
    {
     "name": "stdout",
     "output_type": "stream",
     "text": [
      "mask not found:  /Users/jingjiang/Library/CloudStorage/GoogleDrive-michaelniki1988@gmail.com/Shared drives/Jing_Drive/3_Data_Working/CausalConnectome/post_processing/tmsfmri/group_analysis_HRF_all/R_IFJ/TEHC_2ndlevel/CausCon_TEHC2040_tms_R_IFJ_con_0001_mni.nii\n"
     ]
    },
    {
     "name": "stderr",
     "output_type": "stream",
     "text": [
      " 54%|█████▍    | 430/798 [01:41<00:57,  6.41it/s]"
     ]
    },
    {
     "name": "stdout",
     "output_type": "stream",
     "text": [
      "mask not found:  /Users/jingjiang/Library/CloudStorage/GoogleDrive-michaelniki1988@gmail.com/Shared drives/Jing_Drive/3_Data_Working/CausalConnectome/post_processing/tmsfmri/group_analysis_HRF_all/R_IFJ/TEHC_2ndlevel/CausCon_TEHC2064_tms_R_IFJ_con_0001_mni.nii\n",
      "mask not found:  /Users/jingjiang/Library/CloudStorage/GoogleDrive-michaelniki1988@gmail.com/Shared drives/Jing_Drive/3_Data_Working/CausalConnectome/post_processing/tmsfmri/group_analysis_HRF_all/R_IFJ/TEHC_2ndlevel/CausCon_TEHC2066_tms_R_IFJ_con_0001_mni.nii\n",
      "mask not found:  /Users/jingjiang/Library/CloudStorage/GoogleDrive-michaelniki1988@gmail.com/Shared drives/Jing_Drive/3_Data_Working/CausalConnectome/post_processing/tmsfmri/group_analysis_HRF_all/R_IFJ/TEHC_2ndlevel/CausCon_TEHC2069_tms_R_IFJ_con_0001_mni.nii\n",
      "mask not found:  /Users/jingjiang/Library/CloudStorage/GoogleDrive-michaelniki1988@gmail.com/Shared drives/Jing_Drive/3_Data_Working/CausalConnectome/post_processing/tmsfmri/group_analysis_HRF_all/R_IFJ/TEHC_2ndlevel/CausCon_TEHC2074_tms_R_IFJ_con_0001_mni.nii\n",
      "mask not found:  /Users/jingjiang/Library/CloudStorage/GoogleDrive-michaelniki1988@gmail.com/Shared drives/Jing_Drive/3_Data_Working/CausalConnectome/post_processing/tmsfmri/group_analysis_HRF_all/R_IFJ/TEHC_2ndlevel/CausCon_TEHC2075_tms_R_IFJ_con_0001_mni.nii\n"
     ]
    },
    {
     "name": "stderr",
     "output_type": "stream",
     "text": [
      " 55%|█████▍    | 435/798 [01:42<00:56,  6.41it/s]"
     ]
    },
    {
     "name": "stdout",
     "output_type": "stream",
     "text": [
      "mask not found:  /Users/jingjiang/Library/CloudStorage/GoogleDrive-michaelniki1988@gmail.com/Shared drives/Jing_Drive/3_Data_Working/CausalConnectome/post_processing/tmsfmri/group_analysis_HRF_all/R_IFJ/TEHC_2ndlevel/CausCon_TEHC2088_tms_R_IFJ_con_0001_mni.nii\n"
     ]
    },
    {
     "name": "stderr",
     "output_type": "stream",
     "text": [
      " 57%|█████▋    | 457/798 [01:46<01:12,  4.71it/s]"
     ]
    },
    {
     "name": "stdout",
     "output_type": "stream",
     "text": [
      "mask not found:  /Users/jingjiang/Library/CloudStorage/GoogleDrive-michaelniki1988@gmail.com/Shared drives/Jing_Drive/3_Data_Working/CausalConnectome/post_processing/tmsfmri/group_analysis_HRF_all/R_IPL/NTHC_2ndlevel/CausCon_NTHC1057_tms_R_IPL_con_0001_mni.nii\n"
     ]
    },
    {
     "name": "stderr",
     "output_type": "stream",
     "text": [
      " 58%|█████▊    | 465/798 [01:47<00:56,  5.93it/s]"
     ]
    },
    {
     "name": "stdout",
     "output_type": "stream",
     "text": [
      "mask not found:  /Users/jingjiang/Library/CloudStorage/GoogleDrive-michaelniki1988@gmail.com/Shared drives/Jing_Drive/3_Data_Working/CausalConnectome/post_processing/tmsfmri/group_analysis_HRF_all/R_IPL/NTHC_2ndlevel/CausCon_NTHC1073_tms_R_IPL_con_0001_mni.nii\n",
      "mask not found:  /Users/jingjiang/Library/CloudStorage/GoogleDrive-michaelniki1988@gmail.com/Shared drives/Jing_Drive/3_Data_Working/CausalConnectome/post_processing/tmsfmri/group_analysis_HRF_all/R_IPL/NTHC_2ndlevel/CausCon_NTHC1097_tms_R_IPL_con_0001_mni.nii\n"
     ]
    },
    {
     "name": "stderr",
     "output_type": "stream",
     "text": [
      " 60%|██████    | 479/798 [01:50<01:06,  4.82it/s]"
     ]
    },
    {
     "name": "stdout",
     "output_type": "stream",
     "text": [
      "mask not found:  /Users/jingjiang/Library/CloudStorage/GoogleDrive-michaelniki1988@gmail.com/Shared drives/Jing_Drive/3_Data_Working/CausalConnectome/post_processing/tmsfmri/group_analysis_HRF_all/R_IPL/TEHC_2ndlevel/CausCon_TEHC2064_tms_R_IPL_con_0001_mni.nii\n",
      "mask not found:  /Users/jingjiang/Library/CloudStorage/GoogleDrive-michaelniki1988@gmail.com/Shared drives/Jing_Drive/3_Data_Working/CausalConnectome/post_processing/tmsfmri/group_analysis_HRF_all/R_IPL/TEHC_2ndlevel/CausCon_TEHC2066_tms_R_IPL_con_0001_mni.nii\n"
     ]
    },
    {
     "name": "stderr",
     "output_type": "stream",
     "text": [
      "\r",
      " 60%|██████    | 482/798 [01:50<00:53,  5.94it/s]"
     ]
    },
    {
     "name": "stdout",
     "output_type": "stream",
     "text": [
      "mask not found:  /Users/jingjiang/Library/CloudStorage/GoogleDrive-michaelniki1988@gmail.com/Shared drives/Jing_Drive/3_Data_Working/CausalConnectome/post_processing/tmsfmri/group_analysis_HRF_all/R_IPL/TEHC_2ndlevel/CausCon_TEHC2074_tms_R_IPL_con_0001_mni.nii\n"
     ]
    },
    {
     "name": "stderr",
     "output_type": "stream",
     "text": [
      " 61%|██████    | 487/798 [01:51<00:57,  5.45it/s]"
     ]
    },
    {
     "name": "stdout",
     "output_type": "stream",
     "text": [
      "mask not found:  /Users/jingjiang/Library/CloudStorage/GoogleDrive-michaelniki1988@gmail.com/Shared drives/Jing_Drive/3_Data_Working/CausalConnectome/post_processing/tmsfmri/group_analysis_HRF_all/R_IPL/TEHC_2ndlevel/CausCon_TEHC2088_tms_R_IPL_con_0001_mni.nii\n"
     ]
    },
    {
     "name": "stderr",
     "output_type": "stream",
     "text": [
      " 63%|██████▎   | 505/798 [01:54<00:50,  5.80it/s]"
     ]
    },
    {
     "name": "stdout",
     "output_type": "stream",
     "text": [
      "mask not found:  /Users/jingjiang/Library/CloudStorage/GoogleDrive-michaelniki1988@gmail.com/Shared drives/Jing_Drive/3_Data_Working/CausalConnectome/post_processing/tmsfmri/group_analysis_HRF_all/R_M1/NTHC_2ndlevel/CausCon_NTHC1023_tms_R_M1_con_0001_mni.nii\n"
     ]
    },
    {
     "name": "stderr",
     "output_type": "stream",
     "text": [
      " 66%|██████▌   | 523/798 [01:58<00:56,  4.85it/s]"
     ]
    },
    {
     "name": "stdout",
     "output_type": "stream",
     "text": [
      "mask not found:  /Users/jingjiang/Library/CloudStorage/GoogleDrive-michaelniki1988@gmail.com/Shared drives/Jing_Drive/3_Data_Working/CausalConnectome/post_processing/tmsfmri/group_analysis_HRF_all/R_M1/NTHC_2ndlevel/CausCon_NTHC1057_tms_R_M1_con_0001_mni.nii\n"
     ]
    },
    {
     "name": "stderr",
     "output_type": "stream",
     "text": [
      " 66%|██████▋   | 529/798 [01:59<00:54,  4.96it/s]"
     ]
    },
    {
     "name": "stdout",
     "output_type": "stream",
     "text": [
      "mask not found:  /Users/jingjiang/Library/CloudStorage/GoogleDrive-michaelniki1988@gmail.com/Shared drives/Jing_Drive/3_Data_Working/CausalConnectome/post_processing/tmsfmri/group_analysis_HRF_all/R_M1/NTHC_2ndlevel/CausCon_NTHC1073_tms_R_M1_con_0001_mni.nii\n"
     ]
    },
    {
     "name": "stderr",
     "output_type": "stream",
     "text": [
      "\r",
      " 67%|██████▋   | 531/798 [01:59<00:45,  5.81it/s]"
     ]
    },
    {
     "name": "stdout",
     "output_type": "stream",
     "text": [
      "mask not found:  /Users/jingjiang/Library/CloudStorage/GoogleDrive-michaelniki1988@gmail.com/Shared drives/Jing_Drive/3_Data_Working/CausalConnectome/post_processing/tmsfmri/group_analysis_HRF_all/R_M1/NTHC_2ndlevel/CausCon_NTHC1097_tms_R_M1_con_0001_mni.nii\n"
     ]
    },
    {
     "name": "stderr",
     "output_type": "stream",
     "text": [
      " 70%|██████▉   | 556/798 [02:05<00:52,  4.61it/s]"
     ]
    },
    {
     "name": "stdout",
     "output_type": "stream",
     "text": [
      "mask not found:  /Users/jingjiang/Library/CloudStorage/GoogleDrive-michaelniki1988@gmail.com/Shared drives/Jing_Drive/3_Data_Working/CausalConnectome/post_processing/tmsfmri/group_analysis_HRF_all/R_M1/TEHC_2ndlevel/CausCon_TEHC2064_tms_R_M1_con_0001_mni.nii\n",
      "mask not found:  /Users/jingjiang/Library/CloudStorage/GoogleDrive-michaelniki1988@gmail.com/Shared drives/Jing_Drive/3_Data_Working/CausalConnectome/post_processing/tmsfmri/group_analysis_HRF_all/R_M1/TEHC_2ndlevel/CausCon_TEHC2066_tms_R_M1_con_0001_mni.nii\n",
      "mask not found:  /Users/jingjiang/Library/CloudStorage/GoogleDrive-michaelniki1988@gmail.com/Shared drives/Jing_Drive/3_Data_Working/CausalConnectome/post_processing/tmsfmri/group_analysis_HRF_all/R_M1/TEHC_2ndlevel/CausCon_TEHC2069_tms_R_M1_con_0001_mni.nii\n"
     ]
    },
    {
     "name": "stderr",
     "output_type": "stream",
     "text": [
      "\r",
      " 70%|███████   | 560/798 [02:05<00:40,  5.93it/s]"
     ]
    },
    {
     "name": "stdout",
     "output_type": "stream",
     "text": [
      "mask not found:  /Users/jingjiang/Library/CloudStorage/GoogleDrive-michaelniki1988@gmail.com/Shared drives/Jing_Drive/3_Data_Working/CausalConnectome/post_processing/tmsfmri/group_analysis_HRF_all/R_M1/TEHC_2ndlevel/CausCon_TEHC2074_tms_R_M1_con_0001_mni.nii\n"
     ]
    },
    {
     "name": "stderr",
     "output_type": "stream",
     "text": [
      " 71%|███████   | 565/798 [02:06<00:45,  5.13it/s]"
     ]
    },
    {
     "name": "stdout",
     "output_type": "stream",
     "text": [
      "mask not found:  /Users/jingjiang/Library/CloudStorage/GoogleDrive-michaelniki1988@gmail.com/Shared drives/Jing_Drive/3_Data_Working/CausalConnectome/post_processing/tmsfmri/group_analysis_HRF_all/R_M1/TEHC_2ndlevel/CausCon_TEHC2088_tms_R_M1_con_0001_mni.nii\n"
     ]
    },
    {
     "name": "stderr",
     "output_type": "stream",
     "text": [
      " 75%|███████▌  | 602/798 [02:13<00:42,  4.66it/s]"
     ]
    },
    {
     "name": "stdout",
     "output_type": "stream",
     "text": [
      "mask not found:  /Users/jingjiang/Library/CloudStorage/GoogleDrive-michaelniki1988@gmail.com/Shared drives/Jing_Drive/3_Data_Working/CausalConnectome/post_processing/tmsfmri/group_analysis_HRF_all/R_aMFG/NTHC_2ndlevel/CausCon_NTHC1057_tms_R_aMFG_con_0001_mni.nii\n"
     ]
    },
    {
     "name": "stderr",
     "output_type": "stream",
     "text": [
      " 76%|███████▋  | 609/798 [02:14<00:36,  5.15it/s]"
     ]
    },
    {
     "name": "stdout",
     "output_type": "stream",
     "text": [
      "mask not found:  /Users/jingjiang/Library/CloudStorage/GoogleDrive-michaelniki1988@gmail.com/Shared drives/Jing_Drive/3_Data_Working/CausalConnectome/post_processing/tmsfmri/group_analysis_HRF_all/R_aMFG/NTHC_2ndlevel/CausCon_NTHC1073_tms_R_aMFG_con_0001_mni.nii\n"
     ]
    },
    {
     "name": "stderr",
     "output_type": "stream",
     "text": [
      " 77%|███████▋  | 613/798 [02:15<00:27,  6.83it/s]"
     ]
    },
    {
     "name": "stdout",
     "output_type": "stream",
     "text": [
      "mask not found:  /Users/jingjiang/Library/CloudStorage/GoogleDrive-michaelniki1988@gmail.com/Shared drives/Jing_Drive/3_Data_Working/CausalConnectome/post_processing/tmsfmri/group_analysis_HRF_all/R_aMFG/NTHC_2ndlevel/CausCon_NTHC1097_tms_R_aMFG_con_0001_mni.nii\n"
     ]
    },
    {
     "name": "stderr",
     "output_type": "stream",
     "text": [
      " 80%|███████▉  | 637/798 [02:20<00:33,  4.87it/s]"
     ]
    },
    {
     "name": "stdout",
     "output_type": "stream",
     "text": [
      "mask not found:  /Users/jingjiang/Library/CloudStorage/GoogleDrive-michaelniki1988@gmail.com/Shared drives/Jing_Drive/3_Data_Working/CausalConnectome/post_processing/tmsfmri/group_analysis_HRF_all/R_aMFG/TEHC_2ndlevel/CausCon_TEHC2064_tms_R_aMFG_con_0001_mni.nii\n",
      "mask not found:  /Users/jingjiang/Library/CloudStorage/GoogleDrive-michaelniki1988@gmail.com/Shared drives/Jing_Drive/3_Data_Working/CausalConnectome/post_processing/tmsfmri/group_analysis_HRF_all/R_aMFG/TEHC_2ndlevel/CausCon_TEHC2066_tms_R_aMFG_con_0001_mni.nii\n",
      "mask not found:  /Users/jingjiang/Library/CloudStorage/GoogleDrive-michaelniki1988@gmail.com/Shared drives/Jing_Drive/3_Data_Working/CausalConnectome/post_processing/tmsfmri/group_analysis_HRF_all/R_aMFG/TEHC_2ndlevel/CausCon_TEHC2069_tms_R_aMFG_con_0001_mni.nii\n",
      "mask not found:  /Users/jingjiang/Library/CloudStorage/GoogleDrive-michaelniki1988@gmail.com/Shared drives/Jing_Drive/3_Data_Working/CausalConnectome/post_processing/tmsfmri/group_analysis_HRF_all/R_aMFG/TEHC_2ndlevel/CausCon_TEHC2074_tms_R_aMFG_con_0001_mni.nii\n"
     ]
    },
    {
     "name": "stderr",
     "output_type": "stream",
     "text": [
      " 81%|████████  | 647/798 [02:21<00:22,  6.59it/s]"
     ]
    },
    {
     "name": "stdout",
     "output_type": "stream",
     "text": [
      "mask not found:  /Users/jingjiang/Library/CloudStorage/GoogleDrive-michaelniki1988@gmail.com/Shared drives/Jing_Drive/3_Data_Working/CausalConnectome/post_processing/tmsfmri/group_analysis_HRF_all/R_aMFG/TEHC_2ndlevel/CausCon_TEHC2088_tms_R_aMFG_con_0001_mni.nii\n"
     ]
    },
    {
     "name": "stderr",
     "output_type": "stream",
     "text": [
      " 83%|████████▎ | 663/798 [02:24<00:27,  4.85it/s]"
     ]
    },
    {
     "name": "stdout",
     "output_type": "stream",
     "text": [
      "mask not found:  /Users/jingjiang/Library/CloudStorage/GoogleDrive-michaelniki1988@gmail.com/Shared drives/Jing_Drive/3_Data_Working/CausalConnectome/post_processing/tmsfmri/group_analysis_HRF_all/R_pMFG/NTHC_2ndlevel/CausCon_NTHC1023_tms_R_pMFG_con_0001_mni.nii\n"
     ]
    },
    {
     "name": "stderr",
     "output_type": "stream",
     "text": [
      " 86%|████████▌ | 685/798 [02:28<00:20,  5.52it/s]"
     ]
    },
    {
     "name": "stdout",
     "output_type": "stream",
     "text": [
      "mask not found:  /Users/jingjiang/Library/CloudStorage/GoogleDrive-michaelniki1988@gmail.com/Shared drives/Jing_Drive/3_Data_Working/CausalConnectome/post_processing/tmsfmri/group_analysis_HRF_all/R_pMFG/NTHC_2ndlevel/CausCon_NTHC1057_tms_R_pMFG_con_0001_mni.nii\n"
     ]
    },
    {
     "name": "stderr",
     "output_type": "stream",
     "text": [
      " 86%|████████▋ | 689/798 [02:29<00:21,  5.00it/s]"
     ]
    },
    {
     "name": "stdout",
     "output_type": "stream",
     "text": [
      "mask not found:  /Users/jingjiang/Library/CloudStorage/GoogleDrive-michaelniki1988@gmail.com/Shared drives/Jing_Drive/3_Data_Working/CausalConnectome/post_processing/tmsfmri/group_analysis_HRF_all/R_pMFG/NTHC_2ndlevel/CausCon_NTHC1073_tms_R_pMFG_con_0001_mni.nii\n"
     ]
    },
    {
     "name": "stderr",
     "output_type": "stream",
     "text": [
      "\r",
      " 87%|████████▋ | 691/798 [02:29<00:18,  5.84it/s]"
     ]
    },
    {
     "name": "stdout",
     "output_type": "stream",
     "text": [
      "mask not found:  /Users/jingjiang/Library/CloudStorage/GoogleDrive-michaelniki1988@gmail.com/Shared drives/Jing_Drive/3_Data_Working/CausalConnectome/post_processing/tmsfmri/group_analysis_HRF_all/R_pMFG/NTHC_2ndlevel/CausCon_NTHC1097_tms_R_pMFG_con_0001_mni.nii\n"
     ]
    },
    {
     "name": "stderr",
     "output_type": "stream",
     "text": [
      " 90%|████████▉ | 716/798 [02:35<00:17,  4.59it/s]"
     ]
    },
    {
     "name": "stdout",
     "output_type": "stream",
     "text": [
      "mask not found:  /Users/jingjiang/Library/CloudStorage/GoogleDrive-michaelniki1988@gmail.com/Shared drives/Jing_Drive/3_Data_Working/CausalConnectome/post_processing/tmsfmri/group_analysis_HRF_all/R_pMFG/TEHC_2ndlevel/CausCon_TEHC2064_tms_R_pMFG_con_0001_mni.nii\n",
      "mask not found:  /Users/jingjiang/Library/CloudStorage/GoogleDrive-michaelniki1988@gmail.com/Shared drives/Jing_Drive/3_Data_Working/CausalConnectome/post_processing/tmsfmri/group_analysis_HRF_all/R_pMFG/TEHC_2ndlevel/CausCon_TEHC2066_tms_R_pMFG_con_0001_mni.nii\n",
      "mask not found:  /Users/jingjiang/Library/CloudStorage/GoogleDrive-michaelniki1988@gmail.com/Shared drives/Jing_Drive/3_Data_Working/CausalConnectome/post_processing/tmsfmri/group_analysis_HRF_all/R_pMFG/TEHC_2ndlevel/CausCon_TEHC2069_tms_R_pMFG_con_0001_mni.nii\n"
     ]
    },
    {
     "name": "stderr",
     "output_type": "stream",
     "text": [
      "\r",
      " 90%|█████████ | 720/798 [02:35<00:13,  5.90it/s]"
     ]
    },
    {
     "name": "stdout",
     "output_type": "stream",
     "text": [
      "mask not found:  /Users/jingjiang/Library/CloudStorage/GoogleDrive-michaelniki1988@gmail.com/Shared drives/Jing_Drive/3_Data_Working/CausalConnectome/post_processing/tmsfmri/group_analysis_HRF_all/R_pMFG/TEHC_2ndlevel/CausCon_TEHC2074_tms_R_pMFG_con_0001_mni.nii\n"
     ]
    },
    {
     "name": "stderr",
     "output_type": "stream",
     "text": [
      " 91%|█████████ | 725/798 [02:36<00:13,  5.33it/s]"
     ]
    },
    {
     "name": "stdout",
     "output_type": "stream",
     "text": [
      "mask not found:  /Users/jingjiang/Library/CloudStorage/GoogleDrive-michaelniki1988@gmail.com/Shared drives/Jing_Drive/3_Data_Working/CausalConnectome/post_processing/tmsfmri/group_analysis_HRF_all/R_pMFG/TEHC_2ndlevel/CausCon_TEHC2088_tms_R_pMFG_con_0001_mni.nii\n"
     ]
    },
    {
     "name": "stderr",
     "output_type": "stream",
     "text": [
      " 93%|█████████▎| 739/798 [02:38<00:12,  4.74it/s]"
     ]
    },
    {
     "name": "stdout",
     "output_type": "stream",
     "text": [
      "mask not found:  /Users/jingjiang/Library/CloudStorage/GoogleDrive-michaelniki1988@gmail.com/Shared drives/Jing_Drive/3_Data_Working/CausalConnectome/post_processing/tmsfmri/group_analysis_HRF_all/R_preSMA/NTHC_2ndlevel/CausCon_NTHC1023_tms_R_preSMA_con_0001_mni.nii\n"
     ]
    },
    {
     "name": "stderr",
     "output_type": "stream",
     "text": [
      " 95%|█████████▌| 762/798 [02:43<00:07,  5.02it/s]"
     ]
    },
    {
     "name": "stdout",
     "output_type": "stream",
     "text": [
      "mask not found:  /Users/jingjiang/Library/CloudStorage/GoogleDrive-michaelniki1988@gmail.com/Shared drives/Jing_Drive/3_Data_Working/CausalConnectome/post_processing/tmsfmri/group_analysis_HRF_all/R_preSMA/NTHC_2ndlevel/CausCon_NTHC1073_tms_R_preSMA_con_0001_mni.nii\n"
     ]
    },
    {
     "name": "stderr",
     "output_type": "stream",
     "text": [
      "\r",
      " 96%|█████████▌| 764/798 [02:43<00:05,  5.88it/s]"
     ]
    },
    {
     "name": "stdout",
     "output_type": "stream",
     "text": [
      "mask not found:  /Users/jingjiang/Library/CloudStorage/GoogleDrive-michaelniki1988@gmail.com/Shared drives/Jing_Drive/3_Data_Working/CausalConnectome/post_processing/tmsfmri/group_analysis_HRF_all/R_preSMA/NTHC_2ndlevel/CausCon_NTHC1097_tms_R_preSMA_con_0001_mni.nii\n"
     ]
    },
    {
     "name": "stderr",
     "output_type": "stream",
     "text": [
      " 98%|█████████▊| 785/798 [02:47<00:02,  4.54it/s]"
     ]
    },
    {
     "name": "stdout",
     "output_type": "stream",
     "text": [
      "mask not found:  /Users/jingjiang/Library/CloudStorage/GoogleDrive-michaelniki1988@gmail.com/Shared drives/Jing_Drive/3_Data_Working/CausalConnectome/post_processing/tmsfmri/group_analysis_HRF_all/R_preSMA/TEHC_2ndlevel/CausCon_TEHC2064_tms_R_preSMA_con_0001_mni.nii\n",
      "mask not found:  /Users/jingjiang/Library/CloudStorage/GoogleDrive-michaelniki1988@gmail.com/Shared drives/Jing_Drive/3_Data_Working/CausalConnectome/post_processing/tmsfmri/group_analysis_HRF_all/R_preSMA/TEHC_2ndlevel/CausCon_TEHC2066_tms_R_preSMA_con_0001_mni.nii\n",
      "mask not found:  /Users/jingjiang/Library/CloudStorage/GoogleDrive-michaelniki1988@gmail.com/Shared drives/Jing_Drive/3_Data_Working/CausalConnectome/post_processing/tmsfmri/group_analysis_HRF_all/R_preSMA/TEHC_2ndlevel/CausCon_TEHC2069_tms_R_preSMA_con_0001_mni.nii\n"
     ]
    },
    {
     "name": "stderr",
     "output_type": "stream",
     "text": [
      " 99%|█████████▉| 792/798 [02:48<00:01,  4.77it/s]"
     ]
    },
    {
     "name": "stdout",
     "output_type": "stream",
     "text": [
      "mask not found:  /Users/jingjiang/Library/CloudStorage/GoogleDrive-michaelniki1988@gmail.com/Shared drives/Jing_Drive/3_Data_Working/CausalConnectome/post_processing/tmsfmri/group_analysis_HRF_all/R_preSMA/TEHC_2ndlevel/CausCon_TEHC2088_tms_R_preSMA_con_0001_mni.nii\n"
     ]
    },
    {
     "name": "stderr",
     "output_type": "stream",
     "text": [
      "100%|██████████| 798/798 [02:49<00:00,  4.70it/s]\n"
     ]
    }
   ],
   "source": [
    "# individual roi 14mm - 10mm:\n",
    "roi_dir = base_dir + \"/3_Data_Working/CausalConnectome/post_processing/tmsfmri/William/Nov_3/tms_spheres/\"\n",
    "    \n",
    "tms_site_response = []\n",
    "for i in trange(len(complete_df)):\n",
    "    image_name = complete_df.iloc[i]['inputfile']\n",
    "    site = complete_df.iloc[i]['site'].replace('_', '-')\n",
    "    subject = complete_df.iloc[i]['subject']\n",
    "    \n",
    "    mask_file = glob(roi_dir + site + \"/\" + str(subject) + \"_14-10mm.nii.gz\")\n",
    "    \n",
    "    if mask_file:\n",
    "        try:\n",
    "            nifti_masker = maskers.NiftiMasker(mask_file[0]).fit()\n",
    "            tms_site_response.append(np.mean(nifti_masker.transform(image_name)))\n",
    "        except:\n",
    "            tms_site_response.append(np.nan)\n",
    "            print(\"error occurs for mask: \", mask_file[0])\n",
    "    else:\n",
    "        tms_site_response.append(np.nan)\n",
    "        print(\"mask not found: \", image_name)\n",
    "\n",
    "complete_df['tms_site_response_individual_14-10mm'] = tms_site_response\n",
    "# complete_df.to_csv(out_dir + out_file_name, index=False)\n"
   ]
  },
  {
   "cell_type": "code",
   "execution_count": 10,
   "metadata": {},
   "outputs": [
    {
     "name": "stderr",
     "output_type": "stream",
     "text": [
      "  0%|          | 3/798 [00:00<02:46,  4.77it/s]"
     ]
    },
    {
     "name": "stdout",
     "output_type": "stream",
     "text": [
      "mask not found:  /Users/jingjiang/Library/CloudStorage/GoogleDrive-michaelniki1988@gmail.com/Shared drives/Jing_Drive/3_Data_Working/CausalConnectome/post_processing/tmsfmri/group_analysis_HRF_all/L_Fp/NTHC_2ndlevel/CausCon_NTHC1037_tms_L_Fp_con_0001_mni.nii\n"
     ]
    },
    {
     "name": "stderr",
     "output_type": "stream",
     "text": [
      "  1%|          | 7/798 [00:01<02:37,  5.01it/s]"
     ]
    },
    {
     "name": "stdout",
     "output_type": "stream",
     "text": [
      "mask not found:  /Users/jingjiang/Library/CloudStorage/GoogleDrive-michaelniki1988@gmail.com/Shared drives/Jing_Drive/3_Data_Working/CausalConnectome/post_processing/tmsfmri/group_analysis_HRF_all/L_Fp/NTHC_2ndlevel/CausCon_NTHC1043_tms_L_Fp_con_0001_mni.nii\n"
     ]
    },
    {
     "name": "stderr",
     "output_type": "stream",
     "text": [
      "  1%|▏         | 10/798 [00:01<02:27,  5.33it/s]"
     ]
    },
    {
     "name": "stdout",
     "output_type": "stream",
     "text": [
      "mask not found:  /Users/jingjiang/Library/CloudStorage/GoogleDrive-michaelniki1988@gmail.com/Shared drives/Jing_Drive/3_Data_Working/CausalConnectome/post_processing/tmsfmri/group_analysis_HRF_all/L_Fp/NTHC_2ndlevel/CausCon_NTHC1050_tms_L_Fp_con_0001_mni.nii\n"
     ]
    },
    {
     "name": "stderr",
     "output_type": "stream",
     "text": [
      "  2%|▏         | 13/798 [00:02<02:20,  5.58it/s]"
     ]
    },
    {
     "name": "stdout",
     "output_type": "stream",
     "text": [
      "mask not found:  /Users/jingjiang/Library/CloudStorage/GoogleDrive-michaelniki1988@gmail.com/Shared drives/Jing_Drive/3_Data_Working/CausalConnectome/post_processing/tmsfmri/group_analysis_HRF_all/L_Fp/NTHC_2ndlevel/CausCon_NTHC1055_tms_L_Fp_con_0001_mni.nii\n"
     ]
    },
    {
     "name": "stderr",
     "output_type": "stream",
     "text": [
      "  3%|▎         | 23/798 [00:03<02:12,  5.86it/s]"
     ]
    },
    {
     "name": "stdout",
     "output_type": "stream",
     "text": [
      "mask not found:  /Users/jingjiang/Library/CloudStorage/GoogleDrive-michaelniki1988@gmail.com/Shared drives/Jing_Drive/3_Data_Working/CausalConnectome/post_processing/tmsfmri/group_analysis_HRF_all/L_Fp/NTHC_2ndlevel/CausCon_NTHC1073_tms_L_Fp_con_0001_mni.nii\n",
      "mask not found:  /Users/jingjiang/Library/CloudStorage/GoogleDrive-michaelniki1988@gmail.com/Shared drives/Jing_Drive/3_Data_Working/CausalConnectome/post_processing/tmsfmri/group_analysis_HRF_all/L_Fp/NTHC_2ndlevel/CausCon_NTHC1097_tms_L_Fp_con_0001_mni.nii\n"
     ]
    },
    {
     "name": "stderr",
     "output_type": "stream",
     "text": [
      "  5%|▌         | 42/798 [00:07<02:37,  4.81it/s]"
     ]
    },
    {
     "name": "stdout",
     "output_type": "stream",
     "text": [
      "mask not found:  /Users/jingjiang/Library/CloudStorage/GoogleDrive-michaelniki1988@gmail.com/Shared drives/Jing_Drive/3_Data_Working/CausalConnectome/post_processing/tmsfmri/group_analysis_HRF_all/L_Fp/TEHC_2ndlevel/CausCon_TEHC2047_tms_L_Fp_con_0001_mni.nii\n"
     ]
    },
    {
     "name": "stderr",
     "output_type": "stream",
     "text": [
      "  6%|▋         | 50/798 [00:08<01:56,  6.43it/s]"
     ]
    },
    {
     "name": "stdout",
     "output_type": "stream",
     "text": [
      "mask not found:  /Users/jingjiang/Library/CloudStorage/GoogleDrive-michaelniki1988@gmail.com/Shared drives/Jing_Drive/3_Data_Working/CausalConnectome/post_processing/tmsfmri/group_analysis_HRF_all/L_Fp/TEHC_2ndlevel/CausCon_TEHC2064_tms_L_Fp_con_0001_mni.nii\n",
      "mask not found:  /Users/jingjiang/Library/CloudStorage/GoogleDrive-michaelniki1988@gmail.com/Shared drives/Jing_Drive/3_Data_Working/CausalConnectome/post_processing/tmsfmri/group_analysis_HRF_all/L_Fp/TEHC_2ndlevel/CausCon_TEHC2066_tms_L_Fp_con_0001_mni.nii\n",
      "mask not found:  /Users/jingjiang/Library/CloudStorage/GoogleDrive-michaelniki1988@gmail.com/Shared drives/Jing_Drive/3_Data_Working/CausalConnectome/post_processing/tmsfmri/group_analysis_HRF_all/L_Fp/TEHC_2ndlevel/CausCon_TEHC2069_tms_L_Fp_con_0001_mni.nii\n",
      "mask not found:  /Users/jingjiang/Library/CloudStorage/GoogleDrive-michaelniki1988@gmail.com/Shared drives/Jing_Drive/3_Data_Working/CausalConnectome/post_processing/tmsfmri/group_analysis_HRF_all/L_Fp/TEHC_2ndlevel/CausCon_TEHC2074_tms_L_Fp_con_0001_mni.nii\n"
     ]
    },
    {
     "name": "stderr",
     "output_type": "stream",
     "text": [
      "  7%|▋         | 55/798 [00:09<02:25,  5.12it/s]"
     ]
    },
    {
     "name": "stdout",
     "output_type": "stream",
     "text": [
      "mask not found:  /Users/jingjiang/Library/CloudStorage/GoogleDrive-michaelniki1988@gmail.com/Shared drives/Jing_Drive/3_Data_Working/CausalConnectome/post_processing/tmsfmri/group_analysis_HRF_all/L_Fp/TEHC_2ndlevel/CausCon_TEHC2088_tms_L_Fp_con_0001_mni.nii\n"
     ]
    },
    {
     "name": "stderr",
     "output_type": "stream",
     "text": [
      " 11%|█▏        | 91/798 [00:16<02:29,  4.74it/s]"
     ]
    },
    {
     "name": "stdout",
     "output_type": "stream",
     "text": [
      "mask not found:  /Users/jingjiang/Library/CloudStorage/GoogleDrive-michaelniki1988@gmail.com/Shared drives/Jing_Drive/3_Data_Working/CausalConnectome/post_processing/tmsfmri/group_analysis_HRF_all/L_aMFG/NTHC_2ndlevel/CausCon_NTHC1057_tms_L_aMFG_con_0001_mni.nii\n"
     ]
    },
    {
     "name": "stderr",
     "output_type": "stream",
     "text": [
      " 12%|█▏        | 97/798 [00:18<03:22,  3.46it/s]"
     ]
    },
    {
     "name": "stdout",
     "output_type": "stream",
     "text": [
      "mask not found:  /Users/jingjiang/Library/CloudStorage/GoogleDrive-michaelniki1988@gmail.com/Shared drives/Jing_Drive/3_Data_Working/CausalConnectome/post_processing/tmsfmri/group_analysis_HRF_all/L_aMFG/NTHC_2ndlevel/CausCon_NTHC1073_tms_L_aMFG_con_0001_mni.nii\n"
     ]
    },
    {
     "name": "stderr",
     "output_type": "stream",
     "text": [
      "\r",
      " 12%|█▏        | 99/798 [00:18<02:53,  4.02it/s]"
     ]
    },
    {
     "name": "stdout",
     "output_type": "stream",
     "text": [
      "mask not found:  /Users/jingjiang/Library/CloudStorage/GoogleDrive-michaelniki1988@gmail.com/Shared drives/Jing_Drive/3_Data_Working/CausalConnectome/post_processing/tmsfmri/group_analysis_HRF_all/L_aMFG/NTHC_2ndlevel/CausCon_NTHC1097_tms_L_aMFG_con_0001_mni.nii\n"
     ]
    },
    {
     "name": "stderr",
     "output_type": "stream",
     "text": [
      " 16%|█▌        | 128/798 [00:23<01:48,  6.20it/s]"
     ]
    },
    {
     "name": "stdout",
     "output_type": "stream",
     "text": [
      "mask not found:  /Users/jingjiang/Library/CloudStorage/GoogleDrive-michaelniki1988@gmail.com/Shared drives/Jing_Drive/3_Data_Working/CausalConnectome/post_processing/tmsfmri/group_analysis_HRF_all/L_aMFG/TEHC_2ndlevel/CausCon_TEHC2064_tms_L_aMFG_con_0001_mni.nii\n",
      "mask not found:  /Users/jingjiang/Library/CloudStorage/GoogleDrive-michaelniki1988@gmail.com/Shared drives/Jing_Drive/3_Data_Working/CausalConnectome/post_processing/tmsfmri/group_analysis_HRF_all/L_aMFG/TEHC_2ndlevel/CausCon_TEHC2066_tms_L_aMFG_con_0001_mni.nii\n",
      "mask not found:  /Users/jingjiang/Library/CloudStorage/GoogleDrive-michaelniki1988@gmail.com/Shared drives/Jing_Drive/3_Data_Working/CausalConnectome/post_processing/tmsfmri/group_analysis_HRF_all/L_aMFG/TEHC_2ndlevel/CausCon_TEHC2069_tms_L_aMFG_con_0001_mni.nii\n",
      "mask not found:  /Users/jingjiang/Library/CloudStorage/GoogleDrive-michaelniki1988@gmail.com/Shared drives/Jing_Drive/3_Data_Working/CausalConnectome/post_processing/tmsfmri/group_analysis_HRF_all/L_aMFG/TEHC_2ndlevel/CausCon_TEHC2074_tms_L_aMFG_con_0001_mni.nii\n",
      "mask not found:  /Users/jingjiang/Library/CloudStorage/GoogleDrive-michaelniki1988@gmail.com/Shared drives/Jing_Drive/3_Data_Working/CausalConnectome/post_processing/tmsfmri/group_analysis_HRF_all/L_aMFG/TEHC_2ndlevel/CausCon_TEHC2075_tms_L_aMFG_con_0001_mni.nii\n"
     ]
    },
    {
     "name": "stderr",
     "output_type": "stream",
     "text": [
      " 17%|█▋        | 137/798 [00:25<01:41,  6.52it/s]"
     ]
    },
    {
     "name": "stdout",
     "output_type": "stream",
     "text": [
      "mask not found:  /Users/jingjiang/Library/CloudStorage/GoogleDrive-michaelniki1988@gmail.com/Shared drives/Jing_Drive/3_Data_Working/CausalConnectome/post_processing/tmsfmri/group_analysis_HRF_all/L_aMFG/TEHC_2ndlevel/CausCon_TEHC2096_tms_L_aMFG_con_0001_mni.nii\n"
     ]
    },
    {
     "name": "stderr",
     "output_type": "stream",
     "text": [
      " 19%|█▉        | 150/798 [00:27<02:15,  4.78it/s]"
     ]
    },
    {
     "name": "stdout",
     "output_type": "stream",
     "text": [
      "mask not found:  /Users/jingjiang/Library/CloudStorage/GoogleDrive-michaelniki1988@gmail.com/Shared drives/Jing_Drive/3_Data_Working/CausalConnectome/post_processing/tmsfmri/group_analysis_HRF_all/L_pMFG/NTHC_2ndlevel/CausCon_NTHC1023_tms_L_pMFG_con_0001_mni.nii\n"
     ]
    },
    {
     "name": "stderr",
     "output_type": "stream",
     "text": [
      " 22%|██▏       | 172/798 [00:31<01:47,  5.84it/s]"
     ]
    },
    {
     "name": "stdout",
     "output_type": "stream",
     "text": [
      "mask not found:  /Users/jingjiang/Library/CloudStorage/GoogleDrive-michaelniki1988@gmail.com/Shared drives/Jing_Drive/3_Data_Working/CausalConnectome/post_processing/tmsfmri/group_analysis_HRF_all/L_pMFG/NTHC_2ndlevel/CausCon_NTHC1057_tms_L_pMFG_con_0001_mni.nii\n"
     ]
    },
    {
     "name": "stderr",
     "output_type": "stream",
     "text": [
      " 22%|██▏       | 177/798 [00:33<02:03,  5.03it/s]"
     ]
    },
    {
     "name": "stdout",
     "output_type": "stream",
     "text": [
      "mask not found:  /Users/jingjiang/Library/CloudStorage/GoogleDrive-michaelniki1988@gmail.com/Shared drives/Jing_Drive/3_Data_Working/CausalConnectome/post_processing/tmsfmri/group_analysis_HRF_all/L_pMFG/NTHC_2ndlevel/CausCon_NTHC1073_tms_L_pMFG_con_0001_mni.nii\n"
     ]
    },
    {
     "name": "stderr",
     "output_type": "stream",
     "text": [
      " 23%|██▎       | 181/798 [00:33<01:31,  6.73it/s]"
     ]
    },
    {
     "name": "stdout",
     "output_type": "stream",
     "text": [
      "mask not found:  /Users/jingjiang/Library/CloudStorage/GoogleDrive-michaelniki1988@gmail.com/Shared drives/Jing_Drive/3_Data_Working/CausalConnectome/post_processing/tmsfmri/group_analysis_HRF_all/L_pMFG/NTHC_2ndlevel/CausCon_NTHC1097_tms_L_pMFG_con_0001_mni.nii\n"
     ]
    },
    {
     "name": "stderr",
     "output_type": "stream",
     "text": [
      " 26%|██▌       | 204/798 [00:38<02:04,  4.77it/s]"
     ]
    },
    {
     "name": "stdout",
     "output_type": "stream",
     "text": [
      "mask not found:  /Users/jingjiang/Library/CloudStorage/GoogleDrive-michaelniki1988@gmail.com/Shared drives/Jing_Drive/3_Data_Working/CausalConnectome/post_processing/tmsfmri/group_analysis_HRF_all/L_pMFG/TEHC_2ndlevel/CausCon_TEHC2064_tms_L_pMFG_con_0001_mni.nii\n"
     ]
    },
    {
     "name": "stderr",
     "output_type": "stream",
     "text": [
      " 26%|██▌       | 208/798 [00:38<01:32,  6.37it/s]"
     ]
    },
    {
     "name": "stdout",
     "output_type": "stream",
     "text": [
      "mask not found:  /Users/jingjiang/Library/CloudStorage/GoogleDrive-michaelniki1988@gmail.com/Shared drives/Jing_Drive/3_Data_Working/CausalConnectome/post_processing/tmsfmri/group_analysis_HRF_all/L_pMFG/TEHC_2ndlevel/CausCon_TEHC2069_tms_L_pMFG_con_0001_mni.nii\n",
      "mask not found:  /Users/jingjiang/Library/CloudStorage/GoogleDrive-michaelniki1988@gmail.com/Shared drives/Jing_Drive/3_Data_Working/CausalConnectome/post_processing/tmsfmri/group_analysis_HRF_all/L_pMFG/TEHC_2ndlevel/CausCon_TEHC2074_tms_L_pMFG_con_0001_mni.nii\n",
      "mask not found:  /Users/jingjiang/Library/CloudStorage/GoogleDrive-michaelniki1988@gmail.com/Shared drives/Jing_Drive/3_Data_Working/CausalConnectome/post_processing/tmsfmri/group_analysis_HRF_all/L_pMFG/TEHC_2ndlevel/CausCon_TEHC2075_tms_L_pMFG_con_0001_mni.nii\n"
     ]
    },
    {
     "name": "stderr",
     "output_type": "stream",
     "text": [
      " 27%|██▋       | 212/798 [00:38<01:29,  6.57it/s]"
     ]
    },
    {
     "name": "stdout",
     "output_type": "stream",
     "text": [
      "mask not found:  /Users/jingjiang/Library/CloudStorage/GoogleDrive-michaelniki1988@gmail.com/Shared drives/Jing_Drive/3_Data_Working/CausalConnectome/post_processing/tmsfmri/group_analysis_HRF_all/L_pMFG/TEHC_2ndlevel/CausCon_TEHC2088_tms_L_pMFG_con_0001_mni.nii\n"
     ]
    },
    {
     "name": "stderr",
     "output_type": "stream",
     "text": [
      " 27%|██▋       | 215/798 [00:39<01:35,  6.12it/s]"
     ]
    },
    {
     "name": "stdout",
     "output_type": "stream",
     "text": [
      "mask not found:  /Users/jingjiang/Library/CloudStorage/GoogleDrive-michaelniki1988@gmail.com/Shared drives/Jing_Drive/3_Data_Working/CausalConnectome/post_processing/tmsfmri/group_analysis_HRF_all/L_pMFG/TEHC_2ndlevel/CausCon_TEHC2096_tms_L_pMFG_con_0001_mni.nii\n"
     ]
    },
    {
     "name": "stderr",
     "output_type": "stream",
     "text": [
      " 29%|██▉       | 231/798 [00:42<01:38,  5.77it/s]"
     ]
    },
    {
     "name": "stdout",
     "output_type": "stream",
     "text": [
      "mask not found:  /Users/jingjiang/Library/CloudStorage/GoogleDrive-michaelniki1988@gmail.com/Shared drives/Jing_Drive/3_Data_Working/CausalConnectome/post_processing/tmsfmri/group_analysis_HRF_all/R_FEF/NTHC_2ndlevel/CausCon_NTHC1023_tms_R_FEF_con_0001_mni.nii\n"
     ]
    },
    {
     "name": "stderr",
     "output_type": "stream",
     "text": [
      " 31%|███       | 249/798 [00:46<02:01,  4.52it/s]"
     ]
    },
    {
     "name": "stdout",
     "output_type": "stream",
     "text": [
      "mask not found:  /Users/jingjiang/Library/CloudStorage/GoogleDrive-michaelniki1988@gmail.com/Shared drives/Jing_Drive/3_Data_Working/CausalConnectome/post_processing/tmsfmri/group_analysis_HRF_all/R_FEF/NTHC_2ndlevel/CausCon_NTHC1057_tms_R_FEF_con_0001_mni.nii\n"
     ]
    },
    {
     "name": "stderr",
     "output_type": "stream",
     "text": [
      " 32%|███▏      | 256/798 [00:47<01:56,  4.64it/s]"
     ]
    },
    {
     "name": "stdout",
     "output_type": "stream",
     "text": [
      "mask not found:  /Users/jingjiang/Library/CloudStorage/GoogleDrive-michaelniki1988@gmail.com/Shared drives/Jing_Drive/3_Data_Working/CausalConnectome/post_processing/tmsfmri/group_analysis_HRF_all/R_FEF/NTHC_2ndlevel/CausCon_NTHC1073_tms_R_FEF_con_0001_mni.nii\n"
     ]
    },
    {
     "name": "stderr",
     "output_type": "stream",
     "text": [
      "\r",
      " 32%|███▏      | 258/798 [00:47<01:40,  5.38it/s]"
     ]
    },
    {
     "name": "stdout",
     "output_type": "stream",
     "text": [
      "mask not found:  /Users/jingjiang/Library/CloudStorage/GoogleDrive-michaelniki1988@gmail.com/Shared drives/Jing_Drive/3_Data_Working/CausalConnectome/post_processing/tmsfmri/group_analysis_HRF_all/R_FEF/NTHC_2ndlevel/CausCon_NTHC1097_tms_R_FEF_con_0001_mni.nii\n"
     ]
    },
    {
     "name": "stderr",
     "output_type": "stream",
     "text": [
      " 33%|███▎      | 266/798 [00:49<01:53,  4.67it/s]"
     ]
    },
    {
     "name": "stdout",
     "output_type": "stream",
     "text": [
      "mask not found:  /Users/jingjiang/Library/CloudStorage/GoogleDrive-michaelniki1988@gmail.com/Shared drives/Jing_Drive/3_Data_Working/CausalConnectome/post_processing/tmsfmri/group_analysis_HRF_all/R_FEF/TEHC_2ndlevel/CausCon_TEHC2005_tms_R_FEF_con_0001_mni.nii\n"
     ]
    },
    {
     "name": "stderr",
     "output_type": "stream",
     "text": [
      " 36%|███▌      | 285/798 [00:52<01:25,  6.00it/s]"
     ]
    },
    {
     "name": "stdout",
     "output_type": "stream",
     "text": [
      "mask not found:  /Users/jingjiang/Library/CloudStorage/GoogleDrive-michaelniki1988@gmail.com/Shared drives/Jing_Drive/3_Data_Working/CausalConnectome/post_processing/tmsfmri/group_analysis_HRF_all/R_FEF/TEHC_2ndlevel/CausCon_TEHC2064_tms_R_FEF_con_0001_mni.nii\n",
      "mask not found:  /Users/jingjiang/Library/CloudStorage/GoogleDrive-michaelniki1988@gmail.com/Shared drives/Jing_Drive/3_Data_Working/CausalConnectome/post_processing/tmsfmri/group_analysis_HRF_all/R_FEF/TEHC_2ndlevel/CausCon_TEHC2066_tms_R_FEF_con_0001_mni.nii\n",
      "mask not found:  /Users/jingjiang/Library/CloudStorage/GoogleDrive-michaelniki1988@gmail.com/Shared drives/Jing_Drive/3_Data_Working/CausalConnectome/post_processing/tmsfmri/group_analysis_HRF_all/R_FEF/TEHC_2ndlevel/CausCon_TEHC2069_tms_R_FEF_con_0001_mni.nii\n",
      "mask not found:  "
     ]
    },
    {
     "name": "stderr",
     "output_type": "stream",
     "text": [
      " 36%|███▋      | 290/798 [00:53<01:40,  5.05it/s]"
     ]
    },
    {
     "name": "stdout",
     "output_type": "stream",
     "text": [
      "/Users/jingjiang/Library/CloudStorage/GoogleDrive-michaelniki1988@gmail.com/Shared drives/Jing_Drive/3_Data_Working/CausalConnectome/post_processing/tmsfmri/group_analysis_HRF_all/R_FEF/TEHC_2ndlevel/CausCon_TEHC2074_tms_R_FEF_con_0001_mni.nii\n",
      "mask not found:  /Users/jingjiang/Library/CloudStorage/GoogleDrive-michaelniki1988@gmail.com/Shared drives/Jing_Drive/3_Data_Working/CausalConnectome/post_processing/tmsfmri/group_analysis_HRF_all/R_FEF/TEHC_2ndlevel/CausCon_TEHC2088_tms_R_FEF_con_0001_mni.nii\n"
     ]
    },
    {
     "name": "stderr",
     "output_type": "stream",
     "text": [
      " 38%|███▊      | 301/798 [00:55<01:42,  4.84it/s]"
     ]
    },
    {
     "name": "stdout",
     "output_type": "stream",
     "text": [
      "mask not found:  /Users/jingjiang/Library/CloudStorage/GoogleDrive-michaelniki1988@gmail.com/Shared drives/Jing_Drive/3_Data_Working/CausalConnectome/post_processing/tmsfmri/group_analysis_HRF_all/R_Fp/NTHC_2ndlevel/CausCon_NTHC1003_tms_R_Fp_con_0001_mni.nii\n"
     ]
    },
    {
     "name": "stderr",
     "output_type": "stream",
     "text": [
      " 39%|███▉      | 313/798 [00:57<01:38,  4.91it/s]"
     ]
    },
    {
     "name": "stdout",
     "output_type": "stream",
     "text": [
      "mask not found:  /Users/jingjiang/Library/CloudStorage/GoogleDrive-michaelniki1988@gmail.com/Shared drives/Jing_Drive/3_Data_Working/CausalConnectome/post_processing/tmsfmri/group_analysis_HRF_all/R_Fp/NTHC_2ndlevel/CausCon_NTHC1043_tms_R_Fp_con_0001_mni.nii\n"
     ]
    },
    {
     "name": "stderr",
     "output_type": "stream",
     "text": [
      " 40%|███▉      | 316/798 [00:58<01:28,  5.47it/s]"
     ]
    },
    {
     "name": "stdout",
     "output_type": "stream",
     "text": [
      "mask not found:  /Users/jingjiang/Library/CloudStorage/GoogleDrive-michaelniki1988@gmail.com/Shared drives/Jing_Drive/3_Data_Working/CausalConnectome/post_processing/tmsfmri/group_analysis_HRF_all/R_Fp/NTHC_2ndlevel/CausCon_NTHC1050_tms_R_Fp_con_0001_mni.nii\n"
     ]
    },
    {
     "name": "stderr",
     "output_type": "stream",
     "text": [
      " 40%|████      | 321/798 [00:58<01:10,  6.72it/s]"
     ]
    },
    {
     "name": "stdout",
     "output_type": "stream",
     "text": [
      "mask not found:  /Users/jingjiang/Library/CloudStorage/GoogleDrive-michaelniki1988@gmail.com/Shared drives/Jing_Drive/3_Data_Working/CausalConnectome/post_processing/tmsfmri/group_analysis_HRF_all/R_Fp/NTHC_2ndlevel/CausCon_NTHC1055_tms_R_Fp_con_0001_mni.nii\n"
     ]
    },
    {
     "name": "stderr",
     "output_type": "stream",
     "text": [
      " 41%|████      | 327/798 [01:00<01:38,  4.80it/s]"
     ]
    },
    {
     "name": "stdout",
     "output_type": "stream",
     "text": [
      "mask not found:  /Users/jingjiang/Library/CloudStorage/GoogleDrive-michaelniki1988@gmail.com/Shared drives/Jing_Drive/3_Data_Working/CausalConnectome/post_processing/tmsfmri/group_analysis_HRF_all/R_Fp/NTHC_2ndlevel/CausCon_NTHC1073_tms_R_Fp_con_0001_mni.nii\n"
     ]
    },
    {
     "name": "stderr",
     "output_type": "stream",
     "text": [
      "\r",
      " 41%|████      | 329/798 [01:00<01:24,  5.54it/s]"
     ]
    },
    {
     "name": "stdout",
     "output_type": "stream",
     "text": [
      "mask not found:  /Users/jingjiang/Library/CloudStorage/GoogleDrive-michaelniki1988@gmail.com/Shared drives/Jing_Drive/3_Data_Working/CausalConnectome/post_processing/tmsfmri/group_analysis_HRF_all/R_Fp/NTHC_2ndlevel/CausCon_NTHC1097_tms_R_Fp_con_0001_mni.nii\n"
     ]
    },
    {
     "name": "stderr",
     "output_type": "stream",
     "text": [
      " 42%|████▏     | 339/798 [01:02<01:36,  4.75it/s]"
     ]
    },
    {
     "name": "stdout",
     "output_type": "stream",
     "text": [
      "mask not found:  /Users/jingjiang/Library/CloudStorage/GoogleDrive-michaelniki1988@gmail.com/Shared drives/Jing_Drive/3_Data_Working/CausalConnectome/post_processing/tmsfmri/group_analysis_HRF_all/R_Fp/TEHC_2ndlevel/CausCon_TEHC2010_tms_R_Fp_con_0001_mni.nii\n"
     ]
    },
    {
     "name": "stderr",
     "output_type": "stream",
     "text": [
      " 43%|████▎     | 346/798 [01:03<01:39,  4.56it/s]"
     ]
    },
    {
     "name": "stdout",
     "output_type": "stream",
     "text": [
      "mask not found:  /Users/jingjiang/Library/CloudStorage/GoogleDrive-michaelniki1988@gmail.com/Shared drives/Jing_Drive/3_Data_Working/CausalConnectome/post_processing/tmsfmri/group_analysis_HRF_all/R_Fp/TEHC_2ndlevel/CausCon_TEHC2047_tms_R_Fp_con_0001_mni.nii\n"
     ]
    },
    {
     "name": "stderr",
     "output_type": "stream",
     "text": [
      " 44%|████▍     | 350/798 [01:04<01:30,  4.97it/s]"
     ]
    },
    {
     "name": "stdout",
     "output_type": "stream",
     "text": [
      "mask not found:  /Users/jingjiang/Library/CloudStorage/GoogleDrive-michaelniki1988@gmail.com/Shared drives/Jing_Drive/3_Data_Working/CausalConnectome/post_processing/tmsfmri/group_analysis_HRF_all/R_Fp/TEHC_2ndlevel/CausCon_TEHC2064_tms_R_Fp_con_0001_mni.nii\n",
      "mask not found:  /Users/jingjiang/Library/CloudStorage/GoogleDrive-michaelniki1988@gmail.com/Shared drives/Jing_Drive/3_Data_Working/CausalConnectome/post_processing/tmsfmri/group_analysis_HRF_all/R_Fp/TEHC_2ndlevel/CausCon_TEHC2066_tms_R_Fp_con_0001_mni.nii\n",
      "mask not found:  /Users/jingjiang/Library/CloudStorage/GoogleDrive-michaelniki1988@gmail.com/Shared drives/Jing_Drive/3_Data_Working/CausalConnectome/post_processing/tmsfmri/group_analysis_HRF_all/R_Fp/TEHC_2ndlevel/CausCon_TEHC2069_tms_R_Fp_con_0001_mni.nii\n"
     ]
    },
    {
     "name": "stderr",
     "output_type": "stream",
     "text": [
      "\r",
      " 44%|████▍     | 354/798 [01:04<01:10,  6.32it/s]"
     ]
    },
    {
     "name": "stdout",
     "output_type": "stream",
     "text": [
      "mask not found:  /Users/jingjiang/Library/CloudStorage/GoogleDrive-michaelniki1988@gmail.com/Shared drives/Jing_Drive/3_Data_Working/CausalConnectome/post_processing/tmsfmri/group_analysis_HRF_all/R_Fp/TEHC_2ndlevel/CausCon_TEHC2074_tms_R_Fp_con_0001_mni.nii\n"
     ]
    },
    {
     "name": "stderr",
     "output_type": "stream",
     "text": [
      " 45%|████▍     | 359/798 [01:05<01:18,  5.60it/s]"
     ]
    },
    {
     "name": "stdout",
     "output_type": "stream",
     "text": [
      "mask not found:  /Users/jingjiang/Library/CloudStorage/GoogleDrive-michaelniki1988@gmail.com/Shared drives/Jing_Drive/3_Data_Working/CausalConnectome/post_processing/tmsfmri/group_analysis_HRF_all/R_Fp/TEHC_2ndlevel/CausCon_TEHC2088_tms_R_Fp_con_0001_mni.nii\n"
     ]
    },
    {
     "name": "stderr",
     "output_type": "stream",
     "text": [
      " 50%|████▉     | 398/798 [01:31<05:56,  1.12it/s]"
     ]
    },
    {
     "name": "stdout",
     "output_type": "stream",
     "text": [
      "mask not found:  /Users/jingjiang/Library/CloudStorage/GoogleDrive-michaelniki1988@gmail.com/Shared drives/Jing_Drive/3_Data_Working/CausalConnectome/post_processing/tmsfmri/group_analysis_HRF_all/R_IFJ/NTHC_2ndlevel/CausCon_NTHC1073_tms_R_IFJ_con_0001_mni.nii\n"
     ]
    },
    {
     "name": "stderr",
     "output_type": "stream",
     "text": [
      "\r",
      " 50%|█████     | 400/798 [01:32<04:52,  1.36it/s]"
     ]
    },
    {
     "name": "stdout",
     "output_type": "stream",
     "text": [
      "mask not found:  /Users/jingjiang/Library/CloudStorage/GoogleDrive-michaelniki1988@gmail.com/Shared drives/Jing_Drive/3_Data_Working/CausalConnectome/post_processing/tmsfmri/group_analysis_HRF_all/R_IFJ/NTHC_2ndlevel/CausCon_NTHC1097_tms_R_IFJ_con_0001_mni.nii\n"
     ]
    },
    {
     "name": "stderr",
     "output_type": "stream",
     "text": [
      " 53%|█████▎    | 419/798 [01:40<01:26,  4.36it/s]"
     ]
    },
    {
     "name": "stdout",
     "output_type": "stream",
     "text": [
      "mask not found:  /Users/jingjiang/Library/CloudStorage/GoogleDrive-michaelniki1988@gmail.com/Shared drives/Jing_Drive/3_Data_Working/CausalConnectome/post_processing/tmsfmri/group_analysis_HRF_all/R_IFJ/TEHC_2ndlevel/CausCon_TEHC2040_tms_R_IFJ_con_0001_mni.nii\n"
     ]
    },
    {
     "name": "stderr",
     "output_type": "stream",
     "text": [
      " 54%|█████▍    | 430/798 [01:41<01:00,  6.05it/s]"
     ]
    },
    {
     "name": "stdout",
     "output_type": "stream",
     "text": [
      "mask not found:  /Users/jingjiang/Library/CloudStorage/GoogleDrive-michaelniki1988@gmail.com/Shared drives/Jing_Drive/3_Data_Working/CausalConnectome/post_processing/tmsfmri/group_analysis_HRF_all/R_IFJ/TEHC_2ndlevel/CausCon_TEHC2064_tms_R_IFJ_con_0001_mni.nii\n",
      "mask not found:  /Users/jingjiang/Library/CloudStorage/GoogleDrive-michaelniki1988@gmail.com/Shared drives/Jing_Drive/3_Data_Working/CausalConnectome/post_processing/tmsfmri/group_analysis_HRF_all/R_IFJ/TEHC_2ndlevel/CausCon_TEHC2066_tms_R_IFJ_con_0001_mni.nii\n",
      "mask not found:  /Users/jingjiang/Library/CloudStorage/GoogleDrive-michaelniki1988@gmail.com/Shared drives/Jing_Drive/3_Data_Working/CausalConnectome/post_processing/tmsfmri/group_analysis_HRF_all/R_IFJ/TEHC_2ndlevel/CausCon_TEHC2069_tms_R_IFJ_con_0001_mni.nii\n",
      "mask not found:  /Users/jingjiang/Library/CloudStorage/GoogleDrive-michaelniki1988@gmail.com/Shared drives/Jing_Drive/3_Data_Working/CausalConnectome/post_processing/tmsfmri/group_analysis_HRF_all/R_IFJ/TEHC_2ndlevel/CausCon_TEHC2074_tms_R_IFJ_con_0001_mni.nii\n",
      "mask not found:  /Users/jingjiang/Library/CloudStorage/GoogleDrive-michaelniki1988@gmail.com/Shared drives/Jing_Drive/3_Data_Working/CausalConnectome/post_processing/tmsfmri/group_analysis_HRF_all/R_IFJ/TEHC_2ndlevel/CausCon_TEHC2075_tms_R_IFJ_con_0001_mni.nii\n"
     ]
    },
    {
     "name": "stderr",
     "output_type": "stream",
     "text": [
      " 55%|█████▍    | 437/798 [01:42<00:51,  7.03it/s]"
     ]
    },
    {
     "name": "stdout",
     "output_type": "stream",
     "text": [
      "mask not found:  /Users/jingjiang/Library/CloudStorage/GoogleDrive-michaelniki1988@gmail.com/Shared drives/Jing_Drive/3_Data_Working/CausalConnectome/post_processing/tmsfmri/group_analysis_HRF_all/R_IFJ/TEHC_2ndlevel/CausCon_TEHC2088_tms_R_IFJ_con_0001_mni.nii\n"
     ]
    },
    {
     "name": "stderr",
     "output_type": "stream",
     "text": [
      " 58%|█████▊    | 459/798 [01:47<00:57,  5.92it/s]"
     ]
    },
    {
     "name": "stdout",
     "output_type": "stream",
     "text": [
      "mask not found:  /Users/jingjiang/Library/CloudStorage/GoogleDrive-michaelniki1988@gmail.com/Shared drives/Jing_Drive/3_Data_Working/CausalConnectome/post_processing/tmsfmri/group_analysis_HRF_all/R_IPL/NTHC_2ndlevel/CausCon_NTHC1057_tms_R_IPL_con_0001_mni.nii\n"
     ]
    },
    {
     "name": "stderr",
     "output_type": "stream",
     "text": [
      " 58%|█████▊    | 463/798 [01:48<01:08,  4.89it/s]"
     ]
    },
    {
     "name": "stdout",
     "output_type": "stream",
     "text": [
      "mask not found:  /Users/jingjiang/Library/CloudStorage/GoogleDrive-michaelniki1988@gmail.com/Shared drives/Jing_Drive/3_Data_Working/CausalConnectome/post_processing/tmsfmri/group_analysis_HRF_all/R_IPL/NTHC_2ndlevel/CausCon_NTHC1073_tms_R_IPL_con_0001_mni.nii\n"
     ]
    },
    {
     "name": "stderr",
     "output_type": "stream",
     "text": [
      "\r",
      " 58%|█████▊    | 465/798 [01:48<00:57,  5.75it/s]"
     ]
    },
    {
     "name": "stdout",
     "output_type": "stream",
     "text": [
      "mask not found:  /Users/jingjiang/Library/CloudStorage/GoogleDrive-michaelniki1988@gmail.com/Shared drives/Jing_Drive/3_Data_Working/CausalConnectome/post_processing/tmsfmri/group_analysis_HRF_all/R_IPL/NTHC_2ndlevel/CausCon_NTHC1097_tms_R_IPL_con_0001_mni.nii\n"
     ]
    },
    {
     "name": "stderr",
     "output_type": "stream",
     "text": [
      " 60%|██████    | 479/798 [05:13<3:46:38, 42.63s/it]"
     ]
    },
    {
     "name": "stdout",
     "output_type": "stream",
     "text": [
      "mask not found:  /Users/jingjiang/Library/CloudStorage/GoogleDrive-michaelniki1988@gmail.com/Shared drives/Jing_Drive/3_Data_Working/CausalConnectome/post_processing/tmsfmri/group_analysis_HRF_all/R_IPL/TEHC_2ndlevel/CausCon_TEHC2064_tms_R_IPL_con_0001_mni.nii\n",
      "mask not found:  /Users/jingjiang/Library/CloudStorage/GoogleDrive-michaelniki1988@gmail.com/Shared drives/Jing_Drive/3_Data_Working/CausalConnectome/post_processing/tmsfmri/group_analysis_HRF_all/R_IPL/TEHC_2ndlevel/CausCon_TEHC2066_tms_R_IPL_con_0001_mni.nii\n"
     ]
    },
    {
     "name": "stderr",
     "output_type": "stream",
     "text": [
      "\r",
      " 60%|██████    | 482/798 [05:13<2:37:17, 29.87s/it]"
     ]
    },
    {
     "name": "stdout",
     "output_type": "stream",
     "text": [
      "mask not found:  /Users/jingjiang/Library/CloudStorage/GoogleDrive-michaelniki1988@gmail.com/Shared drives/Jing_Drive/3_Data_Working/CausalConnectome/post_processing/tmsfmri/group_analysis_HRF_all/R_IPL/TEHC_2ndlevel/CausCon_TEHC2074_tms_R_IPL_con_0001_mni.nii\n"
     ]
    },
    {
     "name": "stderr",
     "output_type": "stream",
     "text": [
      " 61%|██████    | 487/798 [05:14<38:34,  7.44s/it]  "
     ]
    },
    {
     "name": "stdout",
     "output_type": "stream",
     "text": [
      "mask not found:  /Users/jingjiang/Library/CloudStorage/GoogleDrive-michaelniki1988@gmail.com/Shared drives/Jing_Drive/3_Data_Working/CausalConnectome/post_processing/tmsfmri/group_analysis_HRF_all/R_IPL/TEHC_2ndlevel/CausCon_TEHC2088_tms_R_IPL_con_0001_mni.nii\n"
     ]
    },
    {
     "name": "stderr",
     "output_type": "stream",
     "text": [
      " 63%|██████▎   | 503/798 [05:18<01:34,  3.11it/s]"
     ]
    },
    {
     "name": "stdout",
     "output_type": "stream",
     "text": [
      "mask not found:  /Users/jingjiang/Library/CloudStorage/GoogleDrive-michaelniki1988@gmail.com/Shared drives/Jing_Drive/3_Data_Working/CausalConnectome/post_processing/tmsfmri/group_analysis_HRF_all/R_M1/NTHC_2ndlevel/CausCon_NTHC1023_tms_R_M1_con_0001_mni.nii\n"
     ]
    },
    {
     "name": "stderr",
     "output_type": "stream",
     "text": [
      " 66%|██████▌   | 523/798 [05:23<01:10,  3.92it/s]"
     ]
    },
    {
     "name": "stdout",
     "output_type": "stream",
     "text": [
      "mask not found:  /Users/jingjiang/Library/CloudStorage/GoogleDrive-michaelniki1988@gmail.com/Shared drives/Jing_Drive/3_Data_Working/CausalConnectome/post_processing/tmsfmri/group_analysis_HRF_all/R_M1/NTHC_2ndlevel/CausCon_NTHC1057_tms_R_M1_con_0001_mni.nii\n"
     ]
    },
    {
     "name": "stderr",
     "output_type": "stream",
     "text": [
      " 66%|██████▋   | 529/798 [05:25<01:07,  3.96it/s]"
     ]
    },
    {
     "name": "stdout",
     "output_type": "stream",
     "text": [
      "mask not found:  /Users/jingjiang/Library/CloudStorage/GoogleDrive-michaelniki1988@gmail.com/Shared drives/Jing_Drive/3_Data_Working/CausalConnectome/post_processing/tmsfmri/group_analysis_HRF_all/R_M1/NTHC_2ndlevel/CausCon_NTHC1073_tms_R_M1_con_0001_mni.nii\n"
     ]
    },
    {
     "name": "stderr",
     "output_type": "stream",
     "text": [
      "\r",
      " 67%|██████▋   | 531/798 [05:25<00:57,  4.68it/s]"
     ]
    },
    {
     "name": "stdout",
     "output_type": "stream",
     "text": [
      "mask not found:  /Users/jingjiang/Library/CloudStorage/GoogleDrive-michaelniki1988@gmail.com/Shared drives/Jing_Drive/3_Data_Working/CausalConnectome/post_processing/tmsfmri/group_analysis_HRF_all/R_M1/NTHC_2ndlevel/CausCon_NTHC1097_tms_R_M1_con_0001_mni.nii\n"
     ]
    },
    {
     "name": "stderr",
     "output_type": "stream",
     "text": [
      " 70%|██████▉   | 556/798 [05:31<00:54,  4.42it/s]"
     ]
    },
    {
     "name": "stdout",
     "output_type": "stream",
     "text": [
      "mask not found:  /Users/jingjiang/Library/CloudStorage/GoogleDrive-michaelniki1988@gmail.com/Shared drives/Jing_Drive/3_Data_Working/CausalConnectome/post_processing/tmsfmri/group_analysis_HRF_all/R_M1/TEHC_2ndlevel/CausCon_TEHC2064_tms_R_M1_con_0001_mni.nii\n",
      "mask not found:  /Users/jingjiang/Library/CloudStorage/GoogleDrive-michaelniki1988@gmail.com/Shared drives/Jing_Drive/3_Data_Working/CausalConnectome/post_processing/tmsfmri/group_analysis_HRF_all/R_M1/TEHC_2ndlevel/CausCon_TEHC2066_tms_R_M1_con_0001_mni.nii\n",
      "mask not found:  /Users/jingjiang/Library/CloudStorage/GoogleDrive-michaelniki1988@gmail.com/Shared drives/Jing_Drive/3_Data_Working/CausalConnectome/post_processing/tmsfmri/group_analysis_HRF_all/R_M1/TEHC_2ndlevel/CausCon_TEHC2069_tms_R_M1_con_0001_mni.nii\n"
     ]
    },
    {
     "name": "stderr",
     "output_type": "stream",
     "text": [
      "\r",
      " 70%|███████   | 560/798 [05:31<00:42,  5.66it/s]"
     ]
    },
    {
     "name": "stdout",
     "output_type": "stream",
     "text": [
      "mask not found:  /Users/jingjiang/Library/CloudStorage/GoogleDrive-michaelniki1988@gmail.com/Shared drives/Jing_Drive/3_Data_Working/CausalConnectome/post_processing/tmsfmri/group_analysis_HRF_all/R_M1/TEHC_2ndlevel/CausCon_TEHC2074_tms_R_M1_con_0001_mni.nii\n"
     ]
    },
    {
     "name": "stderr",
     "output_type": "stream",
     "text": [
      " 71%|███████   | 565/798 [05:32<00:44,  5.23it/s]"
     ]
    },
    {
     "name": "stdout",
     "output_type": "stream",
     "text": [
      "mask not found:  /Users/jingjiang/Library/CloudStorage/GoogleDrive-michaelniki1988@gmail.com/Shared drives/Jing_Drive/3_Data_Working/CausalConnectome/post_processing/tmsfmri/group_analysis_HRF_all/R_M1/TEHC_2ndlevel/CausCon_TEHC2088_tms_R_M1_con_0001_mni.nii\n"
     ]
    },
    {
     "name": "stderr",
     "output_type": "stream",
     "text": [
      " 75%|███████▌  | 602/798 [05:40<00:40,  4.82it/s]"
     ]
    },
    {
     "name": "stdout",
     "output_type": "stream",
     "text": [
      "mask not found:  /Users/jingjiang/Library/CloudStorage/GoogleDrive-michaelniki1988@gmail.com/Shared drives/Jing_Drive/3_Data_Working/CausalConnectome/post_processing/tmsfmri/group_analysis_HRF_all/R_aMFG/NTHC_2ndlevel/CausCon_NTHC1057_tms_R_aMFG_con_0001_mni.nii\n"
     ]
    },
    {
     "name": "stderr",
     "output_type": "stream",
     "text": [
      " 76%|███████▋  | 609/798 [05:41<00:42,  4.50it/s]"
     ]
    },
    {
     "name": "stdout",
     "output_type": "stream",
     "text": [
      "mask not found:  /Users/jingjiang/Library/CloudStorage/GoogleDrive-michaelniki1988@gmail.com/Shared drives/Jing_Drive/3_Data_Working/CausalConnectome/post_processing/tmsfmri/group_analysis_HRF_all/R_aMFG/NTHC_2ndlevel/CausCon_NTHC1073_tms_R_aMFG_con_0001_mni.nii\n"
     ]
    },
    {
     "name": "stderr",
     "output_type": "stream",
     "text": [
      "\r",
      " 77%|███████▋  | 611/798 [05:41<00:35,  5.28it/s]"
     ]
    },
    {
     "name": "stdout",
     "output_type": "stream",
     "text": [
      "mask not found:  /Users/jingjiang/Library/CloudStorage/GoogleDrive-michaelniki1988@gmail.com/Shared drives/Jing_Drive/3_Data_Working/CausalConnectome/post_processing/tmsfmri/group_analysis_HRF_all/R_aMFG/NTHC_2ndlevel/CausCon_NTHC1097_tms_R_aMFG_con_0001_mni.nii\n"
     ]
    },
    {
     "name": "stderr",
     "output_type": "stream",
     "text": [
      " 80%|███████▉  | 637/798 [05:47<00:33,  4.75it/s]"
     ]
    },
    {
     "name": "stdout",
     "output_type": "stream",
     "text": [
      "mask not found:  /Users/jingjiang/Library/CloudStorage/GoogleDrive-michaelniki1988@gmail.com/Shared drives/Jing_Drive/3_Data_Working/CausalConnectome/post_processing/tmsfmri/group_analysis_HRF_all/R_aMFG/TEHC_2ndlevel/CausCon_TEHC2064_tms_R_aMFG_con_0001_mni.nii\n",
      "mask not found:  /Users/jingjiang/Library/CloudStorage/GoogleDrive-michaelniki1988@gmail.com/Shared drives/Jing_Drive/3_Data_Working/CausalConnectome/post_processing/tmsfmri/group_analysis_HRF_all/R_aMFG/TEHC_2ndlevel/CausCon_TEHC2066_tms_R_aMFG_con_0001_mni.nii\n",
      "mask not found:  /Users/jingjiang/Library/CloudStorage/GoogleDrive-michaelniki1988@gmail.com/Shared drives/Jing_Drive/3_Data_Working/CausalConnectome/post_processing/tmsfmri/group_analysis_HRF_all/R_aMFG/TEHC_2ndlevel/CausCon_TEHC2069_tms_R_aMFG_con_0001_mni.nii\n",
      "mask not found:  /Users/jingjiang/Library/CloudStorage/GoogleDrive-michaelniki1988@gmail.com/Shared drives/Jing_Drive/3_Data_Working/CausalConnectome/post_processing/tmsfmri/group_analysis_HRF_all/R_aMFG/TEHC_2ndlevel/CausCon_TEHC2074_tms_R_aMFG_con_0001_mni.nii\n"
     ]
    },
    {
     "name": "stderr",
     "output_type": "stream",
     "text": [
      " 81%|████████  | 645/798 [05:47<00:28,  5.41it/s]"
     ]
    },
    {
     "name": "stdout",
     "output_type": "stream",
     "text": [
      "mask not found:  /Users/jingjiang/Library/CloudStorage/GoogleDrive-michaelniki1988@gmail.com/Shared drives/Jing_Drive/3_Data_Working/CausalConnectome/post_processing/tmsfmri/group_analysis_HRF_all/R_aMFG/TEHC_2ndlevel/CausCon_TEHC2088_tms_R_aMFG_con_0001_mni.nii\n"
     ]
    },
    {
     "name": "stderr",
     "output_type": "stream",
     "text": [
      " 83%|████████▎ | 663/798 [05:51<00:26,  5.03it/s]"
     ]
    },
    {
     "name": "stdout",
     "output_type": "stream",
     "text": [
      "mask not found:  /Users/jingjiang/Library/CloudStorage/GoogleDrive-michaelniki1988@gmail.com/Shared drives/Jing_Drive/3_Data_Working/CausalConnectome/post_processing/tmsfmri/group_analysis_HRF_all/R_pMFG/NTHC_2ndlevel/CausCon_NTHC1023_tms_R_pMFG_con_0001_mni.nii\n"
     ]
    },
    {
     "name": "stderr",
     "output_type": "stream",
     "text": [
      " 86%|████████▌ | 685/798 [05:55<00:21,  5.33it/s]"
     ]
    },
    {
     "name": "stdout",
     "output_type": "stream",
     "text": [
      "mask not found:  /Users/jingjiang/Library/CloudStorage/GoogleDrive-michaelniki1988@gmail.com/Shared drives/Jing_Drive/3_Data_Working/CausalConnectome/post_processing/tmsfmri/group_analysis_HRF_all/R_pMFG/NTHC_2ndlevel/CausCon_NTHC1057_tms_R_pMFG_con_0001_mni.nii\n"
     ]
    },
    {
     "name": "stderr",
     "output_type": "stream",
     "text": [
      " 86%|████████▋ | 689/798 [05:56<00:22,  4.94it/s]"
     ]
    },
    {
     "name": "stdout",
     "output_type": "stream",
     "text": [
      "mask not found:  /Users/jingjiang/Library/CloudStorage/GoogleDrive-michaelniki1988@gmail.com/Shared drives/Jing_Drive/3_Data_Working/CausalConnectome/post_processing/tmsfmri/group_analysis_HRF_all/R_pMFG/NTHC_2ndlevel/CausCon_NTHC1073_tms_R_pMFG_con_0001_mni.nii\n"
     ]
    },
    {
     "name": "stderr",
     "output_type": "stream",
     "text": [
      "\r",
      " 87%|████████▋ | 691/798 [05:56<00:18,  5.80it/s]"
     ]
    },
    {
     "name": "stdout",
     "output_type": "stream",
     "text": [
      "mask not found:  /Users/jingjiang/Library/CloudStorage/GoogleDrive-michaelniki1988@gmail.com/Shared drives/Jing_Drive/3_Data_Working/CausalConnectome/post_processing/tmsfmri/group_analysis_HRF_all/R_pMFG/NTHC_2ndlevel/CausCon_NTHC1097_tms_R_pMFG_con_0001_mni.nii\n"
     ]
    },
    {
     "name": "stderr",
     "output_type": "stream",
     "text": [
      " 90%|████████▉ | 716/798 [06:02<00:16,  4.90it/s]"
     ]
    },
    {
     "name": "stdout",
     "output_type": "stream",
     "text": [
      "mask not found:  /Users/jingjiang/Library/CloudStorage/GoogleDrive-michaelniki1988@gmail.com/Shared drives/Jing_Drive/3_Data_Working/CausalConnectome/post_processing/tmsfmri/group_analysis_HRF_all/R_pMFG/TEHC_2ndlevel/CausCon_TEHC2064_tms_R_pMFG_con_0001_mni.nii\n",
      "mask not found:  /Users/jingjiang/Library/CloudStorage/GoogleDrive-michaelniki1988@gmail.com/Shared drives/Jing_Drive/3_Data_Working/CausalConnectome/post_processing/tmsfmri/group_analysis_HRF_all/R_pMFG/TEHC_2ndlevel/CausCon_TEHC2066_tms_R_pMFG_con_0001_mni.nii\n",
      "mask not found:  /Users/jingjiang/Library/CloudStorage/GoogleDrive-michaelniki1988@gmail.com/Shared drives/Jing_Drive/3_Data_Working/CausalConnectome/post_processing/tmsfmri/group_analysis_HRF_all/R_pMFG/TEHC_2ndlevel/CausCon_TEHC2069_tms_R_pMFG_con_0001_mni.nii\n"
     ]
    },
    {
     "name": "stderr",
     "output_type": "stream",
     "text": [
      "\r",
      " 90%|█████████ | 720/798 [06:02<00:12,  6.24it/s]"
     ]
    },
    {
     "name": "stdout",
     "output_type": "stream",
     "text": [
      "mask not found:  /Users/jingjiang/Library/CloudStorage/GoogleDrive-michaelniki1988@gmail.com/Shared drives/Jing_Drive/3_Data_Working/CausalConnectome/post_processing/tmsfmri/group_analysis_HRF_all/R_pMFG/TEHC_2ndlevel/CausCon_TEHC2074_tms_R_pMFG_con_0001_mni.nii\n"
     ]
    },
    {
     "name": "stderr",
     "output_type": "stream",
     "text": [
      " 91%|█████████ | 727/798 [06:03<00:10,  6.49it/s]"
     ]
    },
    {
     "name": "stdout",
     "output_type": "stream",
     "text": [
      "mask not found:  /Users/jingjiang/Library/CloudStorage/GoogleDrive-michaelniki1988@gmail.com/Shared drives/Jing_Drive/3_Data_Working/CausalConnectome/post_processing/tmsfmri/group_analysis_HRF_all/R_pMFG/TEHC_2ndlevel/CausCon_TEHC2088_tms_R_pMFG_con_0001_mni.nii\n"
     ]
    },
    {
     "name": "stderr",
     "output_type": "stream",
     "text": [
      " 93%|█████████▎| 739/798 [06:05<00:12,  4.63it/s]"
     ]
    },
    {
     "name": "stdout",
     "output_type": "stream",
     "text": [
      "mask not found:  /Users/jingjiang/Library/CloudStorage/GoogleDrive-michaelniki1988@gmail.com/Shared drives/Jing_Drive/3_Data_Working/CausalConnectome/post_processing/tmsfmri/group_analysis_HRF_all/R_preSMA/NTHC_2ndlevel/CausCon_NTHC1023_tms_R_preSMA_con_0001_mni.nii\n"
     ]
    },
    {
     "name": "stderr",
     "output_type": "stream",
     "text": [
      " 95%|█████████▌| 762/798 [06:10<00:08,  4.38it/s]"
     ]
    },
    {
     "name": "stdout",
     "output_type": "stream",
     "text": [
      "mask not found:  /Users/jingjiang/Library/CloudStorage/GoogleDrive-michaelniki1988@gmail.com/Shared drives/Jing_Drive/3_Data_Working/CausalConnectome/post_processing/tmsfmri/group_analysis_HRF_all/R_preSMA/NTHC_2ndlevel/CausCon_NTHC1073_tms_R_preSMA_con_0001_mni.nii\n"
     ]
    },
    {
     "name": "stderr",
     "output_type": "stream",
     "text": [
      "\r",
      " 96%|█████████▌| 764/798 [06:10<00:06,  5.19it/s]"
     ]
    },
    {
     "name": "stdout",
     "output_type": "stream",
     "text": [
      "mask not found:  /Users/jingjiang/Library/CloudStorage/GoogleDrive-michaelniki1988@gmail.com/Shared drives/Jing_Drive/3_Data_Working/CausalConnectome/post_processing/tmsfmri/group_analysis_HRF_all/R_preSMA/NTHC_2ndlevel/CausCon_NTHC1097_tms_R_preSMA_con_0001_mni.nii\n"
     ]
    },
    {
     "name": "stderr",
     "output_type": "stream",
     "text": [
      " 98%|█████████▊| 785/798 [06:15<00:02,  4.75it/s]"
     ]
    },
    {
     "name": "stdout",
     "output_type": "stream",
     "text": [
      "mask not found:  /Users/jingjiang/Library/CloudStorage/GoogleDrive-michaelniki1988@gmail.com/Shared drives/Jing_Drive/3_Data_Working/CausalConnectome/post_processing/tmsfmri/group_analysis_HRF_all/R_preSMA/TEHC_2ndlevel/CausCon_TEHC2064_tms_R_preSMA_con_0001_mni.nii\n",
      "mask not found:  /Users/jingjiang/Library/CloudStorage/GoogleDrive-michaelniki1988@gmail.com/Shared drives/Jing_Drive/3_Data_Working/CausalConnectome/post_processing/tmsfmri/group_analysis_HRF_all/R_preSMA/TEHC_2ndlevel/CausCon_TEHC2066_tms_R_preSMA_con_0001_mni.nii\n",
      "mask not found:  /Users/jingjiang/Library/CloudStorage/GoogleDrive-michaelniki1988@gmail.com/Shared drives/Jing_Drive/3_Data_Working/CausalConnectome/post_processing/tmsfmri/group_analysis_HRF_all/R_preSMA/TEHC_2ndlevel/CausCon_TEHC2069_tms_R_preSMA_con_0001_mni.nii\n"
     ]
    },
    {
     "name": "stderr",
     "output_type": "stream",
     "text": [
      " 99%|█████████▉| 792/798 [06:16<00:01,  4.94it/s]"
     ]
    },
    {
     "name": "stdout",
     "output_type": "stream",
     "text": [
      "mask not found:  /Users/jingjiang/Library/CloudStorage/GoogleDrive-michaelniki1988@gmail.com/Shared drives/Jing_Drive/3_Data_Working/CausalConnectome/post_processing/tmsfmri/group_analysis_HRF_all/R_preSMA/TEHC_2ndlevel/CausCon_TEHC2088_tms_R_preSMA_con_0001_mni.nii\n"
     ]
    },
    {
     "name": "stderr",
     "output_type": "stream",
     "text": [
      "100%|██████████| 798/798 [06:17<00:00,  2.12it/s]\n"
     ]
    }
   ],
   "source": [
    "# individual roi 10mm - 6mm:\n",
    "roi_dir = base_dir + \"/3_Data_Working/CausalConnectome/post_processing/tmsfmri/William/Nov_3/tms_spheres/\"\n",
    "    \n",
    "tms_site_response = []\n",
    "for i in trange(len(complete_df)):\n",
    "    image_name = complete_df.iloc[i]['inputfile']\n",
    "    site = complete_df.iloc[i]['site'].replace('_', '-')\n",
    "    subject = complete_df.iloc[i]['subject']\n",
    "    \n",
    "    mask_file = glob(roi_dir + site + \"/\" + str(subject) + \"_10-6mm.nii.gz\")\n",
    "    \n",
    "    if mask_file:\n",
    "        try:\n",
    "            nifti_masker = maskers.NiftiMasker(mask_file[0]).fit()\n",
    "            tms_site_response.append(np.mean(nifti_masker.transform(image_name)))\n",
    "        except:\n",
    "            tms_site_response.append(np.nan)\n",
    "            print(\"error occurs for mask: \", mask_file[0])\n",
    "    else:\n",
    "        tms_site_response.append(np.nan)\n",
    "        print(\"mask not found: \", image_name)\n",
    "\n",
    "complete_df['tms_site_response_individual_10-6mm'] = tms_site_response\n",
    "# complete_df.to_csv(out_dir + out_file_name, index=False)"
   ]
  },
  {
   "cell_type": "code",
   "execution_count": 12,
   "metadata": {},
   "outputs": [
    {
     "data": {
      "text/html": [
       "<div>\n",
       "<style scoped>\n",
       "    .dataframe tbody tr th:only-of-type {\n",
       "        vertical-align: middle;\n",
       "    }\n",
       "\n",
       "    .dataframe tbody tr th {\n",
       "        vertical-align: top;\n",
       "    }\n",
       "\n",
       "    .dataframe thead th {\n",
       "        text-align: right;\n",
       "    }\n",
       "</style>\n",
       "<table border=\"1\" class=\"dataframe\">\n",
       "  <thead>\n",
       "    <tr style=\"text-align: right;\">\n",
       "      <th></th>\n",
       "      <th>inputfile</th>\n",
       "      <th>subject</th>\n",
       "      <th>site</th>\n",
       "      <th>group</th>\n",
       "      <th>tms_site_response_standard</th>\n",
       "      <th>tms_site_response_individual_6mm</th>\n",
       "      <th>tms_site_response_individual_10mm</th>\n",
       "      <th>tms_site_response_individual_14mm</th>\n",
       "      <th>tms_site_response_individual_14-10mm</th>\n",
       "      <th>tms_site_response_individual_10-6mm</th>\n",
       "    </tr>\n",
       "  </thead>\n",
       "  <tbody>\n",
       "    <tr>\n",
       "      <th>0</th>\n",
       "      <td>/Users/jingjiang/Library/CloudStorage/GoogleDr...</td>\n",
       "      <td>1001</td>\n",
       "      <td>L_Fp</td>\n",
       "      <td>NTHC</td>\n",
       "      <td>0.287125</td>\n",
       "      <td>0.439684</td>\n",
       "      <td>0.456288</td>\n",
       "      <td>0.395807</td>\n",
       "      <td>0.354767</td>\n",
       "      <td>0.462649</td>\n",
       "    </tr>\n",
       "    <tr>\n",
       "      <th>1</th>\n",
       "      <td>/Users/jingjiang/Library/CloudStorage/GoogleDr...</td>\n",
       "      <td>1003</td>\n",
       "      <td>L_Fp</td>\n",
       "      <td>NTHC</td>\n",
       "      <td>-1.260076</td>\n",
       "      <td>1.178456</td>\n",
       "      <td>0.916780</td>\n",
       "      <td>0.524276</td>\n",
       "      <td>0.390585</td>\n",
       "      <td>0.894974</td>\n",
       "    </tr>\n",
       "    <tr>\n",
       "      <th>2</th>\n",
       "      <td>/Users/jingjiang/Library/CloudStorage/GoogleDr...</td>\n",
       "      <td>1036</td>\n",
       "      <td>L_Fp</td>\n",
       "      <td>NTHC</td>\n",
       "      <td>-1.618781</td>\n",
       "      <td>-1.208849</td>\n",
       "      <td>-1.281960</td>\n",
       "      <td>-1.378883</td>\n",
       "      <td>-1.432572</td>\n",
       "      <td>-1.302709</td>\n",
       "    </tr>\n",
       "    <tr>\n",
       "      <th>3</th>\n",
       "      <td>/Users/jingjiang/Library/CloudStorage/GoogleDr...</td>\n",
       "      <td>1037</td>\n",
       "      <td>L_Fp</td>\n",
       "      <td>NTHC</td>\n",
       "      <td>-0.337557</td>\n",
       "      <td>NaN</td>\n",
       "      <td>NaN</td>\n",
       "      <td>NaN</td>\n",
       "      <td>NaN</td>\n",
       "      <td>NaN</td>\n",
       "    </tr>\n",
       "    <tr>\n",
       "      <th>4</th>\n",
       "      <td>/Users/jingjiang/Library/CloudStorage/GoogleDr...</td>\n",
       "      <td>1038</td>\n",
       "      <td>L_Fp</td>\n",
       "      <td>NTHC</td>\n",
       "      <td>-0.523261</td>\n",
       "      <td>0.030765</td>\n",
       "      <td>0.065123</td>\n",
       "      <td>-0.066875</td>\n",
       "      <td>-0.118009</td>\n",
       "      <td>0.069139</td>\n",
       "    </tr>\n",
       "    <tr>\n",
       "      <th>...</th>\n",
       "      <td>...</td>\n",
       "      <td>...</td>\n",
       "      <td>...</td>\n",
       "      <td>...</td>\n",
       "      <td>...</td>\n",
       "      <td>...</td>\n",
       "      <td>...</td>\n",
       "      <td>...</td>\n",
       "      <td>...</td>\n",
       "      <td>...</td>\n",
       "    </tr>\n",
       "    <tr>\n",
       "      <th>793</th>\n",
       "      <td>/Users/jingjiang/Library/CloudStorage/GoogleDr...</td>\n",
       "      <td>2090</td>\n",
       "      <td>R_preSMA</td>\n",
       "      <td>TEHC</td>\n",
       "      <td>0.214189</td>\n",
       "      <td>-0.228209</td>\n",
       "      <td>-0.128205</td>\n",
       "      <td>0.078518</td>\n",
       "      <td>0.208812</td>\n",
       "      <td>-0.092598</td>\n",
       "    </tr>\n",
       "    <tr>\n",
       "      <th>794</th>\n",
       "      <td>/Users/jingjiang/Library/CloudStorage/GoogleDr...</td>\n",
       "      <td>2093</td>\n",
       "      <td>R_preSMA</td>\n",
       "      <td>TEHC</td>\n",
       "      <td>0.155220</td>\n",
       "      <td>0.220501</td>\n",
       "      <td>0.183733</td>\n",
       "      <td>0.107853</td>\n",
       "      <td>0.057474</td>\n",
       "      <td>0.168976</td>\n",
       "    </tr>\n",
       "    <tr>\n",
       "      <th>795</th>\n",
       "      <td>/Users/jingjiang/Library/CloudStorage/GoogleDr...</td>\n",
       "      <td>2102</td>\n",
       "      <td>R_preSMA</td>\n",
       "      <td>TEHC</td>\n",
       "      <td>-0.534299</td>\n",
       "      <td>-1.183636</td>\n",
       "      <td>-0.868778</td>\n",
       "      <td>-0.557893</td>\n",
       "      <td>-0.361947</td>\n",
       "      <td>-0.756670</td>\n",
       "    </tr>\n",
       "    <tr>\n",
       "      <th>796</th>\n",
       "      <td>/Users/jingjiang/Library/CloudStorage/GoogleDr...</td>\n",
       "      <td>2105</td>\n",
       "      <td>R_preSMA</td>\n",
       "      <td>TEHC</td>\n",
       "      <td>-0.217289</td>\n",
       "      <td>-1.108896</td>\n",
       "      <td>-0.575760</td>\n",
       "      <td>-0.114780</td>\n",
       "      <td>0.170221</td>\n",
       "      <td>-0.383482</td>\n",
       "    </tr>\n",
       "    <tr>\n",
       "      <th>797</th>\n",
       "      <td>/Users/jingjiang/Library/CloudStorage/GoogleDr...</td>\n",
       "      <td>2108</td>\n",
       "      <td>R_preSMA</td>\n",
       "      <td>TEHC</td>\n",
       "      <td>-0.939149</td>\n",
       "      <td>-1.016016</td>\n",
       "      <td>-1.058539</td>\n",
       "      <td>-1.115993</td>\n",
       "      <td>-1.151514</td>\n",
       "      <td>-1.073875</td>\n",
       "    </tr>\n",
       "  </tbody>\n",
       "</table>\n",
       "<p>798 rows × 10 columns</p>\n",
       "</div>"
      ],
      "text/plain": [
       "                                             inputfile  subject      site  \\\n",
       "0    /Users/jingjiang/Library/CloudStorage/GoogleDr...     1001      L_Fp   \n",
       "1    /Users/jingjiang/Library/CloudStorage/GoogleDr...     1003      L_Fp   \n",
       "2    /Users/jingjiang/Library/CloudStorage/GoogleDr...     1036      L_Fp   \n",
       "3    /Users/jingjiang/Library/CloudStorage/GoogleDr...     1037      L_Fp   \n",
       "4    /Users/jingjiang/Library/CloudStorage/GoogleDr...     1038      L_Fp   \n",
       "..                                                 ...      ...       ...   \n",
       "793  /Users/jingjiang/Library/CloudStorage/GoogleDr...     2090  R_preSMA   \n",
       "794  /Users/jingjiang/Library/CloudStorage/GoogleDr...     2093  R_preSMA   \n",
       "795  /Users/jingjiang/Library/CloudStorage/GoogleDr...     2102  R_preSMA   \n",
       "796  /Users/jingjiang/Library/CloudStorage/GoogleDr...     2105  R_preSMA   \n",
       "797  /Users/jingjiang/Library/CloudStorage/GoogleDr...     2108  R_preSMA   \n",
       "\n",
       "    group  tms_site_response_standard  tms_site_response_individual_6mm  \\\n",
       "0    NTHC                    0.287125                          0.439684   \n",
       "1    NTHC                   -1.260076                          1.178456   \n",
       "2    NTHC                   -1.618781                         -1.208849   \n",
       "3    NTHC                   -0.337557                               NaN   \n",
       "4    NTHC                   -0.523261                          0.030765   \n",
       "..    ...                         ...                               ...   \n",
       "793  TEHC                    0.214189                         -0.228209   \n",
       "794  TEHC                    0.155220                          0.220501   \n",
       "795  TEHC                   -0.534299                         -1.183636   \n",
       "796  TEHC                   -0.217289                         -1.108896   \n",
       "797  TEHC                   -0.939149                         -1.016016   \n",
       "\n",
       "     tms_site_response_individual_10mm  tms_site_response_individual_14mm  \\\n",
       "0                             0.456288                           0.395807   \n",
       "1                             0.916780                           0.524276   \n",
       "2                            -1.281960                          -1.378883   \n",
       "3                                  NaN                                NaN   \n",
       "4                             0.065123                          -0.066875   \n",
       "..                                 ...                                ...   \n",
       "793                          -0.128205                           0.078518   \n",
       "794                           0.183733                           0.107853   \n",
       "795                          -0.868778                          -0.557893   \n",
       "796                          -0.575760                          -0.114780   \n",
       "797                          -1.058539                          -1.115993   \n",
       "\n",
       "     tms_site_response_individual_14-10mm  tms_site_response_individual_10-6mm  \n",
       "0                                0.354767                             0.462649  \n",
       "1                                0.390585                             0.894974  \n",
       "2                               -1.432572                            -1.302709  \n",
       "3                                     NaN                                  NaN  \n",
       "4                               -0.118009                             0.069139  \n",
       "..                                    ...                                  ...  \n",
       "793                              0.208812                            -0.092598  \n",
       "794                              0.057474                             0.168976  \n",
       "795                             -0.361947                            -0.756670  \n",
       "796                              0.170221                            -0.383482  \n",
       "797                             -1.151514                            -1.073875  \n",
       "\n",
       "[798 rows x 10 columns]"
      ]
     },
     "execution_count": 12,
     "metadata": {},
     "output_type": "execute_result"
    }
   ],
   "source": [
    "# complete_df.to_csv(out_dir + out_file_name, index=False)\n",
    "complete_df"
   ]
  }
 ],
 "metadata": {
  "kernelspec": {
   "display_name": "Python 3",
   "language": "python",
   "name": "python3"
  },
  "language_info": {
   "codemirror_mode": {
    "name": "ipython",
    "version": 3
   },
   "file_extension": ".py",
   "mimetype": "text/x-python",
   "name": "python",
   "nbconvert_exporter": "python",
   "pygments_lexer": "ipython3",
   "version": "3.8.3"
  }
 },
 "nbformat": 4,
 "nbformat_minor": 5
}
